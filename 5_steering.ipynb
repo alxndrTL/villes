{
 "cells": [
  {
   "cell_type": "code",
   "execution_count": 5,
   "metadata": {},
   "outputs": [],
   "source": [
    "import torch\n",
    "import torch.nn as nn\n",
    "import torch.nn.functional as F\n",
    "\n",
    "from transformer import TransformerConfig\n",
    "from lm import LM\n",
    "\n",
    "from data import get_tokenizers"
   ]
  },
  {
   "cell_type": "code",
   "execution_count": 7,
   "metadata": {},
   "outputs": [],
   "source": [
    "config = TransformerConfig(d_model=128, n_layers=1, n_heads=4, max_len=47, dropout=0.)\n",
    "model = LM(config, vocab_size=46)\n",
    "model.load_state_dict(torch.load(\"transformer.pth\"))\n",
    "\n",
    "char_to_int, int_to_char = get_tokenizers()"
   ]
  },
  {
   "cell_type": "code",
   "execution_count": 305,
   "metadata": {},
   "outputs": [],
   "source": [
    "def sample(self, prompt = \"\", g = torch.Generator()):\n",
    "    idx = torch.tensor([char_to_int[c] for c in prompt], dtype=torch.int32).unsqueeze(0)\n",
    "    idx = torch.cat([torch.tensor(char_to_int['<SOS>']).view(1, 1), idx], dim=1)\n",
    "    next_id = -1\n",
    "\n",
    "    while next_id != char_to_int['<EOS>']:\n",
    "        act = self(idx, act=True) # (1, l, d_model)\n",
    "        act[:, :, 56] = 3*0.8\n",
    "\n",
    "        x = self.out_norm(act)\n",
    "        logits = self.lm_head(x)\n",
    "\n",
    "        probs = F.softmax(logits[:, -1, :], dim=-1)\n",
    "        next_id = torch.multinomial(probs, num_samples=1, generator=g).item()\n",
    "        idx = torch.cat([idx, torch.tensor(next_id).view(1, 1)], dim=1)\n",
    "\n",
    "    print(act.max(dim=2).indices)\n",
    "    #print(act[:, :, 21])\n",
    "        \n",
    "    return \"\".join([int_to_char[p.item()] for p in idx[0, 1:-1]])"
   ]
  },
  {
   "cell_type": "code",
   "execution_count": 314,
   "metadata": {},
   "outputs": [
    {
     "name": "stdout",
     "output_type": "stream",
     "text": [
      "tensor([[56, 56, 56, 56, 56, 56, 56, 56, 56]])\n"
     ]
    },
    {
     "data": {
      "text/plain": [
       "'écbechad'"
      ]
     },
     "execution_count": 314,
     "metadata": {},
     "output_type": "execute_result"
    }
   ],
   "source": [
    "sample(model, \"\")"
   ]
  },
  {
   "cell_type": "code",
   "execution_count": null,
   "metadata": {},
   "outputs": [],
   "source": []
  },
  {
   "cell_type": "code",
   "execution_count": null,
   "metadata": {},
   "outputs": [],
   "source": []
  }
 ],
 "metadata": {
  "kernelspec": {
   "display_name": "torch24",
   "language": "python",
   "name": "python3"
  },
  "language_info": {
   "codemirror_mode": {
    "name": "ipython",
    "version": 3
   },
   "file_extension": ".py",
   "mimetype": "text/x-python",
   "name": "python",
   "nbconvert_exporter": "python",
   "pygments_lexer": "ipython3",
   "version": "3.12.3"
  }
 },
 "nbformat": 4,
 "nbformat_minor": 2
}
