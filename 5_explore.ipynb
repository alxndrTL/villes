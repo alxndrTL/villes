{
 "cells": [
  {
   "cell_type": "code",
   "execution_count": 2,
   "metadata": {},
   "outputs": [],
   "source": [
    "import torch\n",
    "import torch.nn as nn\n",
    "import torch.nn.functional as F\n",
    "\n",
    "import matplotlib.pyplot as plt\n",
    "\n",
    "from transformer import TransformerConfig\n",
    "from lm import LM\n",
    "\n",
    "from data import Dataset\n",
    "from misc import print_colore"
   ]
  },
  {
   "cell_type": "code",
   "execution_count": 3,
   "metadata": {},
   "outputs": [],
   "source": [
    "class AutoEncoder(nn.Module):\n",
    "    def __init__(self, act_size, num_features, l1_coeff):\n",
    "        super().__init__()\n",
    "\n",
    "        self.l1_coeff = l1_coeff\n",
    "        self.num_features = num_features\n",
    "\n",
    "        self.W_enc = nn.Parameter(torch.nn.init.kaiming_uniform_(torch.empty(act_size, num_features)))\n",
    "        self.W_dec = nn.Parameter(torch.nn.init.kaiming_uniform_(torch.empty(num_features, act_size)))\n",
    "        self.b_enc = nn.Parameter(torch.zeros(num_features))\n",
    "        self.b_dec = nn.Parameter(torch.zeros(act_size))\n",
    "\n",
    "        self.W_dec.data[:] = self.W_dec / self.W_dec.norm(dim=-1, keepdim=True)\n",
    "    \n",
    "    def forward(self, x):\n",
    "        x_cent = x - self.b_dec\n",
    "        acts = F.relu(x_cent @ self.W_enc + self.b_enc)\n",
    "        x_reconstruct = acts @ self.W_dec + self.b_dec\n",
    "        l2_loss = (x_reconstruct.float() - x.float()).pow(2).sum(-1).mean(0)\n",
    "        l1_loss = self.l1_coeff * (acts.float().abs().sum())\n",
    "        loss = l2_loss + l1_loss\n",
    "        return loss, x_reconstruct, acts, l2_loss, l1_loss\n",
    "    \n",
    "    @torch.no_grad()\n",
    "    def make_decoder_weights_and_grad_unit_norm(self):\n",
    "        W_dec_normed = self.W_dec / self.W_dec.norm(dim=-1, keepdim=True)\n",
    "        W_dec_grad_proj = (self.W_dec.grad * W_dec_normed).sum(-1, keepdim=True) * W_dec_normed\n",
    "        self.W_dec.grad -= W_dec_grad_proj\n",
    "        # Bugfix(?) for ensuring W_dec retains unit norm, this was not there when I trained my original autoencoders.\n",
    "        self.W_dec.data = W_dec_normed"
   ]
  },
  {
   "cell_type": "code",
   "execution_count": 4,
   "metadata": {},
   "outputs": [
    {
     "data": {
      "text/plain": [
       "<All keys matched successfully>"
      ]
     },
     "execution_count": 4,
     "metadata": {},
     "output_type": "execute_result"
    }
   ],
   "source": [
    "dataset = Dataset()\n",
    "\n",
    "config = TransformerConfig(d_model=64, n_layers=1, n_heads=8, max_len=dataset.max_len, dropout=0.)\n",
    "model = LM(config, vocab_size=len(dataset.vocabulaire))\n",
    "model.load_state_dict(torch.load(\"transformer_d_model64_n_heads8_1_57_1_68.pth\", map_location=torch.device('cpu')))\n",
    "\n",
    "sae = AutoEncoder(act_size=config.d_model, num_features=4*config.d_model, l1_coeff=3e-4) # 3e-4 marche bien\n",
    "sae.load_state_dict(torch.load('sae_d_model64_e4.pth'))"
   ]
  },
  {
   "cell_type": "code",
   "execution_count": 5,
   "metadata": {},
   "outputs": [
    {
     "data": {
      "text/plain": [
       "tensor(1.5681, grad_fn=<NllLossBackward0>)"
      ]
     },
     "execution_count": 5,
     "metadata": {},
     "output_type": "execute_result"
    }
   ],
   "source": [
    "X, Y = dataset.get_batch('val', 256) # (B, L)\n",
    "logits = model(X) # (B, L, vocab_size)\n",
    "\n",
    "loss = F.cross_entropy(logits.view(-1, logits.size(-1)), Y.view(-1), ignore_index=dataset.char_to_int['<pad>'])\n",
    "loss"
   ]
  },
  {
   "cell_type": "markdown",
   "metadata": {},
   "source": [
    "# interprétation neurones & features"
   ]
  },
  {
   "cell_type": "code",
   "execution_count": 6,
   "metadata": {},
   "outputs": [],
   "source": [
    "top_k = 20\n",
    "batch_size = 64"
   ]
  },
  {
   "cell_type": "code",
   "execution_count": 7,
   "metadata": {},
   "outputs": [],
   "source": [
    "def update_top_k(top_values, top_indices, new_values, new_indices, k=20):\n",
    "    combined_values = torch.cat([top_values, new_values])\n",
    "    combined_indices = torch.cat([top_indices, new_indices])\n",
    "    \n",
    "    new_top_values, topk_indices = torch.topk(combined_values, k)\n",
    "    new_top_indices = combined_indices[topk_indices]\n",
    "    \n",
    "    return new_top_values, new_top_indices"
   ]
  },
  {
   "cell_type": "markdown",
   "metadata": {},
   "source": [
    "### neurones interprétables ?"
   ]
  },
  {
   "cell_type": "code",
   "execution_count": 316,
   "metadata": {},
   "outputs": [],
   "source": [
    "top_values = torch.full((config.d_model, top_k), -float('inf'))\n",
    "top_indices = torch.full((config.d_model, top_k), -1, dtype=torch.long)\n",
    "\n",
    "for i in range(0, dataset.X_train.shape[0], batch_size):\n",
    "    X = dataset.X_train[i:i+batch_size]\n",
    "    act = model(X, act=True) # (B, L, 128)\n",
    "    max_act = act.max(dim=1).values # (B, 128)\n",
    "\n",
    "    for dim in range(config.d_model):\n",
    "        dim_values = max_act[:, dim]\n",
    "        dim_indices = i + torch.arange(batch_size)\n",
    "\n",
    "        top_values[dim], top_indices[dim] = update_top_k(top_values[dim], top_indices[dim], dim_values, dim_indices)"
   ]
  },
  {
   "cell_type": "code",
   "execution_count": 1,
   "metadata": {},
   "outputs": [
    {
     "ename": "NameError",
     "evalue": "name 'top_indices' is not defined",
     "output_type": "error",
     "traceback": [
      "\u001b[0;31m---------------------------------------------------------------------------\u001b[0m",
      "\u001b[0;31mNameError\u001b[0m                                 Traceback (most recent call last)",
      "Cell \u001b[0;32mIn[1], line 2\u001b[0m\n\u001b[1;32m      1\u001b[0m neurone \u001b[38;5;241m=\u001b[39m \u001b[38;5;241m144\u001b[39m\n\u001b[0;32m----> 2\u001b[0m \u001b[38;5;28;01mfor\u001b[39;00m i \u001b[38;5;129;01min\u001b[39;00m \u001b[43mtop_indices\u001b[49m[neurone]:\n\u001b[1;32m      4\u001b[0m     ville \u001b[38;5;241m=\u001b[39m \u001b[38;5;124m\"\u001b[39m\u001b[38;5;124m\"\u001b[39m\u001b[38;5;241m.\u001b[39mjoin([dataset\u001b[38;5;241m.\u001b[39mint_to_char[k] \u001b[38;5;28;01mfor\u001b[39;00m k \u001b[38;5;129;01min\u001b[39;00m [p\u001b[38;5;241m.\u001b[39mitem() \u001b[38;5;28;01mfor\u001b[39;00m p \u001b[38;5;129;01min\u001b[39;00m dataset\u001b[38;5;241m.\u001b[39mX_train[i\u001b[38;5;241m.\u001b[39mitem()] \u001b[38;5;28;01mif\u001b[39;00m p\u001b[38;5;241m.\u001b[39mitem() \u001b[38;5;241m!=\u001b[39m \u001b[38;5;241m0\u001b[39m] \u001b[38;5;28;01mif\u001b[39;00m k \u001b[38;5;241m!=\u001b[39m \u001b[38;5;241m1\u001b[39m \u001b[38;5;129;01mand\u001b[39;00m k \u001b[38;5;241m!=\u001b[39m \u001b[38;5;241m2\u001b[39m])\n\u001b[1;32m      5\u001b[0m     act \u001b[38;5;241m=\u001b[39m model(dataset\u001b[38;5;241m.\u001b[39mX_train[i\u001b[38;5;241m.\u001b[39mitem()]\u001b[38;5;241m.\u001b[39munsqueeze(\u001b[38;5;241m0\u001b[39m), act\u001b[38;5;241m=\u001b[39m\u001b[38;5;28;01mTrue\u001b[39;00m) \u001b[38;5;66;03m# (B, L, 128)\u001b[39;00m\n",
      "\u001b[0;31mNameError\u001b[0m: name 'top_indices' is not defined"
     ]
    }
   ],
   "source": [
    "neurone = 144\n",
    "for i in top_indices[neurone]:\n",
    "\n",
    "    ville = \"\".join([dataset.int_to_char[k] for k in [p.item() for p in dataset.X_train[i.item()] if p.item() != 0] if k != 1 and k != 2])\n",
    "    act = model(dataset.X_train[i.item()].unsqueeze(0), act=True) # (B, L, 128)\n",
    "\n",
    "    print_colore(ville, act[0, :, neurone].tolist()[:len(ville)])\n",
    "\n",
    "# 21 = morville\n",
    "# 58 = saint\n",
    "# 56 = premiere lettre apres un -\n",
    "# 55 = x en fin de mot\n",
    "# 1 = -vX <-> lettre après -v"
   ]
  },
  {
   "cell_type": "markdown",
   "metadata": {},
   "source": [
    "### features interprétables ?"
   ]
  },
  {
   "cell_type": "code",
   "execution_count": 8,
   "metadata": {},
   "outputs": [],
   "source": [
    "top_values = torch.full((sae.num_features, top_k), -float('inf'))\n",
    "top_indices = torch.full((sae.num_features, top_k), -1, dtype=torch.long)\n",
    "\n",
    "for i in range(0, dataset.X_train.shape[0], batch_size):\n",
    "    X = dataset.X_train[i:i+batch_size]\n",
    "    act = model(X, act=True) # (B, L, 128)\n",
    "    _, _, features, _, _ = sae(act)\n",
    "    max_features = features.max(dim=1).values # (B, 128)\n",
    "\n",
    "    for dim in range(sae.num_features):\n",
    "        dim_values = max_features[:, dim]\n",
    "        dim_indices = i + torch.arange(batch_size)\n",
    "\n",
    "        top_values[dim], top_indices[dim] = update_top_k(top_values[dim], top_indices[dim], dim_values, dim_indices)"
   ]
  },
  {
   "cell_type": "code",
   "execution_count": 74,
   "metadata": {},
   "outputs": [
    {
     "data": {
      "text/html": [
       "<span style=\"background-color:rgb(0, 0, 0)\">s</span><span style=\"background-color:rgb(0, 0, 0)\">a</span><span style=\"background-color:rgb(0, 0, 0)\">i</span><span style=\"background-color:rgb(0, 0, 0)\">n</span><span style=\"background-color:rgb(29, 0, 0)\">t</span><span style=\"background-color:rgb(264, 0, 0)\">-</span><span style=\"background-color:rgb(0, 0, 0)\">m</span><span style=\"background-color:rgb(0, 0, 0)\">a</span><span style=\"background-color:rgb(24, 0, 0)\">r</span><span style=\"background-color:rgb(44, 0, 0)\">t</span><span style=\"background-color:rgb(3, 0, 0)\">i</span><span style=\"background-color:rgb(37, 0, 0)\">n</span><span style=\"background-color:rgb(102, 0, 0)\">-</span><span style=\"background-color:rgb(0, 0, 0)\">d</span><span style=\"background-color:rgb(117, 0, 0)\">e</span><span style=\"background-color:rgb(109, 0, 0)\">s</span><span style=\"background-color:rgb(107, 0, 0)\">-</span><span style=\"background-color:rgb(0, 0, 0)\">n</span><span style=\"background-color:rgb(0, 0, 0)\">o</span><span style=\"background-color:rgb(85, 0, 0)\">y</span><span style=\"background-color:rgb(0, 0, 0)\">e</span><span style=\"background-color:rgb(0, 0, 0)\">r</span><span style=\"background-color:rgb(0, 0, 0)\">s</span>"
      ],
      "text/plain": [
       "<IPython.core.display.HTML object>"
      ]
     },
     "metadata": {},
     "output_type": "display_data"
    },
    {
     "data": {
      "text/html": [
       "<span style=\"background-color:rgb(0, 0, 0)\">s</span><span style=\"background-color:rgb(0, 0, 0)\">a</span><span style=\"background-color:rgb(0, 0, 0)\">i</span><span style=\"background-color:rgb(0, 0, 0)\">n</span><span style=\"background-color:rgb(29, 0, 0)\">t</span><span style=\"background-color:rgb(264, 0, 0)\">-</span><span style=\"background-color:rgb(0, 0, 0)\">h</span><span style=\"background-color:rgb(0, 0, 0)\">i</span><span style=\"background-color:rgb(27, 0, 0)\">l</span><span style=\"background-color:rgb(0, 0, 0)\">a</span><span style=\"background-color:rgb(0, 0, 0)\">i</span><span style=\"background-color:rgb(61, 0, 0)\">r</span><span style=\"background-color:rgb(33, 0, 0)\">e</span><span style=\"background-color:rgb(22, 0, 0)\">-</span><span style=\"background-color:rgb(0, 0, 0)\">l</span><span style=\"background-color:rgb(0, 0, 0)\">e</span><span style=\"background-color:rgb(80, 0, 0)\">-</span><span style=\"background-color:rgb(25, 0, 0)\">c</span><span style=\"background-color:rgb(0, 0, 0)\">h</span><span style=\"background-color:rgb(44, 0, 0)\">â</span><span style=\"background-color:rgb(0, 0, 0)\">t</span><span style=\"background-color:rgb(69, 0, 0)\">e</span><span style=\"background-color:rgb(0, 0, 0)\">l</span>"
      ],
      "text/plain": [
       "<IPython.core.display.HTML object>"
      ]
     },
     "metadata": {},
     "output_type": "display_data"
    },
    {
     "data": {
      "text/html": [
       "<span style=\"background-color:rgb(0, 0, 0)\">s</span><span style=\"background-color:rgb(0, 0, 0)\">a</span><span style=\"background-color:rgb(0, 0, 0)\">i</span><span style=\"background-color:rgb(0, 0, 0)\">n</span><span style=\"background-color:rgb(29, 0, 0)\">t</span><span style=\"background-color:rgb(264, 0, 0)\">-</span><span style=\"background-color:rgb(0, 0, 0)\">a</span><span style=\"background-color:rgb(0, 0, 0)\">v</span><span style=\"background-color:rgb(0, 0, 0)\">i</span><span style=\"background-color:rgb(18, 0, 0)\">t</span><span style=\"background-color:rgb(38, 0, 0)\">-</span><span style=\"background-color:rgb(0, 0, 0)\">s</span><span style=\"background-color:rgb(0, 0, 0)\">é</span><span style=\"background-color:rgb(23, 0, 0)\">n</span><span style=\"background-color:rgb(0, 0, 0)\">i</span><span style=\"background-color:rgb(19, 0, 0)\">e</span><span style=\"background-color:rgb(0, 0, 0)\">u</span><span style=\"background-color:rgb(1, 0, 0)\">r</span>"
      ],
      "text/plain": [
       "<IPython.core.display.HTML object>"
      ]
     },
     "metadata": {},
     "output_type": "display_data"
    },
    {
     "data": {
      "text/html": [
       "<span style=\"background-color:rgb(0, 0, 0)\">s</span><span style=\"background-color:rgb(0, 0, 0)\">a</span><span style=\"background-color:rgb(0, 0, 0)\">i</span><span style=\"background-color:rgb(0, 0, 0)\">n</span><span style=\"background-color:rgb(29, 0, 0)\">t</span><span style=\"background-color:rgb(264, 0, 0)\">-</span><span style=\"background-color:rgb(0, 0, 0)\">m</span><span style=\"background-color:rgb(0, 0, 0)\">a</span><span style=\"background-color:rgb(24, 0, 0)\">r</span><span style=\"background-color:rgb(44, 0, 0)\">t</span><span style=\"background-color:rgb(3, 0, 0)\">i</span><span style=\"background-color:rgb(37, 0, 0)\">n</span><span style=\"background-color:rgb(102, 0, 0)\">-</span><span style=\"background-color:rgb(0, 0, 0)\">d</span><span style=\"background-color:rgb(117, 0, 0)\">e</span><span style=\"background-color:rgb(109, 0, 0)\">s</span><span style=\"background-color:rgb(107, 0, 0)\">-</span><span style=\"background-color:rgb(0, 0, 0)\">c</span><span style=\"background-color:rgb(0, 0, 0)\">h</span><span style=\"background-color:rgb(41, 0, 0)\">a</span><span style=\"background-color:rgb(0, 0, 0)\">m</span><span style=\"background-color:rgb(18, 0, 0)\">p</span><span style=\"background-color:rgb(0, 0, 0)\">s</span>"
      ],
      "text/plain": [
       "<IPython.core.display.HTML object>"
      ]
     },
     "metadata": {},
     "output_type": "display_data"
    },
    {
     "data": {
      "text/html": [
       "<span style=\"background-color:rgb(0, 0, 0)\">s</span><span style=\"background-color:rgb(0, 0, 0)\">a</span><span style=\"background-color:rgb(0, 0, 0)\">i</span><span style=\"background-color:rgb(0, 0, 0)\">n</span><span style=\"background-color:rgb(29, 0, 0)\">t</span><span style=\"background-color:rgb(264, 0, 0)\">-</span><span style=\"background-color:rgb(0, 0, 0)\">l</span><span style=\"background-color:rgb(0, 0, 0)\">é</span><span style=\"background-color:rgb(0, 0, 0)\">o</span><span style=\"background-color:rgb(0, 0, 0)\">n</span><span style=\"background-color:rgb(0, 0, 0)\">a</span><span style=\"background-color:rgb(71, 0, 0)\">r</span><span style=\"background-color:rgb(0, 0, 0)\">d</span>"
      ],
      "text/plain": [
       "<IPython.core.display.HTML object>"
      ]
     },
     "metadata": {},
     "output_type": "display_data"
    },
    {
     "data": {
      "text/html": [
       "<span style=\"background-color:rgb(0, 0, 0)\">s</span><span style=\"background-color:rgb(0, 0, 0)\">a</span><span style=\"background-color:rgb(0, 0, 0)\">i</span><span style=\"background-color:rgb(0, 0, 0)\">n</span><span style=\"background-color:rgb(29, 0, 0)\">t</span><span style=\"background-color:rgb(264, 0, 0)\">-</span><span style=\"background-color:rgb(0, 0, 0)\">a</span><span style=\"background-color:rgb(0, 0, 0)\">n</span><span style=\"background-color:rgb(0, 0, 0)\">d</span><span style=\"background-color:rgb(35, 0, 0)\">r</span><span style=\"background-color:rgb(43, 0, 0)\">é</span><span style=\"background-color:rgb(25, 0, 0)\">-</span><span style=\"background-color:rgb(0, 0, 0)\">d</span><span style=\"background-color:rgb(92, 0, 0)\">'</span><span style=\"background-color:rgb(0, 0, 0)\">e</span><span style=\"background-color:rgb(21, 0, 0)\">m</span><span style=\"background-color:rgb(45, 0, 0)\">b</span><span style=\"background-color:rgb(0, 0, 0)\">r</span><span style=\"background-color:rgb(16, 0, 0)\">u</span><span style=\"background-color:rgb(17, 0, 0)\">n</span>"
      ],
      "text/plain": [
       "<IPython.core.display.HTML object>"
      ]
     },
     "metadata": {},
     "output_type": "display_data"
    },
    {
     "data": {
      "text/html": [
       "<span style=\"background-color:rgb(0, 0, 0)\">s</span><span style=\"background-color:rgb(0, 0, 0)\">a</span><span style=\"background-color:rgb(0, 0, 0)\">i</span><span style=\"background-color:rgb(0, 0, 0)\">n</span><span style=\"background-color:rgb(29, 0, 0)\">t</span><span style=\"background-color:rgb(264, 0, 0)\">-</span><span style=\"background-color:rgb(0, 0, 0)\">s</span><span style=\"background-color:rgb(0, 0, 0)\">u</span><span style=\"background-color:rgb(23, 0, 0)\">l</span><span style=\"background-color:rgb(50, 0, 0)\">p</span><span style=\"background-color:rgb(51, 0, 0)\">i</span><span style=\"background-color:rgb(72, 0, 0)\">c</span><span style=\"background-color:rgb(38, 0, 0)\">e</span>"
      ],
      "text/plain": [
       "<IPython.core.display.HTML object>"
      ]
     },
     "metadata": {},
     "output_type": "display_data"
    },
    {
     "data": {
      "text/html": [
       "<span style=\"background-color:rgb(0, 0, 0)\">s</span><span style=\"background-color:rgb(0, 0, 0)\">a</span><span style=\"background-color:rgb(0, 0, 0)\">i</span><span style=\"background-color:rgb(0, 0, 0)\">n</span><span style=\"background-color:rgb(29, 0, 0)\">t</span><span style=\"background-color:rgb(264, 0, 0)\">-</span><span style=\"background-color:rgb(0, 0, 0)\">p</span><span style=\"background-color:rgb(0, 0, 0)\">i</span><span style=\"background-color:rgb(109, 0, 0)\">e</span><span style=\"background-color:rgb(12, 0, 0)\">r</span><span style=\"background-color:rgb(41, 0, 0)\">r</span><span style=\"background-color:rgb(61, 0, 0)\">e</span><span style=\"background-color:rgb(55, 0, 0)\">-</span><span style=\"background-color:rgb(0, 0, 0)\">d</span><span style=\"background-color:rgb(85, 0, 0)\">'</span><span style=\"background-color:rgb(0, 0, 0)\">a</span><span style=\"background-color:rgb(0, 0, 0)\">l</span><span style=\"background-color:rgb(0, 0, 0)\">l</span><span style=\"background-color:rgb(0, 0, 0)\">e</span><span style=\"background-color:rgb(0, 0, 0)\">v</span><span style=\"background-color:rgb(0, 0, 0)\">a</span><span style=\"background-color:rgb(0, 0, 0)\">r</span><span style=\"background-color:rgb(0, 0, 0)\">d</span>"
      ],
      "text/plain": [
       "<IPython.core.display.HTML object>"
      ]
     },
     "metadata": {},
     "output_type": "display_data"
    },
    {
     "data": {
      "text/html": [
       "<span style=\"background-color:rgb(0, 0, 0)\">s</span><span style=\"background-color:rgb(0, 0, 0)\">a</span><span style=\"background-color:rgb(0, 0, 0)\">i</span><span style=\"background-color:rgb(0, 0, 0)\">n</span><span style=\"background-color:rgb(29, 0, 0)\">t</span><span style=\"background-color:rgb(264, 0, 0)\">-</span><span style=\"background-color:rgb(0, 0, 0)\">r</span><span style=\"background-color:rgb(1, 0, 0)\">é</span><span style=\"background-color:rgb(0, 0, 0)\">m</span><span style=\"background-color:rgb(4, 0, 0)\">y</span>"
      ],
      "text/plain": [
       "<IPython.core.display.HTML object>"
      ]
     },
     "metadata": {},
     "output_type": "display_data"
    },
    {
     "data": {
      "text/html": [
       "<span style=\"background-color:rgb(0, 0, 0)\">s</span><span style=\"background-color:rgb(0, 0, 0)\">a</span><span style=\"background-color:rgb(0, 0, 0)\">i</span><span style=\"background-color:rgb(0, 0, 0)\">n</span><span style=\"background-color:rgb(29, 0, 0)\">t</span><span style=\"background-color:rgb(264, 0, 0)\">-</span><span style=\"background-color:rgb(0, 0, 0)\">d</span><span style=\"background-color:rgb(56, 0, 0)\">e</span><span style=\"background-color:rgb(7, 0, 0)\">n</span><span style=\"background-color:rgb(11, 0, 0)\">i</span><span style=\"background-color:rgb(39, 0, 0)\">s</span><span style=\"background-color:rgb(53, 0, 0)\">-</span><span style=\"background-color:rgb(0, 0, 0)\">d</span><span style=\"background-color:rgb(88, 0, 0)\">e</span><span style=\"background-color:rgb(70, 0, 0)\">-</span><span style=\"background-color:rgb(0, 0, 0)\">j</span><span style=\"background-color:rgb(0, 0, 0)\">o</span><span style=\"background-color:rgb(0, 0, 0)\">u</span><span style=\"background-color:rgb(0, 0, 0)\">h</span><span style=\"background-color:rgb(0, 0, 0)\">e</span><span style=\"background-color:rgb(0, 0, 0)\">t</span>"
      ],
      "text/plain": [
       "<IPython.core.display.HTML object>"
      ]
     },
     "metadata": {},
     "output_type": "display_data"
    },
    {
     "data": {
      "text/html": [
       "<span style=\"background-color:rgb(0, 0, 0)\">s</span><span style=\"background-color:rgb(0, 0, 0)\">a</span><span style=\"background-color:rgb(0, 0, 0)\">i</span><span style=\"background-color:rgb(0, 0, 0)\">n</span><span style=\"background-color:rgb(29, 0, 0)\">t</span><span style=\"background-color:rgb(264, 0, 0)\">-</span><span style=\"background-color:rgb(0, 0, 0)\">p</span><span style=\"background-color:rgb(0, 0, 0)\">e</span><span style=\"background-color:rgb(35, 0, 0)\">r</span><span style=\"background-color:rgb(0, 0, 0)\">d</span><span style=\"background-color:rgb(0, 0, 0)\">o</span><span style=\"background-color:rgb(0, 0, 0)\">u</span><span style=\"background-color:rgb(0, 0, 0)\">x</span>"
      ],
      "text/plain": [
       "<IPython.core.display.HTML object>"
      ]
     },
     "metadata": {},
     "output_type": "display_data"
    },
    {
     "data": {
      "text/html": [
       "<span style=\"background-color:rgb(0, 0, 0)\">s</span><span style=\"background-color:rgb(0, 0, 0)\">a</span><span style=\"background-color:rgb(0, 0, 0)\">i</span><span style=\"background-color:rgb(0, 0, 0)\">n</span><span style=\"background-color:rgb(29, 0, 0)\">t</span><span style=\"background-color:rgb(264, 0, 0)\">-</span><span style=\"background-color:rgb(0, 0, 0)\">c</span><span style=\"background-color:rgb(0, 0, 0)\">l</span><span style=\"background-color:rgb(0, 0, 0)\">a</span><span style=\"background-color:rgb(0, 0, 0)\">i</span><span style=\"background-color:rgb(45, 0, 0)\">r</span>"
      ],
      "text/plain": [
       "<IPython.core.display.HTML object>"
      ]
     },
     "metadata": {},
     "output_type": "display_data"
    },
    {
     "data": {
      "text/html": [
       "<span style=\"background-color:rgb(0, 0, 0)\">s</span><span style=\"background-color:rgb(0, 0, 0)\">a</span><span style=\"background-color:rgb(0, 0, 0)\">i</span><span style=\"background-color:rgb(0, 0, 0)\">n</span><span style=\"background-color:rgb(29, 0, 0)\">t</span><span style=\"background-color:rgb(264, 0, 0)\">-</span><span style=\"background-color:rgb(0, 0, 0)\">p</span><span style=\"background-color:rgb(0, 0, 0)\">a</span><span style=\"background-color:rgb(40, 0, 0)\">r</span><span style=\"background-color:rgb(0, 0, 0)\">d</span><span style=\"background-color:rgb(0, 0, 0)\">o</span><span style=\"background-color:rgb(0, 0, 0)\">u</span><span style=\"background-color:rgb(1, 0, 0)\">x</span>"
      ],
      "text/plain": [
       "<IPython.core.display.HTML object>"
      ]
     },
     "metadata": {},
     "output_type": "display_data"
    },
    {
     "data": {
      "text/html": [
       "<span style=\"background-color:rgb(0, 0, 0)\">s</span><span style=\"background-color:rgb(0, 0, 0)\">a</span><span style=\"background-color:rgb(0, 0, 0)\">i</span><span style=\"background-color:rgb(0, 0, 0)\">n</span><span style=\"background-color:rgb(29, 0, 0)\">t</span><span style=\"background-color:rgb(264, 0, 0)\">-</span><span style=\"background-color:rgb(0, 0, 0)\">j</span><span style=\"background-color:rgb(52, 0, 0)\">u</span><span style=\"background-color:rgb(32, 0, 0)\">s</span><span style=\"background-color:rgb(6, 0, 0)\">t</span><span style=\"background-color:rgb(42, 0, 0)\">-</span><span style=\"background-color:rgb(0, 0, 0)\">e</span><span style=\"background-color:rgb(0, 0, 0)\">n</span><span style=\"background-color:rgb(104, 0, 0)\">-</span><span style=\"background-color:rgb(0, 0, 0)\">c</span><span style=\"background-color:rgb(0, 0, 0)\">h</span><span style=\"background-color:rgb(51, 0, 0)\">a</span><span style=\"background-color:rgb(0, 0, 0)\">u</span><span style=\"background-color:rgb(0, 0, 0)\">s</span><span style=\"background-color:rgb(16, 0, 0)\">s</span><span style=\"background-color:rgb(34, 0, 0)\">é</span><span style=\"background-color:rgb(43, 0, 0)\">e</span>"
      ],
      "text/plain": [
       "<IPython.core.display.HTML object>"
      ]
     },
     "metadata": {},
     "output_type": "display_data"
    },
    {
     "data": {
      "text/html": [
       "<span style=\"background-color:rgb(0, 0, 0)\">s</span><span style=\"background-color:rgb(0, 0, 0)\">a</span><span style=\"background-color:rgb(0, 0, 0)\">i</span><span style=\"background-color:rgb(0, 0, 0)\">n</span><span style=\"background-color:rgb(29, 0, 0)\">t</span><span style=\"background-color:rgb(264, 0, 0)\">-</span><span style=\"background-color:rgb(0, 0, 0)\">m</span><span style=\"background-color:rgb(0, 0, 0)\">a</span><span style=\"background-color:rgb(24, 0, 0)\">u</span><span style=\"background-color:rgb(60, 0, 0)\">r</span><span style=\"background-color:rgb(7, 0, 0)\">i</span><span style=\"background-color:rgb(0, 0, 0)\">c</span><span style=\"background-color:rgb(50, 0, 0)\">e</span><span style=\"background-color:rgb(95, 0, 0)\">-</span><span style=\"background-color:rgb(0, 0, 0)\">s</span><span style=\"background-color:rgb(0, 0, 0)\">u</span><span style=\"background-color:rgb(33, 0, 0)\">r</span><span style=\"background-color:rgb(43, 0, 0)\">-</span><span style=\"background-color:rgb(0, 0, 0)\">a</span><span style=\"background-color:rgb(0, 0, 0)\">d</span><span style=\"background-color:rgb(0, 0, 0)\">o</span><span style=\"background-color:rgb(41, 0, 0)\">u</span><span style=\"background-color:rgb(12, 0, 0)\">r</span>"
      ],
      "text/plain": [
       "<IPython.core.display.HTML object>"
      ]
     },
     "metadata": {},
     "output_type": "display_data"
    },
    {
     "data": {
      "text/html": [
       "<span style=\"background-color:rgb(0, 0, 0)\">s</span><span style=\"background-color:rgb(0, 0, 0)\">a</span><span style=\"background-color:rgb(0, 0, 0)\">i</span><span style=\"background-color:rgb(0, 0, 0)\">n</span><span style=\"background-color:rgb(29, 0, 0)\">t</span><span style=\"background-color:rgb(264, 0, 0)\">e</span><span style=\"background-color:rgb(85, 0, 0)\">-</span><span style=\"background-color:rgb(0, 0, 0)\">m</span><span style=\"background-color:rgb(0, 0, 0)\">a</span><span style=\"background-color:rgb(18, 0, 0)\">r</span><span style=\"background-color:rgb(41, 0, 0)\">i</span><span style=\"background-color:rgb(10, 0, 0)\">e</span><span style=\"background-color:rgb(77, 0, 0)\">-</span><span style=\"background-color:rgb(0, 0, 0)\">d</span><span style=\"background-color:rgb(104, 0, 0)\">e</span><span style=\"background-color:rgb(65, 0, 0)\">-</span><span style=\"background-color:rgb(12, 0, 0)\">c</span><span style=\"background-color:rgb(0, 0, 0)\">u</span><span style=\"background-color:rgb(0, 0, 0)\">i</span><span style=\"background-color:rgb(5, 0, 0)\">n</span><span style=\"background-color:rgb(0, 0, 0)\">e</span><span style=\"background-color:rgb(27, 0, 0)\">s</span>"
      ],
      "text/plain": [
       "<IPython.core.display.HTML object>"
      ]
     },
     "metadata": {},
     "output_type": "display_data"
    },
    {
     "data": {
      "text/html": [
       "<span style=\"background-color:rgb(0, 0, 0)\">s</span><span style=\"background-color:rgb(0, 0, 0)\">a</span><span style=\"background-color:rgb(0, 0, 0)\">i</span><span style=\"background-color:rgb(0, 0, 0)\">n</span><span style=\"background-color:rgb(29, 0, 0)\">t</span><span style=\"background-color:rgb(264, 0, 0)\">-</span><span style=\"background-color:rgb(0, 0, 0)\">g</span><span style=\"background-color:rgb(80, 0, 0)\">o</span><span style=\"background-color:rgb(22, 0, 0)\">u</span><span style=\"background-color:rgb(87, 0, 0)\">é</span><span style=\"background-color:rgb(23, 0, 0)\">n</span><span style=\"background-color:rgb(0, 0, 0)\">o</span>"
      ],
      "text/plain": [
       "<IPython.core.display.HTML object>"
      ]
     },
     "metadata": {},
     "output_type": "display_data"
    },
    {
     "data": {
      "text/html": [
       "<span style=\"background-color:rgb(0, 0, 0)\">s</span><span style=\"background-color:rgb(0, 0, 0)\">a</span><span style=\"background-color:rgb(0, 0, 0)\">i</span><span style=\"background-color:rgb(0, 0, 0)\">n</span><span style=\"background-color:rgb(29, 0, 0)\">t</span><span style=\"background-color:rgb(264, 0, 0)\">-</span><span style=\"background-color:rgb(0, 0, 0)\">l</span><span style=\"background-color:rgb(0, 0, 0)\">a</span><span style=\"background-color:rgb(42, 0, 0)\">n</span><span style=\"background-color:rgb(0, 0, 0)\">n</span><span style=\"background-color:rgb(0, 0, 0)\">e</span>"
      ],
      "text/plain": [
       "<IPython.core.display.HTML object>"
      ]
     },
     "metadata": {},
     "output_type": "display_data"
    },
    {
     "data": {
      "text/html": [
       "<span style=\"background-color:rgb(0, 0, 0)\">s</span><span style=\"background-color:rgb(0, 0, 0)\">a</span><span style=\"background-color:rgb(0, 0, 0)\">i</span><span style=\"background-color:rgb(0, 0, 0)\">n</span><span style=\"background-color:rgb(29, 0, 0)\">t</span><span style=\"background-color:rgb(264, 0, 0)\">-</span><span style=\"background-color:rgb(0, 0, 0)\">g</span><span style=\"background-color:rgb(80, 0, 0)\">e</span><span style=\"background-color:rgb(0, 0, 0)\">r</span><span style=\"background-color:rgb(34, 0, 0)\">m</span><span style=\"background-color:rgb(0, 0, 0)\">a</span><span style=\"background-color:rgb(32, 0, 0)\">i</span><span style=\"background-color:rgb(48, 0, 0)\">n</span><span style=\"background-color:rgb(83, 0, 0)\">-</span><span style=\"background-color:rgb(0, 0, 0)\">d</span><span style=\"background-color:rgb(154, 0, 0)\">e</span><span style=\"background-color:rgb(109, 0, 0)\">-</span><span style=\"background-color:rgb(16, 0, 0)\">l</span><span style=\"background-color:rgb(0, 0, 0)\">a</span><span style=\"background-color:rgb(93, 0, 0)\">-</span><span style=\"background-color:rgb(33, 0, 0)\">r</span><span style=\"background-color:rgb(0, 0, 0)\">i</span><span style=\"background-color:rgb(0, 0, 0)\">v</span><span style=\"background-color:rgb(0, 0, 0)\">i</span><span style=\"background-color:rgb(24, 0, 0)\">è</span><span style=\"background-color:rgb(58, 0, 0)\">r</span><span style=\"background-color:rgb(11, 0, 0)\">e</span>"
      ],
      "text/plain": [
       "<IPython.core.display.HTML object>"
      ]
     },
     "metadata": {},
     "output_type": "display_data"
    },
    {
     "data": {
      "text/html": [
       "<span style=\"background-color:rgb(0, 0, 0)\">s</span><span style=\"background-color:rgb(0, 0, 0)\">a</span><span style=\"background-color:rgb(0, 0, 0)\">i</span><span style=\"background-color:rgb(0, 0, 0)\">n</span><span style=\"background-color:rgb(29, 0, 0)\">t</span><span style=\"background-color:rgb(264, 0, 0)\">-</span><span style=\"background-color:rgb(0, 0, 0)\">p</span><span style=\"background-color:rgb(0, 0, 0)\">a</span><span style=\"background-color:rgb(40, 0, 0)\">b</span><span style=\"background-color:rgb(0, 0, 0)\">u</span>"
      ],
      "text/plain": [
       "<IPython.core.display.HTML object>"
      ]
     },
     "metadata": {},
     "output_type": "display_data"
    }
   ],
   "source": [
    "feature = 142\n",
    "for i in top_indices[feature]:\n",
    "    ville = \"\".join([dataset.int_to_char[k] for k in [p.item() for p in dataset.X_train[i.item()] if p.item() != 0] if k != 1 and k != 2])\n",
    "    act = model(dataset.X_train[i.item()].unsqueeze(0), act=True) # (B, L, 128)\n",
    "    _, _, features, _, _ = sae(act)\n",
    "\n",
    "    print_colore(ville, features[0, :, feature].tolist()[:len(ville)])"
   ]
  },
  {
   "cell_type": "code",
   "execution_count": null,
   "metadata": {},
   "outputs": [],
   "source": []
  },
  {
   "cell_type": "code",
   "execution_count": null,
   "metadata": {},
   "outputs": [],
   "source": []
  },
  {
   "cell_type": "code",
   "execution_count": null,
   "metadata": {},
   "outputs": [],
   "source": [
    "# 1 = premiere lettre apres un -\n",
    "# 2 = a apres gr\n",
    "# 150 = lettre apres cha\n",
    "\n",
    "\n",
    "# d_model64\n",
    "\n",
    "# 2 = lettre apres na\n",
    "# 5 = lettre apres ad\n",
    "# 6 = lettre après -c\n",
    "# 10 = premiere lettre apres -\n",
    "# 11 = eaU\n",
    "\n",
    "# features fortes :\n",
    "# 22 = apres z\n",
    "# 24 = apres les b\n",
    "# 25 = après un la\n",
    "# 26 = apres un -e ou -le\n",
    "# 29 = apres un vil ou cel ou del\n",
    "# 34 = apres un au\n",
    "# 41 = apres un -\n",
    "# 94 = apres un usse ou auxe ou isse\n",
    "# 106 = apres un l (s'enclenche bcp au debut des noms)\n",
    "# 127 = apres un an\n",
    "# 140 = apres un clu ou cru\n",
    "# 142 = apres saint\n",
    "# 153 = apres un -\n",
    "# 163 = apres un un ou men\n",
    "# 184 = apres un v\n",
    "# 187 = apres un ca (s'active beaucoup sur les ussac, aussac, ...)\n",
    "# 190 = apres un ar\n",
    "# 192 = apres un c (mais beaucoup sur grandchamp)\n",
    "# 203 = - apres un es\n",
    "# 214 = premiere lettre (du nom ou apres -)\n",
    "# 217 = apres un ho\n",
    "# 240 =: apres un la"
   ]
  }
 ],
 "metadata": {
  "kernelspec": {
   "display_name": "torch24",
   "language": "python",
   "name": "python3"
  },
  "language_info": {
   "codemirror_mode": {
    "name": "ipython",
    "version": 3
   },
   "file_extension": ".py",
   "mimetype": "text/x-python",
   "name": "python",
   "nbconvert_exporter": "python",
   "pygments_lexer": "ipython3",
   "version": "3.12.3"
  }
 },
 "nbformat": 4,
 "nbformat_minor": 2
}
