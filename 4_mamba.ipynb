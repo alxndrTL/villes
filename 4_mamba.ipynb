{
 "cells": [
  {
   "cell_type": "code",
   "execution_count": 8,
   "metadata": {},
   "outputs": [],
   "source": [
    "import torch\n",
    "import torch.nn.functional as F\n",
    "\n",
    "from models.mamba.mamba import MambaConfig\n",
    "from models.lm import LM\n",
    "\n",
    "from data import Dataset"
   ]
  },
  {
   "cell_type": "code",
   "execution_count": 9,
   "metadata": {},
   "outputs": [],
   "source": [
    "device = \"cpu\" # mettre \"cuda\" si gpu\n",
    "\n",
    "d_model = 512 # dimension du modèle\n",
    "n_layers = 1 # nombre de couches\n",
    "dropout = 0.\n",
    "\n",
    "lr = 3e-4\n",
    "batch_size = 64 # mamba.py est gourmand en RAM, ne pas hésiter à baisser"
   ]
  },
  {
   "cell_type": "code",
   "execution_count": 10,
   "metadata": {},
   "outputs": [
    {
     "name": "stdout",
     "output_type": "stream",
     "text": [
      "Nombre de paramètres : 1719296\n"
     ]
    }
   ],
   "source": [
    "dataset = Dataset(device=device) # toute la partie données de 2_mlp.py a été encapsulée dans l'objet Dataset\n",
    "\n",
    "config = MambaConfig(d_model=d_model, n_layers=n_layers)\n",
    "model = LM(config, vocab_size=len(dataset.vocabulaire)).to(device)\n",
    "optim = torch.optim.AdamW(model.parameters(), lr=lr)\n",
    "\n",
    "print(f\"Nombre de paramètres : {sum(p.numel() for p in model.parameters())}\")"
   ]
  },
  {
   "cell_type": "code",
   "execution_count": 4,
   "metadata": {},
   "outputs": [
    {
     "name": "stdout",
     "output_type": "stream",
     "text": [
      "train loss : 3.84 | val loss : 3.83\n",
      "train loss : 2.07 | val loss : 2.09\n",
      "train loss : 1.95 | val loss : 1.92\n",
      "train loss : 1.93 | val loss : 2.02\n",
      "train loss : 1.87 | val loss : 1.83\n",
      "train loss : 1.86 | val loss : 1.94\n",
      "train loss : 1.87 | val loss : 1.85\n",
      "train loss : 1.89 | val loss : 1.93\n",
      "train loss : 1.76 | val loss : 1.92\n",
      "train loss : 1.83 | val loss : 1.83\n"
     ]
    }
   ],
   "source": [
    "for i in range(10000):\n",
    "    X, Y = dataset.get_batch('train', batch_size) # (B, L)\n",
    "    logits = model(X) # (B, L, vocab_size)\n",
    "\n",
    "    loss = F.cross_entropy(logits.view(-1, logits.size(-1)), Y.view(-1), ignore_index=dataset.char_to_int['<pad>'])\n",
    "    optim.zero_grad()\n",
    "    loss.backward()\n",
    "    optim.step()\n",
    "    \n",
    "    if i%1000==0:\n",
    "        X, Y = dataset.get_batch('test', batch_size) # (B, L)\n",
    "        logits = model(X) # (B, L, vocab_size)\n",
    "        val_loss = F.cross_entropy(logits.view(-1, logits.size(-1)), Y.view(-1), ignore_index=dataset.char_to_int['<pad>']).item()\n",
    "\n",
    "        print(f\"train loss : {loss.item():.2f} | val loss : {val_loss:.2f}\")"
   ]
  },
  {
   "cell_type": "code",
   "execution_count": 14,
   "metadata": {},
   "outputs": [
    {
     "name": "stdout",
     "output_type": "stream",
     "text": [
      "total train loss : 1.79\n",
      "total val loss   : 1.85\n"
     ]
    }
   ],
   "source": [
    "X = dataset.X_train[:, :-1].to(device)[:200] # (B, L=max_len-1=46)\n",
    "Y = dataset.X_train[:, 1:].long().to(device)[:200] # (B, L)\n",
    "\n",
    "logits = model(X) # (B, L, vocab_size)\n",
    "loss = F.cross_entropy(logits.view(-1, logits.size(-1)), Y.view(-1), ignore_index=dataset.char_to_int['<pad>'])\n",
    "print(f\"total train loss : {loss.item():.2f}\")\n",
    "\n",
    "X = dataset.X_val[:, :-1].to(device) # (B, L=max_len-1=46)\n",
    "Y = dataset.X_val[:, 1:].long().to(device) # (B, L)\n",
    "\n",
    "logits = model(X) # (B, L, vocab_size)\n",
    "loss = F.cross_entropy(logits.view(-1, logits.size(-1)), Y.view(-1), ignore_index=dataset.char_to_int['<pad>'])\n",
    "print(f\"total val loss   : {loss.item():.2f}\")"
   ]
  },
  {
   "cell_type": "code",
   "execution_count": 15,
   "metadata": {},
   "outputs": [],
   "source": [
    "torch.save(model.state_dict(), f\"mamba_d_model{d_model}_n_layers{n_layers}.pth\")"
   ]
  },
  {
   "cell_type": "markdown",
   "metadata": {},
   "source": [
    "## génération"
   ]
  },
  {
   "cell_type": "code",
   "execution_count": 4,
   "metadata": {},
   "outputs": [
    {
     "data": {
      "text/plain": [
       "<All keys matched successfully>"
      ]
     },
     "execution_count": 4,
     "metadata": {},
     "output_type": "execute_result"
    }
   ],
   "source": [
    "model.load_state_dict(torch.load('mamba_d_model512.pth', map_location='cpu'))"
   ]
  },
  {
   "cell_type": "code",
   "execution_count": 5,
   "metadata": {},
   "outputs": [],
   "source": [
    "def sample(self, prompt = \"\", g = torch.Generator(device)):\n",
    "    idx = torch.tensor([dataset.char_to_int[c] for c in prompt], dtype=torch.int32, device=device).unsqueeze(0)\n",
    "    idx = torch.cat([torch.tensor(dataset.char_to_int['<SOS>'], device=device).view(1, 1), idx], dim=1)\n",
    "    next_id = -1\n",
    "\n",
    "    while next_id != dataset.char_to_int['<EOS>']:\n",
    "        logits = self(idx) # (1, l, d_model)\n",
    "\n",
    "        probs = F.softmax(logits[:, -1, :], dim=-1)\n",
    "        next_id = torch.multinomial(probs, num_samples=1, generator=g).item()\n",
    "        idx = torch.cat([idx, torch.tensor(next_id, device=device).view(1, 1)], dim=1)\n",
    "        \n",
    "    return \"\".join([dataset.int_to_char[p.item()] for p in idx[0, 1:-1]])"
   ]
  },
  {
   "cell_type": "code",
   "execution_count": 7,
   "metadata": {},
   "outputs": [
    {
     "name": "stdout",
     "output_type": "stream",
     "text": [
      "quessigny\n",
      "saint-amant\n",
      "maxou\n",
      "triqueville\n",
      "chaux\n",
      "ognéville\n",
      "blécourt\n",
      "le charme\n",
      "langogne\n",
      "brion\n"
     ]
    }
   ],
   "source": [
    "g = torch.Generator(device).manual_seed(123456789+4)\n",
    "\n",
    "for _ in range(50):\n",
    "    #print(sample(model, g=g))\n",
    "\n",
    "    ville = sample(model, g=g)\n",
    "    if ville in dataset.villes:\n",
    "        print(ville)"
   ]
  },
  {
   "cell_type": "code",
   "execution_count": null,
   "metadata": {},
   "outputs": [],
   "source": []
  }
 ],
 "metadata": {
  "kernelspec": {
   "display_name": "Python 3",
   "language": "python",
   "name": "python3"
  },
  "language_info": {
   "codemirror_mode": {
    "name": "ipython",
    "version": 3
   },
   "file_extension": ".py",
   "mimetype": "text/x-python",
   "name": "python",
   "nbconvert_exporter": "python",
   "pygments_lexer": "ipython3",
   "version": "3.12.3"
  }
 },
 "nbformat": 4,
 "nbformat_minor": 2
}
