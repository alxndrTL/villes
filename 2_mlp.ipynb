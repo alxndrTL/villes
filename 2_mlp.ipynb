{
 "cells": [
  {
   "cell_type": "code",
   "execution_count": 2,
   "metadata": {},
   "outputs": [],
   "source": [
    "import torch\n",
    "import torch.nn as nn\n",
    "import torch.nn.functional as F\n",
    "\n",
    "import matplotlib.pyplot as plt"
   ]
  },
  {
   "cell_type": "code",
   "execution_count": 6,
   "metadata": {},
   "outputs": [],
   "source": [
    "device = \"cpu\" # \"cuda\" si gpu"
   ]
  },
  {
   "cell_type": "code",
   "execution_count": null,
   "metadata": {},
   "outputs": [],
   "source": [
    "# chargement des données\n",
    "fichier = open('villes.txt')\n",
    "donnees = fichier.read()\n",
    "villes = donnees.replace('\\n', ',').split(',')\n",
    "villes = [ville for ville in villes if len(ville) > 2]"
   ]
  },
  {
   "cell_type": "code",
   "execution_count": null,
   "metadata": {},
   "outputs": [],
   "source": [
    "# création du vocabulaire\n",
    "\n",
    "vocabulaire = sorted(list(set(''.join(villes))))\n",
    "vocabulaire = [\"<pad>\", \"<SOS>\", \"<EOS>\"] + vocabulaire\n",
    "# <SOS> et <EOS> sont ajoutés respectivement au début et à la fin de chaque séquence\n",
    "# <pad> est utilisé pour faire en sorte que toutes les séquences aient la même longueur\n",
    "\n",
    "# pour convertir char <-> int\n",
    "char_to_int = {}\n",
    "int_to_char = {}\n",
    "\n",
    "for (c, i) in zip(vocabulaire, range(len(vocabulaire))):\n",
    "    char_to_int[c] = i\n",
    "    int_to_char[i] = c"
   ]
  },
  {
   "cell_type": "code",
   "execution_count": 7,
   "metadata": {},
   "outputs": [],
   "source": [
    "num_sequences = len(villes)\n",
    "max_len = max([len(ville) for ville in villes]) + 2 # <SOS> et <EOS>\n",
    "\n",
    "X = torch.zeros((num_sequences, max_len), dtype=torch.int32)\n",
    "\n",
    "for i in range(num_sequences):\n",
    "    X[i] = torch.tensor([char_to_int['<SOS>']] + [char_to_int[c] for c in villes[i]] + [char_to_int['<EOS>']] + [char_to_int['<pad>']] * (max_len - len(villes[i]) - 2))\n",
    "\n",
    "n_split = int(0.9*X.shape[0])\n",
    "\n",
    "idx_permut = torch.randperm(X.shape[0])\n",
    "idx_train, _ = torch.sort(idx_permut[:n_split])\n",
    "idx_val, _ = torch.sort(idx_permut[n_split:])\n",
    "\n",
    "X_train = X[idx_train]\n",
    "X_val = X[idx_val]\n",
    "\n",
    "def get_batch(split, batch_size):\n",
    "    data = X_train if split == 'train' else X_val\n",
    "\n",
    "    idx_seed = torch.randint(low=int(batch_size/2), high=int(data.shape[0]-batch_size/2), size=(1,), dtype=torch.int32).item()\n",
    "\n",
    "    batch = data[int(idx_seed-batch_size/2):int(idx_seed+batch_size/2)]\n",
    "    X = batch[:, :-1].to(device) # (B, L=max_len-1=46)\n",
    "    Y = batch[:, 1:].to(device) # (B, L)\n",
    "    return X, Y.long()"
   ]
  },
  {
   "cell_type": "code",
   "execution_count": 81,
   "metadata": {},
   "outputs": [],
   "source": [
    "class BengioMLP(nn.Module):\n",
    "    def __init__(self, d_model, d_hidden, n_context, vocabulaire):\n",
    "        super().__init__()\n",
    "\n",
    "        self.vocabulaire = vocabulaire\n",
    "        self.n_context = n_context\n",
    "\n",
    "        self.embed = nn.Embedding(len(vocabulaire), d_model)\n",
    "        self.fc1 = nn.Linear(n_context * d_model, d_hidden)\n",
    "        self.fc2 = nn.Linear(d_hidden, len(vocabulaire))\n",
    "\n",
    "    def forward(self, idx):\n",
    "        embeddings = []\n",
    "        # on ajoute autant de <SOS> que nécessaire avant le début de la séquence (un seul <SOS> est déjà présent)\n",
    "        for _ in range(self.n_context):\n",
    "            embd = self.embed(idx)\n",
    "            idx = torch.roll(idx, 1, 1)\n",
    "            idx[:, 0] = char_to_int['<SOS>']\n",
    "            embeddings.append(embd)\n",
    "\n",
    "        embeddings = torch.cat(embeddings, -1) # (B, L, n_context*d_model)\n",
    "\n",
    "        x = F.tanh(self.fc1(embeddings)) # (B, L, d_hidden)\n",
    "        logits = self.fc2(x) # (B, L, vocab_size)\n",
    "\n",
    "        return logits\n",
    "    \n",
    "    def sample(self, prompt = \"\", g = torch.Generator(), device=\"cpu\"):\n",
    "        idx = torch.tensor([char_to_int[c] for c in prompt], dtype=torch.int32, device=device).unsqueeze(0)\n",
    "        idx = torch.cat([torch.tensor(char_to_int['<SOS>'], device=device).view(1, 1), idx], dim=1)\n",
    "        next_id = -1\n",
    "\n",
    "        while next_id != char_to_int['<EOS>']:\n",
    "            idx_cond = idx if idx.size(1) <= self.n_context else idx[:, -self.n_context:]\n",
    "            logits = self.forward(idx_cond) # (1, l, vocab_size)\n",
    "            probs = F.softmax(logits[:, -1, :], dim=-1)\n",
    "            next_id = torch.multinomial(probs, num_samples=1, generator=g).item()\n",
    "            idx = torch.cat([idx, torch.tensor(next_id, device=device).view(1, 1)], dim=1)\n",
    "        \n",
    "        return \"\".join([int_to_char[p.item()] for p in idx[0, 1:-1]])"
   ]
  },
  {
   "cell_type": "code",
   "execution_count": 82,
   "metadata": {},
   "outputs": [
    {
     "name": "stdout",
     "output_type": "stream",
     "text": [
      "Nombre de paramètres : 16670\n"
     ]
    }
   ],
   "source": [
    "d_model = 8 # dimension du plongement de chaque lettre\n",
    "d_hidden = 128 # nombre de neurones dans la couche cachée\n",
    "n_context = 10 # taille du contexte\n",
    "\n",
    "lr = 3e-4\n",
    "batch_size = 64\n",
    "\n",
    "model = BengioMLP(d_model=d_model, d_hidden=d_hidden, n_context=n_context, vocabulaire=vocabulaire).to(device)\n",
    "optim = torch.optim.AdamW(model.parameters(), lr=lr)\n",
    "\n",
    "print(f\"Nombre de paramètres : {sum(p.numel() for p in model.parameters())}\")"
   ]
  },
  {
   "cell_type": "code",
   "execution_count": 32,
   "metadata": {},
   "outputs": [
    {
     "name": "stdout",
     "output_type": "stream",
     "text": [
      "train loss : 3.86 | val loss : 3.85\n"
     ]
    },
    {
     "name": "stdout",
     "output_type": "stream",
     "text": [
      "train loss : 2.37 | val loss : 2.29\n",
      "train loss : 2.11 | val loss : 2.18\n",
      "train loss : 2.10 | val loss : 2.01\n",
      "train loss : 1.88 | val loss : 2.04\n",
      "train loss : 1.95 | val loss : 1.93\n",
      "train loss : 1.88 | val loss : 2.01\n",
      "train loss : 1.80 | val loss : 1.96\n",
      "train loss : 1.85 | val loss : 1.96\n",
      "train loss : 1.92 | val loss : 1.77\n",
      "train loss : 1.95 | val loss : 1.81\n",
      "train loss : 1.84 | val loss : 1.87\n",
      "train loss : 1.88 | val loss : 1.79\n",
      "train loss : 1.73 | val loss : 1.90\n",
      "train loss : 1.82 | val loss : 1.75\n",
      "train loss : 1.82 | val loss : 1.76\n",
      "train loss : 1.81 | val loss : 1.81\n",
      "train loss : 1.84 | val loss : 1.81\n",
      "train loss : 1.77 | val loss : 1.82\n",
      "train loss : 1.81 | val loss : 1.86\n"
     ]
    }
   ],
   "source": [
    "for i in range(20000):\n",
    "    X, Y = get_batch('train', batch_size) # (B, L)\n",
    "    logits = model(X) # (B, L, vocab_size)\n",
    "\n",
    "    loss = F.cross_entropy(logits.view(-1, logits.size(-1)), Y.view(-1), ignore_index=char_to_int['<pad>'])\n",
    "    optim.zero_grad()\n",
    "    loss.backward()\n",
    "    optim.step()\n",
    "    \n",
    "    if i%1000==0:\n",
    "        X, Y = get_batch('val', batch_size) # (B, L)\n",
    "        logits = model(X) # (B, L, vocab_size)\n",
    "        val_loss = F.cross_entropy(logits.view(-1, logits.size(-1)), Y.view(-1), ignore_index=char_to_int['<pad>'])\n",
    "\n",
    "        print(f\"train loss : {loss.item():.2f} | val loss : {val_loss.item():.2f}\")"
   ]
  },
  {
   "cell_type": "code",
   "execution_count": 84,
   "metadata": {},
   "outputs": [
    {
     "name": "stdout",
     "output_type": "stream",
     "text": [
      "total train loss : 1.77\n",
      "total val loss   : 1.81\n"
     ]
    }
   ],
   "source": [
    "X = X_train[:, :-1].to(device) # (B, L=max_len-1=46)\n",
    "Y = X_train[:, 1:].long().to(device) # (B, L)\n",
    "\n",
    "logits = model(X) # (B, L, vocab_size)\n",
    "loss = F.cross_entropy(logits.view(-1, logits.size(-1)), Y.view(-1), ignore_index=char_to_int['<pad>'])\n",
    "print(f\"total train loss : {loss.item():.2f}\")\n",
    "\n",
    "X = X_val[:, :-1].to(device) # (B, L=max_len-1=46)\n",
    "Y = X_val[:, 1:].long().to(device) # (B, L)\n",
    "\n",
    "logits = model(X) # (B, L, vocab_size)\n",
    "loss = F.cross_entropy(logits.view(-1, logits.size(-1)), Y.view(-1), ignore_index=char_to_int['<pad>'])\n",
    "print(f\"total val loss   : {loss.item():.2f}\")"
   ]
  },
  {
   "cell_type": "code",
   "execution_count": 68,
   "metadata": {},
   "outputs": [],
   "source": [
    "torch.save(model.state_dict(), f\"mlp_d_model{d_model}_d_hidden{d_hidden}_n_context{n_context}.pth\")"
   ]
  },
  {
   "cell_type": "markdown",
   "metadata": {},
   "source": [
    "## génération"
   ]
  },
  {
   "cell_type": "code",
   "execution_count": 83,
   "metadata": {},
   "outputs": [
    {
     "data": {
      "text/plain": [
       "<All keys matched successfully>"
      ]
     },
     "execution_count": 83,
     "metadata": {},
     "output_type": "execute_result"
    }
   ],
   "source": [
    "model.load_state_dict(torch.load(f\"mlp_d_model{d_model}_d_hidden{d_hidden}_n_context{n_context}.pth\")))"
   ]
  },
  {
   "cell_type": "code",
   "execution_count": 92,
   "metadata": {},
   "outputs": [
    {
     "name": "stdout",
     "output_type": "stream",
     "text": [
      "vont-sivois\n",
      "ernéhac-bes-mont\n",
      "larat\n",
      "corrhièche\n",
      "breslans\n",
      "pouilly-ses-grargfers\n",
      "tontren\n",
      "thuercel\n",
      "guizerzes\n",
      "bouville-flevelie\n"
     ]
    }
   ],
   "source": [
    "g = torch.Generator(device).manual_seed(123456789+3)\n",
    "\n",
    "for _ in range(10):\n",
    "    print(model.sample(g=g, device=device))"
   ]
  },
  {
   "cell_type": "markdown",
   "metadata": {},
   "source": [
    "## visualisation des embeddings"
   ]
  },
  {
   "cell_type": "code",
   "execution_count": 42,
   "metadata": {},
   "outputs": [],
   "source": [
    "from sklearn.manifold import TSNE\n",
    "from sklearn.decomposition import PCA"
   ]
  },
  {
   "cell_type": "code",
   "execution_count": 59,
   "metadata": {},
   "outputs": [],
   "source": [
    "embeddings = model.embed.weight.detach().cpu().numpy()\n",
    "\n",
    "# TSNE\n",
    "#tsne = TSNE(n_components=2, random_state=42)\n",
    "#embeddings_2d = tsne.fit_transform(embeddings)\n",
    "\n",
    "# PCA\n",
    "pca = PCA(n_components=2)\n",
    "embeddings_2d = pca.fit_transform(embeddings)\n",
    "\n",
    "labels = [int_to_char[i] for i in range(len(embeddings))]"
   ]
  },
  {
   "cell_type": "code",
   "execution_count": 67,
   "metadata": {},
   "outputs": [
    {
     "data": {
      "image/png": "[encoded data removed]",
      "text/plain": [
       "<Figure size 800x500 with 1 Axes>"
      ]
     },
     "metadata": {},
     "output_type": "display_data"
    }
   ],
   "source": [
    "plt.figure(figsize=(8, 5))\n",
    "for i, label in enumerate(labels):\n",
    "    x, y = embeddings_2d[i, 0], embeddings_2d[i, 1]\n",
    "    plt.scatter(x, y)\n",
    "    plt.text(x+0.2, y-0.1, label, fontsize=9, ha='right')\n",
    "\n",
    "plt.title('Projection en 2 dimensions des embeddings')\n",
    "plt.savefig('viz_embeddings.png', dpi=600)"
   ]
  },
  {
   "cell_type": "code",
   "execution_count": null,
   "metadata": {},
   "outputs": [],
   "source": []
  }
 ],
 "metadata": {
  "kernelspec": {
   "display_name": "Python 3",
   "language": "python",
   "name": "python3"
  },
  "language_info": {
   "codemirror_mode": {
    "name": "ipython",
    "version": 3
   },
   "file_extension": ".py",
   "mimetype": "text/x-python",
   "name": "python",
   "nbconvert_exporter": "python",
   "pygments_lexer": "ipython3",
   "version": "3.12.3"
  }
 },
 "nbformat": 4,
 "nbformat_minor": 2
}
