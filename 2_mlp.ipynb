{
 "cells": [
  {
   "cell_type": "code",
   "execution_count": 29,
   "metadata": {},
   "outputs": [],
   "source": [
    "import numpy as np\n",
    "import torch\n",
    "import torch.nn as nn\n",
    "import torch.nn.functional as F\n",
    "\n",
    "import matplotlib.pyplot as plt"
   ]
  },
  {
   "cell_type": "code",
   "execution_count": 30,
   "metadata": {},
   "outputs": [],
   "source": [
    "# chargement des données\n",
    "fichier = open('villes.txt')\n",
    "donnees = fichier.read()\n",
    "villes = donnees.replace('\\n', ',').split(',')\n",
    "villes = [ville for ville in villes if len(ville) > 2]"
   ]
  },
  {
   "cell_type": "code",
   "execution_count": 150,
   "metadata": {},
   "outputs": [],
   "source": [
    "# création du vocabulaire\n",
    "\n",
    "vocabulaire = sorted(list(set(''.join(villes))))\n",
    "vocabulaire = [\"<pad>\", \"<SOS>\", \"<EOS>\"] + vocabulaire\n",
    "\n",
    "# pour convertir char <-> int\n",
    "char_to_int = {}\n",
    "int_to_char = {}\n",
    "\n",
    "for (c, i) in zip(vocabulaire, range(len(vocabulaire))):\n",
    "    char_to_int[c] = i\n",
    "    int_to_char[i] = c"
   ]
  },
  {
   "cell_type": "code",
   "execution_count": 151,
   "metadata": {},
   "outputs": [],
   "source": [
    "num_sequences = len(villes)\n",
    "max_len = max([len(ville) for ville in villes]) + 2 # account for <SOS> and <EOS>, which are appened at the beg. and end of each seq\n",
    "\n",
    "X = torch.zeros((num_sequences, max_len), dtype=torch.int32)\n",
    "\n",
    "for i in range(num_sequences):\n",
    "    X[i] = torch.tensor([char_to_int['<SOS>']] + [char_to_int[c] for c in villes[i]] + [char_to_int['<EOS>']] + [char_to_int['<pad>']] * (max_len - len(villes[i]) - 2))\n",
    "\n",
    "n_split = int(0.9*X.shape[0])\n",
    "\n",
    "idx_permut = torch.randperm(X.shape[0])\n",
    "idx_train, _ = torch.sort(idx_permut[:n_split])\n",
    "idx_val, _ = torch.sort(idx_permut[n_split:])\n",
    "\n",
    "X_train = X[idx_train]\n",
    "X_val = X[idx_val]"
   ]
  },
  {
   "cell_type": "code",
   "execution_count": 200,
   "metadata": {},
   "outputs": [],
   "source": [
    "def get_batch(split, batch_size):\n",
    "    data = X_train if split == 'train' else X_val\n",
    "\n",
    "    idx_seed = torch.randint(low=int(batch_size/2), high=int(data.shape[0]-batch_size/2), size=(1,), dtype=torch.int32).item()\n",
    "\n",
    "    batch = data[int(idx_seed-batch_size/2):int(idx_seed+batch_size/2)]\n",
    "    X = batch[:, :-1] # (B, L=max_len-1=46)\n",
    "    Y = batch[:, 1:] # (B, L)\n",
    "    return X, Y.long()"
   ]
  },
  {
   "cell_type": "code",
   "execution_count": 462,
   "metadata": {},
   "outputs": [],
   "source": [
    "class BengioMLP(nn.Module):\n",
    "    def __init__(self, d_model, d_hidden, n_context, vocabulaire):\n",
    "        super().__init__()\n",
    "\n",
    "        self.vocabulaire = vocabulaire\n",
    "        self.n_context = n_context\n",
    "\n",
    "        self.embed = nn.Embedding(len(vocabulaire), d_model)\n",
    "\n",
    "        self.fc1 = nn.Linear(n_context * d_model, d_hidden)\n",
    "        self.fc2 = nn.Linear(d_hidden, len(vocabulaire))\n",
    "\n",
    "    def forward(self, idx):\n",
    "        embeddings = []\n",
    "        for _ in range(self.n_context):\n",
    "            embd = self.embed(idx)\n",
    "            idx = torch.roll(idx, 1, 1)\n",
    "            idx[:, 0] = char_to_int['<SOS>']\n",
    "            embeddings.append(embd)\n",
    "\n",
    "        embeddings = torch.cat(embeddings, -1) # (B, L, n_context*d_model)\n",
    "\n",
    "        x = F.tanh(self.fc1(embeddings)) # (B, L, d_hidden)\n",
    "        logits = self.fc2(x) # (B, L, vocab_size)\n",
    "\n",
    "        return logits\n",
    "    \n",
    "    def sample(self, prompt = \"\", g = torch.Generator()):\n",
    "        idx = torch.tensor([char_to_int[c] for c in prompt], dtype=torch.int32).unsqueeze(0)\n",
    "        idx = torch.cat([torch.tensor(char_to_int['<SOS>']).view(1, 1), idx], dim=1)\n",
    "        next_id = -1\n",
    "\n",
    "        while next_id != char_to_int['<EOS>']:\n",
    "            idx_cond = idx if idx.size(1) <= self.n_context else idx[:, -self.n_context:]\n",
    "            #print(idx_cond.shape)\n",
    "            logits = self.forward(idx_cond) # (1, l, vocab_size)\n",
    "            probs = F.softmax(logits[:, -1, :], dim=-1)\n",
    "            next_id = torch.multinomial(probs, num_samples=1, generator=g).item()\n",
    "            idx = torch.cat([idx, torch.tensor(next_id).view(1, 1)], dim=1)\n",
    "            #print(\"idx.shape : \", idx.shape)\n",
    "        \n",
    "        return \"\".join([int_to_char[p.item()] for p in idx[0, :-1]])"
   ]
  },
  {
   "cell_type": "code",
   "execution_count": 477,
   "metadata": {},
   "outputs": [],
   "source": [
    "model = BengioMLP(d_model=2, d_hidden=100, n_context=3, vocabulaire=vocabulaire)\n",
    "optim = torch.optim.AdamW(model.parameters(), lr=1e-3)"
   ]
  },
  {
   "cell_type": "code",
   "execution_count": 478,
   "metadata": {},
   "outputs": [
    {
     "name": "stdout",
     "output_type": "stream",
     "text": [
      "tensor(3.8545, grad_fn=<NllLossBackward0>)\n",
      "tensor(2.4990, grad_fn=<NllLossBackward0>)\n",
      "tensor(2.2816, grad_fn=<NllLossBackward0>)\n",
      "tensor(2.3737, grad_fn=<NllLossBackward0>)\n",
      "tensor(2.2873, grad_fn=<NllLossBackward0>)\n",
      "tensor(2.1053, grad_fn=<NllLossBackward0>)\n",
      "tensor(2.0822, grad_fn=<NllLossBackward0>)\n",
      "tensor(2.1053, grad_fn=<NllLossBackward0>)\n",
      "tensor(2.2142, grad_fn=<NllLossBackward0>)\n",
      "tensor(2.0799, grad_fn=<NllLossBackward0>)\n"
     ]
    }
   ],
   "source": [
    "for i in range(10000):\n",
    "    X, Y = get_batch('train', 16) # (B, L)\n",
    "    logits = model(X) # (B, L, vocab_size)\n",
    "\n",
    "    loss = F.cross_entropy(logits.view(-1, logits.size(-1)), Y.view(-1), ignore_index=char_to_int['<pad>'])\n",
    "    optim.zero_grad()\n",
    "    loss.backward()\n",
    "    optim.step()\n",
    "    \n",
    "    if i%1000==0:\n",
    "        print(loss)\n"
   ]
  },
  {
   "cell_type": "code",
   "execution_count": 479,
   "metadata": {},
   "outputs": [
    {
     "data": {
      "text/plain": [
       "tensor(1.9785, grad_fn=<NllLossBackward0>)"
      ]
     },
     "execution_count": 479,
     "metadata": {},
     "output_type": "execute_result"
    }
   ],
   "source": [
    "X, Y = get_batch('val', 16) # (B, L)\n",
    "logits = model(X) # (B, L, vocab_size)\n",
    "\n",
    "loss = F.cross_entropy(logits.view(-1, logits.size(-1)), Y.view(-1), ignore_index=char_to_int['<pad>'])\n",
    "loss"
   ]
  },
  {
   "cell_type": "code",
   "execution_count": 480,
   "metadata": {},
   "outputs": [
    {
     "data": {
      "text/plain": [
       "'<SOS>saint-re-de-ourt'"
      ]
     },
     "execution_count": 480,
     "metadata": {},
     "output_type": "execute_result"
    }
   ],
   "source": [
    "model.sample(\"saint\")"
   ]
  },
  {
   "cell_type": "code",
   "execution_count": null,
   "metadata": {},
   "outputs": [],
   "source": []
  }
 ],
 "metadata": {
  "kernelspec": {
   "display_name": "torch24",
   "language": "python",
   "name": "python3"
  },
  "language_info": {
   "codemirror_mode": {
    "name": "ipython",
    "version": 3
   },
   "file_extension": ".py",
   "mimetype": "text/x-python",
   "name": "python",
   "nbconvert_exporter": "python",
   "pygments_lexer": "ipython3",
   "version": "3.12.3"
  }
 },
 "nbformat": 4,
 "nbformat_minor": 2
}
