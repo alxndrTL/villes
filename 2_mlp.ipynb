{
 "cells": [
  {
   "cell_type": "code",
   "execution_count": 8,
   "metadata": {},
   "outputs": [],
   "source": [
    "import torch\n",
    "import torch.nn as nn\n",
    "import torch.nn.functional as F\n",
    "\n",
    "import matplotlib.pyplot as plt"
   ]
  },
  {
   "cell_type": "code",
   "execution_count": 9,
   "metadata": {},
   "outputs": [],
   "source": [
    "# chargement des données\n",
    "fichier = open('villes.txt')\n",
    "donnees = fichier.read()\n",
    "villes = donnees.replace('\\n', ',').split(',')\n",
    "villes = [ville for ville in villes if len(ville) > 2]"
   ]
  },
  {
   "cell_type": "code",
   "execution_count": 10,
   "metadata": {},
   "outputs": [],
   "source": [
    "# création du vocabulaire\n",
    "\n",
    "vocabulaire = sorted(list(set(''.join(villes))))\n",
    "vocabulaire = [\"<pad>\", \"<SOS>\", \"<EOS>\"] + vocabulaire\n",
    "# <SOS> et <EOS> sont ajoutés respectivement au début et à la fin de chaque séquence\n",
    "# <pad> est utilisé pour faire en sorte que toutes les séquences aient la même longueur\n",
    "\n",
    "# pour convertir char <-> int\n",
    "char_to_int = {}\n",
    "int_to_char = {}\n",
    "\n",
    "for (c, i) in zip(vocabulaire, range(len(vocabulaire))):\n",
    "    char_to_int[c] = i\n",
    "    int_to_char[i] = c"
   ]
  },
  {
   "cell_type": "code",
   "execution_count": 11,
   "metadata": {},
   "outputs": [],
   "source": [
    "num_sequences = len(villes)\n",
    "max_len = max([len(ville) for ville in villes]) + 2 # <SOS> et <EOS>\n",
    "\n",
    "X = torch.zeros((num_sequences, max_len), dtype=torch.int32)\n",
    "\n",
    "for i in range(num_sequences):\n",
    "    X[i] = torch.tensor([char_to_int['<SOS>']] + [char_to_int[c] for c in villes[i]] + [char_to_int['<EOS>']] + [char_to_int['<pad>']] * (max_len - len(villes[i]) - 2))\n",
    "\n",
    "n_split = int(0.9*X.shape[0])\n",
    "\n",
    "idx_permut = torch.randperm(X.shape[0])\n",
    "idx_train, _ = torch.sort(idx_permut[:n_split])\n",
    "idx_val, _ = torch.sort(idx_permut[n_split:])\n",
    "\n",
    "X_train = X[idx_train]\n",
    "X_val = X[idx_val]"
   ]
  },
  {
   "cell_type": "code",
   "execution_count": 12,
   "metadata": {},
   "outputs": [],
   "source": [
    "def get_batch(split, batch_size):\n",
    "    data = X_train if split == 'train' else X_val\n",
    "\n",
    "    idx_seed = torch.randint(low=int(batch_size/2), high=int(data.shape[0]-batch_size/2), size=(1,), dtype=torch.int32).item()\n",
    "\n",
    "    batch = data[int(idx_seed-batch_size/2):int(idx_seed+batch_size/2)]\n",
    "    X = batch[:, :-1] # (B, L=max_len-1=46)\n",
    "    Y = batch[:, 1:] # (B, L)\n",
    "    return X, Y.long()"
   ]
  },
  {
   "cell_type": "code",
   "execution_count": 13,
   "metadata": {},
   "outputs": [],
   "source": [
    "class BengioMLP(nn.Module):\n",
    "    def __init__(self, d_model, d_hidden, n_context, vocabulaire):\n",
    "        super().__init__()\n",
    "\n",
    "        self.vocabulaire = vocabulaire\n",
    "        self.n_context = n_context\n",
    "\n",
    "        self.embed = nn.Embedding(len(vocabulaire), d_model)\n",
    "\n",
    "        self.fc1 = nn.Linear(n_context * d_model, d_hidden)\n",
    "        self.fc2 = nn.Linear(d_hidden, len(vocabulaire))\n",
    "\n",
    "    def forward(self, idx):\n",
    "        embeddings = []\n",
    "        for _ in range(self.n_context):\n",
    "            embd = self.embed(idx)\n",
    "            idx = torch.roll(idx, 1, 1)\n",
    "            idx[:, 0] = char_to_int['<SOS>']\n",
    "            embeddings.append(embd)\n",
    "\n",
    "        embeddings = torch.cat(embeddings, -1) # (B, L, n_context*d_model)\n",
    "\n",
    "        x = F.tanh(self.fc1(embeddings)) # (B, L, d_hidden)\n",
    "        logits = self.fc2(x) # (B, L, vocab_size)\n",
    "\n",
    "        return logits\n",
    "    \n",
    "    def sample(self, prompt = \"\", g = torch.Generator()):\n",
    "        idx = torch.tensor([char_to_int[c] for c in prompt], dtype=torch.int32).unsqueeze(0)\n",
    "        idx = torch.cat([torch.tensor(char_to_int['<SOS>']).view(1, 1), idx], dim=1)\n",
    "        next_id = -1\n",
    "\n",
    "        while next_id != char_to_int['<EOS>']:\n",
    "            idx_cond = idx if idx.size(1) <= self.n_context else idx[:, -self.n_context:]\n",
    "            logits = self.forward(idx_cond) # (1, l, vocab_size)\n",
    "            probs = F.softmax(logits[:, -1, :], dim=-1)\n",
    "            next_id = torch.multinomial(probs, num_samples=1, generator=g).item()\n",
    "            idx = torch.cat([idx, torch.tensor(next_id).view(1, 1)], dim=1)\n",
    "        \n",
    "        return \"\".join([int_to_char[p.item()] for p in idx[0, 1:-1]])"
   ]
  },
  {
   "cell_type": "code",
   "execution_count": 75,
   "metadata": {},
   "outputs": [],
   "source": [
    "model = BengioMLP(d_model=16, d_hidden=512, n_context=24, vocabulaire=vocabulaire)\n",
    "optim = torch.optim.AdamW(model.parameters(), lr=3e-4)"
   ]
  },
  {
   "cell_type": "code",
   "execution_count": 76,
   "metadata": {},
   "outputs": [
    {
     "data": {
      "text/plain": [
       "221454"
      ]
     },
     "execution_count": 76,
     "metadata": {},
     "output_type": "execute_result"
    }
   ],
   "source": [
    "sum(p.numel() for p in model.parameters())"
   ]
  },
  {
   "cell_type": "code",
   "execution_count": 22,
   "metadata": {},
   "outputs": [
    {
     "name": "stdout",
     "output_type": "stream",
     "text": [
      "tensor(3.8577, grad_fn=<NllLossBackward0>)\n",
      "tensor(2.3629, grad_fn=<NllLossBackward0>)\n",
      "tensor(2.0579, grad_fn=<NllLossBackward0>)\n",
      "tensor(2.1106, grad_fn=<NllLossBackward0>)\n",
      "tensor(1.9259, grad_fn=<NllLossBackward0>)\n",
      "tensor(1.8712, grad_fn=<NllLossBackward0>)\n",
      "tensor(2.0854, grad_fn=<NllLossBackward0>)\n",
      "tensor(1.9599, grad_fn=<NllLossBackward0>)\n",
      "tensor(1.8116, grad_fn=<NllLossBackward0>)\n",
      "tensor(1.8765, grad_fn=<NllLossBackward0>)\n"
     ]
    }
   ],
   "source": [
    "for i in range(10000):\n",
    "    X, Y = get_batch('train', 32) # (B, L)\n",
    "    logits = model(X) # (B, L, vocab_size)\n",
    "\n",
    "    loss = F.cross_entropy(logits.view(-1, logits.size(-1)), Y.view(-1), ignore_index=char_to_int['<pad>'])\n",
    "    optim.zero_grad()\n",
    "    loss.backward()\n",
    "    optim.step()\n",
    "    \n",
    "    if i%1000==0:\n",
    "        print(loss)"
   ]
  },
  {
   "cell_type": "code",
   "execution_count": 23,
   "metadata": {},
   "outputs": [
    {
     "data": {
      "text/plain": [
       "tensor(1.9586, grad_fn=<NllLossBackward0>)"
      ]
     },
     "execution_count": 23,
     "metadata": {},
     "output_type": "execute_result"
    }
   ],
   "source": [
    "X, Y = get_batch('val', 256) # (B, L)\n",
    "logits = model(X) # (B, L, vocab_size)\n",
    "\n",
    "loss = F.cross_entropy(logits.view(-1, logits.size(-1)), Y.view(-1), ignore_index=char_to_int['<pad>'])\n",
    "loss"
   ]
  },
  {
   "cell_type": "code",
   "execution_count": 26,
   "metadata": {},
   "outputs": [
    {
     "name": "stdout",
     "output_type": "stream",
     "text": [
      "malleyaudl\n",
      "doisaint-jamponand\n",
      "corve\n",
      "tougumou-chanche\n",
      "vergenan-l'art\n",
      "saint-juarice-beus-l'ons\n",
      "mouvans\n",
      "melirjouft\n",
      "goisnach\n",
      "chaise\n",
      "elmache\n",
      "zatest-onbemrois\n",
      "trégol-zesnôteles\n",
      "bagnaze\n",
      "la preys\n",
      "blémardreux\n",
      "gouelles-villet\n",
      "courbert-ser-mèr-sainpe-le-frain\n",
      "acqueville\n",
      "le chaugt\n",
      "bois-rulle\n",
      "pelivins\n",
      "villac\n",
      "parnren-lèr-jère\n",
      "lasauete\n",
      "savesst\n",
      "moscoure\n",
      "castrray\n",
      "mennière\n",
      "trémenin\n",
      "saressaint\n",
      "saint-quce-rincourt\n",
      "flongos\n",
      "pemtteluns\n",
      "esterpol\n",
      "botz\n",
      "saint-mazain-lo-sastine\n",
      "choux\n",
      "eulavev\n",
      "aulouzillere\n",
      "seaux\n",
      "ollas\n",
      "bay\n",
      "bort-enarfir-héaupres\n",
      "reaus\n",
      "thepbetaude\n",
      "saint-saux-lermenaux\n",
      "virande\n",
      "larvigne\n",
      "rosmague\n",
      "saint-sirauroc\n",
      "la suint-\n",
      "rézer-mer-dère\n",
      "beavey\n",
      "bouon\n",
      "bruaul\n",
      "gegins\n",
      "caretille\n",
      "reny-sure-lès-paint-derind\n",
      "saint\n",
      "couzigny\n",
      "bermemont\n",
      "icg'ec\n",
      "séeurgness\n",
      "sousseilé\n",
      "melle-saint\n",
      "rancourt-en-en-volde-flillougu\n",
      "lesnorn-sert\n",
      "genonsset\n",
      "chargréêus-sous\n",
      "lignac\n",
      "montsalar\n",
      "gourblat\n",
      "combenoy\n",
      "beibles\n",
      "clessengt\n",
      "evint-pors-de-lardec\n",
      "rascint-dierreauq\n",
      "saint-cerille-ess\n",
      "la ceneds\n",
      "benien\n",
      "sauron\n",
      "saint-surréin-lîspaddofnet\n",
      "rostieretx-domol\n",
      "allacham\n",
      "crifpola\n",
      "habesce\n",
      "alonanvillon\n",
      "vermons\n",
      "lé\n",
      "lasail\n",
      "avéla-enon\n",
      "fangenag\n",
      "cadanville\n",
      "bouder-les-en-c'ouxe\n",
      "oufilles-sons-agne\n",
      "ésaint-mèle-cocheaul\n",
      "tollecarlien\n",
      "beuville-la-preuves\n",
      "benat\n"
     ]
    }
   ],
   "source": [
    "g = torch.Generator().manual_seed(123456789)\n",
    "\n",
    "for _ in range(100):\n",
    "    print(model.sample(g=g))"
   ]
  },
  {
   "cell_type": "code",
   "execution_count": null,
   "metadata": {},
   "outputs": [],
   "source": []
  }
 ],
 "metadata": {
  "kernelspec": {
   "display_name": "torch24",
   "language": "python",
   "name": "python3"
  },
  "language_info": {
   "codemirror_mode": {
    "name": "ipython",
    "version": 3
   },
   "file_extension": ".py",
   "mimetype": "text/x-python",
   "name": "python",
   "nbconvert_exporter": "python",
   "pygments_lexer": "ipython3",
   "version": "3.12.3"
  }
 },
 "nbformat": 4,
 "nbformat_minor": 2
}
