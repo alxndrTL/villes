{
 "cells": [
  {
   "cell_type": "code",
   "execution_count": 1,
   "metadata": {},
   "outputs": [],
   "source": [
    "import torch\n",
    "import torch.nn as nn\n",
    "import torch.nn.functional as F\n",
    "\n",
    "from transformer import TransformerConfig\n",
    "from lm import LM\n",
    "\n",
    "from data import Dataset"
   ]
  },
  {
   "cell_type": "code",
   "execution_count": 2,
   "metadata": {},
   "outputs": [
    {
     "data": {
      "text/plain": [
       "<All keys matched successfully>"
      ]
     },
     "execution_count": 2,
     "metadata": {},
     "output_type": "execute_result"
    }
   ],
   "source": [
    "dataset = Dataset()\n",
    "\n",
    "config = TransformerConfig(d_model=128, n_layers=1, n_heads=4, max_len=dataset.max_len, dropout=0.)\n",
    "model = LM(config, vocab_size=len(dataset.vocabulaire))\n",
    "model.load_state_dict(torch.load(\"transformer.pth\"))"
   ]
  },
  {
   "cell_type": "code",
   "execution_count": 7,
   "metadata": {},
   "outputs": [],
   "source": [
    "def sample(self, prompt = \"\", g = torch.Generator()):\n",
    "    idx = torch.tensor([dataset.char_to_int[c] for c in prompt], dtype=torch.int32).unsqueeze(0)\n",
    "    idx = torch.cat([torch.tensor(dataset.char_to_int['<SOS>']).view(1, 1), idx], dim=1)\n",
    "    next_id = -1\n",
    "\n",
    "    while next_id != dataset.char_to_int['<EOS>']:\n",
    "        act = self(idx, act=True) # (1, l, d_model)\n",
    "        #act[:, :, 56] = 3*0.8\n",
    "\n",
    "        x = self.out_norm(act)\n",
    "        logits = self.lm_head(x)\n",
    "\n",
    "        probs = F.softmax(logits[:, -1, :], dim=-1)\n",
    "        next_id = torch.multinomial(probs, num_samples=1, generator=g).item()\n",
    "        idx = torch.cat([idx, torch.tensor(next_id).view(1, 1)], dim=1)\n",
    "\n",
    "    #print(act.max(dim=2).indices)\n",
    "    #print(act[:, :, 21])\n",
    "        \n",
    "    return \"\".join([dataset.int_to_char[p.item()] for p in idx[0, 1:-1]])"
   ]
  },
  {
   "cell_type": "code",
   "execution_count": 17,
   "metadata": {},
   "outputs": [
    {
     "name": "stdout",
     "output_type": "stream",
     "text": [
      "vaudolles\n",
      "vadampart-sur-vieux\n",
      "augenols\n",
      "saint-julnier-les-galandeumois-le\n",
      "marey-en-de-burandon\n",
      "fron\n",
      "vérans-en-madeau\n",
      "la chemaule\n",
      "carlos\n",
      "la hacré\n"
     ]
    }
   ],
   "source": [
    "for i in range(10):\n",
    "    print(sample(model, \"\"))"
   ]
  },
  {
   "cell_type": "code",
   "execution_count": null,
   "metadata": {},
   "outputs": [],
   "source": []
  },
  {
   "cell_type": "code",
   "execution_count": null,
   "metadata": {},
   "outputs": [],
   "source": []
  }
 ],
 "metadata": {
  "kernelspec": {
   "display_name": "torch24",
   "language": "python",
   "name": "python3"
  },
  "language_info": {
   "codemirror_mode": {
    "name": "ipython",
    "version": 3
   },
   "file_extension": ".py",
   "mimetype": "text/x-python",
   "name": "python",
   "nbconvert_exporter": "python",
   "pygments_lexer": "ipython3",
   "version": "3.12.3"
  }
 },
 "nbformat": 4,
 "nbformat_minor": 2
}
