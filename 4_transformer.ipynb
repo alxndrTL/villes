{
 "cells": [
  {
   "cell_type": "code",
   "execution_count": 7,
   "metadata": {},
   "outputs": [
    {
     "ename": "ImportError",
     "evalue": "cannot import name 'TransformerConfig' from 'models.transformer' (unknown location)",
     "output_type": "error",
     "traceback": [
      "\u001b[0;31m---------------------------------------------------------------------------\u001b[0m",
      "\u001b[0;31mImportError\u001b[0m                               Traceback (most recent call last)",
      "Cell \u001b[0;32mIn[7], line 4\u001b[0m\n\u001b[1;32m      1\u001b[0m \u001b[38;5;28;01mimport\u001b[39;00m \u001b[38;5;21;01mtorch\u001b[39;00m\n\u001b[1;32m      2\u001b[0m \u001b[38;5;28;01mimport\u001b[39;00m \u001b[38;5;21;01mtorch\u001b[39;00m\u001b[38;5;21;01m.\u001b[39;00m\u001b[38;5;21;01mnn\u001b[39;00m\u001b[38;5;21;01m.\u001b[39;00m\u001b[38;5;21;01mfunctional\u001b[39;00m \u001b[38;5;28;01mas\u001b[39;00m \u001b[38;5;21;01mF\u001b[39;00m\n\u001b[0;32m----> 4\u001b[0m \u001b[38;5;28;01mfrom\u001b[39;00m \u001b[38;5;21;01mmodels\u001b[39;00m\u001b[38;5;21;01m.\u001b[39;00m\u001b[38;5;21;01mtransformer\u001b[39;00m \u001b[38;5;28;01mimport\u001b[39;00m TransformerConfig\n\u001b[1;32m      5\u001b[0m \u001b[38;5;28;01mfrom\u001b[39;00m \u001b[38;5;21;01mmodels\u001b[39;00m\u001b[38;5;21;01m.\u001b[39;00m\u001b[38;5;21;01mlm\u001b[39;00m \u001b[38;5;28;01mimport\u001b[39;00m LM\n\u001b[1;32m      7\u001b[0m \u001b[38;5;28;01mfrom\u001b[39;00m \u001b[38;5;21;01mdata\u001b[39;00m \u001b[38;5;28;01mimport\u001b[39;00m Dataset\n",
      "\u001b[0;31mImportError\u001b[0m: cannot import name 'TransformerConfig' from 'models.transformer' (unknown location)"
     ]
    }
   ],
   "source": [
    "import torch\n",
    "import torch.nn.functional as F\n",
    "\n",
    "from models.transformer import TransformerConfig\n",
    "from models.lm import LM\n",
    "\n",
    "from data import Dataset"
   ]
  },
  {
   "cell_type": "code",
   "execution_count": 4,
   "metadata": {},
   "outputs": [],
   "source": [
    "device = \"cuda\" # mettre \"cuda\" si gpu\n",
    "\n",
    "d_model = 32 # dimension du modèle\n",
    "n_heads = 4 # nombre de têtes pour l'attention\n",
    "n_layers = 1 # nombre de couches\n",
    "dropout = 0.\n",
    "\n",
    "lr = 3e-4\n",
    "batch_size = 64"
   ]
  },
  {
   "cell_type": "code",
   "execution_count": 5,
   "metadata": {},
   "outputs": [
    {
     "ename": "NameError",
     "evalue": "name 'Dataset' is not defined",
     "output_type": "error",
     "traceback": [
      "\u001b[0;31m---------------------------------------------------------------------------\u001b[0m",
      "\u001b[0;31mNameError\u001b[0m                                 Traceback (most recent call last)",
      "Cell \u001b[0;32mIn[5], line 1\u001b[0m\n\u001b[0;32m----> 1\u001b[0m dataset \u001b[38;5;241m=\u001b[39m \u001b[43mDataset\u001b[49m(device\u001b[38;5;241m=\u001b[39mdevice) \u001b[38;5;66;03m# toute la partie données de 2_mlp.py a été encapsulée dans l'objet Dataset\u001b[39;00m\n\u001b[1;32m      3\u001b[0m config \u001b[38;5;241m=\u001b[39m TransformerConfig(d_model\u001b[38;5;241m=\u001b[39md_model, n_heads\u001b[38;5;241m=\u001b[39mn_heads, n_layers\u001b[38;5;241m=\u001b[39mn_layers, dropout\u001b[38;5;241m=\u001b[39mdropout, max_len\u001b[38;5;241m=\u001b[39mdataset\u001b[38;5;241m.\u001b[39mmax_len)\n\u001b[1;32m      4\u001b[0m model \u001b[38;5;241m=\u001b[39m LM(config, vocab_size\u001b[38;5;241m=\u001b[39m\u001b[38;5;28mlen\u001b[39m(dataset\u001b[38;5;241m.\u001b[39mvocabulaire))\u001b[38;5;241m.\u001b[39mto(device)\n",
      "\u001b[0;31mNameError\u001b[0m: name 'Dataset' is not defined"
     ]
    }
   ],
   "source": [
    "dataset = Dataset(device=device) # toute la partie données de 2_mlp.py a été encapsulée dans l'objet Dataset\n",
    "\n",
    "config = TransformerConfig(d_model=d_model, n_heads=n_heads, n_layers=n_layers, dropout=dropout, max_len=dataset.max_len)\n",
    "model = LM(config, vocab_size=len(dataset.vocabulaire)).to(device)\n",
    "optim = torch.optim.AdamW(model.parameters(), lr=lr)\n",
    "\n",
    "print(f\"Nombre de paramètres : {sum(p.numel() for p in model.parameters())}\")"
   ]
  },
  {
   "cell_type": "code",
   "execution_count": 15,
   "metadata": {},
   "outputs": [
    {
     "name": "stdout",
     "output_type": "stream",
     "text": [
      "train loss : 3.83 | val loss : 3.83\n",
      "train loss : 2.27 | val loss : 2.26\n",
      "train loss : 2.04 | val loss : 2.12\n",
      "train loss : 1.92 | val loss : 2.08\n",
      "train loss : 1.94 | val loss : 1.91\n",
      "train loss : 1.86 | val loss : 1.93\n",
      "train loss : 1.83 | val loss : 1.87\n",
      "train loss : 1.91 | val loss : 1.87\n",
      "train loss : 1.83 | val loss : 1.90\n",
      "train loss : 2.05 | val loss : 1.88\n"
     ]
    }
   ],
   "source": [
    "for i in range(10000):\n",
    "    X, Y = dataset.get_batch('train', batch_size) # (B, L)\n",
    "    logits = model(X) # (B, L, vocab_size)\n",
    "\n",
    "    loss = F.cross_entropy(logits.view(-1, logits.size(-1)), Y.view(-1), ignore_index=dataset.char_to_int['<pad>'])\n",
    "    optim.zero_grad()\n",
    "    loss.backward()\n",
    "    optim.step()\n",
    "    \n",
    "    if i%1000==0:\n",
    "        X, Y = dataset.get_batch('test', batch_size) # (B, L)\n",
    "        logits = model(X) # (B, L, vocab_size)\n",
    "        val_loss = F.cross_entropy(logits.view(-1, logits.size(-1)), Y.view(-1), ignore_index=dataset.char_to_int['<pad>']).item()\n",
    "\n",
    "        print(f\"train loss : {loss.item():.2f} | val loss : {val_loss:.2f}\")"
   ]
  },
  {
   "cell_type": "code",
   "execution_count": 16,
   "metadata": {},
   "outputs": [
    {
     "name": "stdout",
     "output_type": "stream",
     "text": [
      "total train loss : 1.81\n",
      "total val loss   : 1.83\n"
     ]
    }
   ],
   "source": [
    "X = dataset.X_train[:, :-1].to(device) # (B, L=max_len-1=46)\n",
    "Y = dataset.X_train[:, 1:].long().to(device) # (B, L)\n",
    "\n",
    "logits = model(X) # (B, L, vocab_size)\n",
    "loss = F.cross_entropy(logits.view(-1, logits.size(-1)), Y.view(-1), ignore_index=dataset.char_to_int['<pad>'])\n",
    "print(f\"total train loss : {loss.item():.2f}\")\n",
    "\n",
    "X = dataset.X_val[:, :-1].to(device) # (B, L=max_len-1=46)\n",
    "Y = dataset.X_val[:, 1:].long().to(device) # (B, L)\n",
    "\n",
    "logits = model(X) # (B, L, vocab_size)\n",
    "loss = F.cross_entropy(logits.view(-1, logits.size(-1)), Y.view(-1), ignore_index=dataset.char_to_int['<pad>'])\n",
    "print(f\"total val loss   : {loss.item():.2f}\")"
   ]
  },
  {
   "cell_type": "code",
   "execution_count": 17,
   "metadata": {},
   "outputs": [],
   "source": [
    "torch.save(model.state_dict(), f\"transformer_d_model{d_model}_n_heads{n_heads}_n_layers{n_layers}.pth\")"
   ]
  },
  {
   "cell_type": "markdown",
   "metadata": {},
   "source": [
    "## génération"
   ]
  },
  {
   "cell_type": "code",
   "execution_count": 20,
   "metadata": {},
   "outputs": [],
   "source": [
    "def sample(self, prompt = \"\", g = torch.Generator(device)):\n",
    "    idx = torch.tensor([dataset.char_to_int[c] for c in prompt], dtype=torch.int32, device=device).unsqueeze(0)\n",
    "    idx = torch.cat([torch.tensor(dataset.char_to_int['<SOS>'], device=device).view(1, 1), idx], dim=1)\n",
    "    next_id = -1\n",
    "\n",
    "    while next_id != dataset.char_to_int['<EOS>']:\n",
    "        logits = self(idx) # (1, l, d_model)\n",
    "\n",
    "        probs = F.softmax(logits[:, -1, :], dim=-1)\n",
    "        next_id = torch.multinomial(probs, num_samples=1, generator=g).item()\n",
    "        idx = torch.cat([idx, torch.tensor(next_id, device=device).view(1, 1)], dim=1)\n",
    "        \n",
    "    return \"\".join([dataset.int_to_char[p.item()] for p in idx[0, 1:-1]])"
   ]
  },
  {
   "cell_type": "code",
   "execution_count": 22,
   "metadata": {},
   "outputs": [
    {
     "name": "stdout",
     "output_type": "stream",
     "text": [
      "vondrival\n",
      "baerné\n",
      "barbosser\n",
      "saint-flondré\n",
      "bailles\n",
      "saint-parion\n",
      "torsy-de-chapont\n",
      "prolont\n",
      "bermelleu\n",
      "dorzet\n"
     ]
    }
   ],
   "source": [
    "g = torch.Generator(device).manual_seed(123456789+3)\n",
    "\n",
    "for _ in range(10):\n",
    "    print(sample(model, g=g))"
   ]
  },
  {
   "cell_type": "code",
   "execution_count": null,
   "metadata": {},
   "outputs": [],
   "source": []
  }
 ],
 "metadata": {
  "kernelspec": {
   "display_name": "Python 3",
   "language": "python",
   "name": "python3"
  },
  "language_info": {
   "codemirror_mode": {
    "name": "ipython",
    "version": 3
   },
   "file_extension": ".py",
   "mimetype": "text/x-python",
   "name": "python",
   "nbconvert_exporter": "python",
   "pygments_lexer": "ipython3",
   "version": "3.12.3"
  }
 },
 "nbformat": 4,
 "nbformat_minor": 2
}
