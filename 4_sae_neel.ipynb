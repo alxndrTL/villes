{
 "cells": [
  {
   "cell_type": "code",
   "execution_count": 1,
   "metadata": {},
   "outputs": [],
   "source": [
    "from IPython.display import display, HTML\n",
    "\n",
    "import torch\n",
    "import torch.nn as nn\n",
    "import torch.nn.functional as F\n",
    "\n",
    "import matplotlib.pyplot as plt\n",
    "\n",
    "from transformer import TransformerConfig\n",
    "from lm import LM"
   ]
  },
  {
   "cell_type": "code",
   "execution_count": 2,
   "metadata": {},
   "outputs": [],
   "source": [
    "# chargement des données\n",
    "fichier = open('villes.txt')\n",
    "donnees = fichier.read()\n",
    "villes = donnees.replace('\\n', ',').split(',')\n",
    "villes = [ville for ville in villes if len(ville) > 2]"
   ]
  },
  {
   "cell_type": "code",
   "execution_count": 3,
   "metadata": {},
   "outputs": [],
   "source": [
    "# création du vocabulaire\n",
    "\n",
    "vocabulaire = sorted(list(set(''.join(villes))))\n",
    "vocabulaire = [\"<pad>\", \"<SOS>\", \"<EOS>\"] + vocabulaire\n",
    "# <SOS> et <EOS> sont ajoutés respectivement au début et à la fin de chaque séquence\n",
    "# <pad> est utilisé pour faire en sorte que toutes les séquences aient la même longueur\n",
    "\n",
    "# pour convertir char <-> int\n",
    "char_to_int = {}\n",
    "int_to_char = {}\n",
    "\n",
    "for (c, i) in zip(vocabulaire, range(len(vocabulaire))):\n",
    "    char_to_int[c] = i\n",
    "    int_to_char[i] = c"
   ]
  },
  {
   "cell_type": "code",
   "execution_count": 4,
   "metadata": {},
   "outputs": [],
   "source": [
    "num_sequences = len(villes)\n",
    "max_len = max([len(ville) for ville in villes]) + 2 # <SOS> et <EOS>\n",
    "\n",
    "X = torch.zeros((num_sequences, max_len), dtype=torch.int32)\n",
    "\n",
    "for i in range(num_sequences):\n",
    "    X[i] = torch.tensor([char_to_int['<SOS>']] + [char_to_int[c] for c in villes[i]] + [char_to_int['<EOS>']] + [char_to_int['<pad>']] * (max_len - len(villes[i]) - 2))\n",
    "\n",
    "n_split = int(0.9*X.shape[0])\n",
    "\n",
    "idx_permut = torch.randperm(X.shape[0])\n",
    "idx_train, _ = torch.sort(idx_permut[:n_split])\n",
    "idx_val, _ = torch.sort(idx_permut[n_split:])\n",
    "\n",
    "X_train = X[idx_train]\n",
    "X_val = X[idx_val]"
   ]
  },
  {
   "cell_type": "code",
   "execution_count": 5,
   "metadata": {},
   "outputs": [],
   "source": [
    "def get_batch(split, batch_size):\n",
    "    data = X_train if split == 'train' else X_val\n",
    "\n",
    "    idx_seed = torch.randint(low=int(batch_size/2), high=int(data.shape[0]-batch_size/2), size=(1,), dtype=torch.int32).item()\n",
    "\n",
    "    batch = data[int(idx_seed-batch_size/2):int(idx_seed+batch_size/2)]\n",
    "    X = batch[:, :-1] # (B, L=max_len-1=46)\n",
    "    Y = batch[:, 1:] # (B, L)\n",
    "    return X, Y.long()"
   ]
  },
  {
   "cell_type": "code",
   "execution_count": 9,
   "metadata": {},
   "outputs": [],
   "source": [
    "class AutoEncoder(nn.Module):\n",
    "    def __init__(self, act_size, num_features, l1_coeff):\n",
    "        super().__init__()\n",
    "\n",
    "        self.l1_coeff = l1_coeff\n",
    "        self.num_features = num_features\n",
    "\n",
    "        self.W_enc = nn.Parameter(torch.nn.init.kaiming_uniform_(torch.empty(act_size, num_features)))\n",
    "        self.W_dec = nn.Parameter(torch.nn.init.kaiming_uniform_(torch.empty(num_features, act_size)))\n",
    "        self.b_enc = nn.Parameter(torch.zeros(num_features))\n",
    "        self.b_dec = nn.Parameter(torch.zeros(act_size))\n",
    "\n",
    "        self.W_dec.data[:] = self.W_dec / self.W_dec.norm(dim=-1, keepdim=True)\n",
    "    \n",
    "    def forward(self, x):\n",
    "        x_cent = x - self.b_dec\n",
    "        acts = F.relu(x_cent @ self.W_enc + self.b_enc)\n",
    "        x_reconstruct = acts @ self.W_dec + self.b_dec\n",
    "        l2_loss = (x_reconstruct.float() - x.float()).pow(2).sum(-1).mean(0)\n",
    "        l1_loss = self.l1_coeff * (acts.float().abs().sum())\n",
    "        loss = l2_loss + l1_loss\n",
    "        return loss, x_reconstruct, acts, l2_loss, l1_loss\n",
    "    \n",
    "    @torch.no_grad()\n",
    "    def make_decoder_weights_and_grad_unit_norm(self):\n",
    "        W_dec_normed = self.W_dec / self.W_dec.norm(dim=-1, keepdim=True)\n",
    "        W_dec_grad_proj = (self.W_dec.grad * W_dec_normed).sum(-1, keepdim=True) * W_dec_normed\n",
    "        self.W_dec.grad -= W_dec_grad_proj\n",
    "        # Bugfix(?) for ensuring W_dec retains unit norm, this was not there when I trained my original autoencoders.\n",
    "        self.W_dec.data = W_dec_normed"
   ]
  },
  {
   "cell_type": "code",
   "execution_count": 10,
   "metadata": {},
   "outputs": [],
   "source": [
    "config = TransformerConfig(d_model=128, n_layers=1, n_heads=4, max_len=max_len, dropout=0.)\n",
    "model = LM(config, vocab_size=len(vocabulaire))\n",
    "model.load_state_dict(torch.load(\"transformer.pth\"))\n",
    "\n",
    "sae = AutoEncoder(act_size=config.d_model, num_features=2*128, l1_coeff=3e-4) # 3e-4 marche bien\n",
    "optim = torch.optim.Adam(sae.parameters(), lr=3e-4) # 3e-4 marche bien"
   ]
  },
  {
   "cell_type": "code",
   "execution_count": 11,
   "metadata": {},
   "outputs": [
    {
     "name": "stdout",
     "output_type": "stream",
     "text": [
      "loss : 13.302572250366211\n"
     ]
    },
    {
     "name": "stdout",
     "output_type": "stream",
     "text": [
      "loss : 3.106783390045166\n",
      "loss : 2.118925094604492\n",
      "loss : 1.8235316276550293\n",
      "loss : 1.546154499053955\n",
      "loss : 1.4306844472885132\n",
      "loss : 1.1447248458862305\n",
      "loss : 1.2154908180236816\n",
      "loss : 1.058559536933899\n",
      "loss : 1.0498321056365967\n",
      "frac of features with freq < 1/100 : 0.328125\n",
      "frac of features with freq < 1/1,000 : 0.00390625\n",
      "frac of features with freq < 1/10,000 : 0.0\n"
     ]
    }
   ],
   "source": [
    "for i in range(1000):\n",
    "    X, Y = get_batch('train', 16) # (B, L)\n",
    "\n",
    "    act = model(X, act=True).view(-1, config.d_model) # (B*L, 128)\n",
    "\n",
    "    loss, x_reconstruct, features, l2_loss, l1_loss = sae(act)\n",
    "    loss.backward()\n",
    "    sae.make_decoder_weights_and_grad_unit_norm()\n",
    "    optim.step()\n",
    "    optim.zero_grad()\n",
    "    \n",
    "    if i%100==0:\n",
    "        print(f\"loss : {loss.item()}\")\n",
    "\n",
    "# features freq\n",
    "X, Y = get_batch('val', 512) # (B, L)\n",
    "act = model(X, act=True).view(-1, config.d_model)\n",
    "_, _, features, _, _ = sae(act)\n",
    "\n",
    "print(f\"frac of features with freq < 1/100 : {((((features>0).int()).sum(0) / features.shape[0]) < 1e-2).float().mean()}\")\n",
    "print(f\"frac of features with freq < 1/1,000 : {((((features>0).int()).sum(0) / features.shape[0]) < 1e-3).float().mean()}\")\n",
    "print(f\"frac of features with freq < 1/10,000 : {((((features>0).int()).sum(0) / features.shape[0]) < 1e-4).float().mean()}\")"
   ]
  },
  {
   "cell_type": "code",
   "execution_count": 12,
   "metadata": {},
   "outputs": [],
   "source": [
    "# feature and act reconstruction viz\n",
    "\n",
    "X, Y = get_batch('train', 1) # (B, L)\n",
    "act = model(X, act=True).view(-1, config.d_model) # (B, L, d_model)\n",
    "_, act_recon, features, _, _ = sae(act)"
   ]
  },
  {
   "cell_type": "code",
   "execution_count": 13,
   "metadata": {},
   "outputs": [
    {
     "data": {
      "text/plain": [
       "<matplotlib.image.AxesImage at 0x121dbd160>"
      ]
     },
     "execution_count": 13,
     "metadata": {},
     "output_type": "execute_result"
    },
    {
     "data": {
      "image/png": "[encoded data removed]",
      "text/plain": [
       "<Figure size 640x480 with 1 Axes>"
      ]
     },
     "metadata": {},
     "output_type": "display_data"
    }
   ],
   "source": [
    "plt.imshow(features.detach())"
   ]
  },
  {
   "cell_type": "code",
   "execution_count": 14,
   "metadata": {},
   "outputs": [
    {
     "data": {
      "text/plain": [
       "<matplotlib.image.AxesImage at 0x121e018e0>"
      ]
     },
     "execution_count": 14,
     "metadata": {},
     "output_type": "execute_result"
    },
    {
     "data": {
      "image/png": "[encoded data removed]",
      "text/plain": [
       "<Figure size 640x480 with 1 Axes>"
      ]
     },
     "metadata": {},
     "output_type": "display_data"
    }
   ],
   "source": [
    "plt.imshow(act.detach())"
   ]
  },
  {
   "cell_type": "code",
   "execution_count": 15,
   "metadata": {},
   "outputs": [
    {
     "data": {
      "text/plain": [
       "<matplotlib.image.AxesImage at 0x1226b7d40>"
      ]
     },
     "execution_count": 15,
     "metadata": {},
     "output_type": "execute_result"
    },
    {
     "data": {
      "image/png": "[encoded data removed]",
      "text/plain": [
       "<Figure size 640x480 with 1 Axes>"
      ]
     },
     "metadata": {},
     "output_type": "display_data"
    }
   ],
   "source": [
    "plt.imshow(act_recon.detach())"
   ]
  },
  {
   "cell_type": "code",
   "execution_count": 16,
   "metadata": {},
   "outputs": [
    {
     "name": "stdout",
     "output_type": "stream",
     "text": [
      "reconstruction loss : 1.71\n"
     ]
    }
   ],
   "source": [
    "X, Y = get_batch('val', 16) # (B, L)\n",
    "act = model(X, act=True).view(-1, config.d_model)\n",
    "_, act_recon, features, _, _ = sae(act)\n",
    "\n",
    "x = model.out_norm(act_recon)\n",
    "logits = model.lm_head(x)\n",
    "\n",
    "loss = F.cross_entropy(logits.view(-1, logits.size(-1)), Y.view(-1), ignore_index=char_to_int['<pad>'])\n",
    "print(f\"reconstruction loss : {loss.item():.2f}\")"
   ]
  },
  {
   "cell_type": "code",
   "execution_count": 17,
   "metadata": {},
   "outputs": [],
   "source": [
    "# model loss : 1.75"
   ]
  },
  {
   "cell_type": "code",
   "execution_count": null,
   "metadata": {},
   "outputs": [],
   "source": []
  },
  {
   "cell_type": "markdown",
   "metadata": {},
   "source": [
    "### neurones interprétables ?"
   ]
  },
  {
   "cell_type": "code",
   "execution_count": 42,
   "metadata": {},
   "outputs": [],
   "source": [
    "top_k = 20\n",
    "batch_size = 64"
   ]
  },
  {
   "cell_type": "code",
   "execution_count": 43,
   "metadata": {},
   "outputs": [],
   "source": [
    "def update_top_k(top_values, top_indices, new_values, new_indices, k=20):\n",
    "    combined_values = torch.cat([top_values, new_values])\n",
    "    combined_indices = torch.cat([top_indices, new_indices])\n",
    "    \n",
    "    new_top_values, topk_indices = torch.topk(combined_values, k)\n",
    "    new_top_indices = combined_indices[topk_indices]\n",
    "    \n",
    "    return new_top_values, new_top_indices"
   ]
  },
  {
   "cell_type": "code",
   "execution_count": 44,
   "metadata": {},
   "outputs": [],
   "source": [
    "top_values = torch.full((config.d_model, top_k), -float('inf'))\n",
    "top_indices = torch.full((config.d_model, top_k), -1, dtype=torch.long)\n",
    "\n",
    "for i in range(0, X_train.shape[0], batch_size):\n",
    "    X = X_train[i:i+batch_size]\n",
    "    act = model(X, act=True) # (B, L, 128)\n",
    "    max_act = act.max(dim=1).values # (B, 128)\n",
    "\n",
    "    for dim in range(config.d_model):\n",
    "        dim_values = max_act[:, dim]\n",
    "        dim_indices = i + torch.arange(batch_size)\n",
    "\n",
    "        top_values[dim], top_indices[dim] = update_top_k(top_values[dim], top_indices[dim], dim_values, dim_indices)"
   ]
  },
  {
   "cell_type": "code",
   "execution_count": 68,
   "metadata": {},
   "outputs": [
    {
     "data": {
      "text/html": [
       "<span style=\"background-color:rgb(-58, 0, 0)\">t</span><span style=\"background-color:rgb(-42, 0, 0)\">o</span><span style=\"background-color:rgb(-63, 0, 0)\">r</span><span style=\"background-color:rgb(44, 0, 0)\">v</span><span style=\"background-color:rgb(218, 0, 0)\">i</span><span style=\"background-color:rgb(16, 0, 0)\">l</span><span style=\"background-color:rgb(35, 0, 0)\">l</span><span style=\"background-color:rgb(107, 0, 0)\">i</span><span style=\"background-color:rgb(23, 0, 0)\">e</span><span style=\"background-color:rgb(-133, 0, 0)\">r</span><span style=\"background-color:rgb(83, 0, 0)\">s</span>"
      ],
      "text/plain": [
       "<IPython.core.display.HTML object>"
      ]
     },
     "metadata": {},
     "output_type": "display_data"
    },
    {
     "data": {
      "text/html": [
       "<span style=\"background-color:rgb(-58, 0, 0)\">s</span><span style=\"background-color:rgb(47, 0, 0)\">a</span><span style=\"background-color:rgb(38, 0, 0)\">i</span><span style=\"background-color:rgb(22, 0, 0)\">n</span><span style=\"background-color:rgb(-23, 0, 0)\">t</span><span style=\"background-color:rgb(32, 0, 0)\">-</span><span style=\"background-color:rgb(-25, 0, 0)\">p</span><span style=\"background-color:rgb(15, 0, 0)\">i</span><span style=\"background-color:rgb(17, 0, 0)\">e</span><span style=\"background-color:rgb(-20, 0, 0)\">r</span><span style=\"background-color:rgb(-43, 0, 0)\">r</span><span style=\"background-color:rgb(44, 0, 0)\">e</span><span style=\"background-color:rgb(50, 0, 0)\">-</span><span style=\"background-color:rgb(90, 0, 0)\">d</span><span style=\"background-color:rgb(22, 0, 0)\">e</span><span style=\"background-color:rgb(33, 0, 0)\">-</span><span style=\"background-color:rgb(-98, 0, 0)\">v</span><span style=\"background-color:rgb(118, 0, 0)\">a</span><span style=\"background-color:rgb(13, 0, 0)\">r</span><span style=\"background-color:rgb(28, 0, 0)\">e</span><span style=\"background-color:rgb(30, 0, 0)\">n</span><span style=\"background-color:rgb(64, 0, 0)\">g</span><span style=\"background-color:rgb(50, 0, 0)\">e</span><span style=\"background-color:rgb(52, 0, 0)\">v</span><span style=\"background-color:rgb(211, 0, 0)\">i</span><span style=\"background-color:rgb(13, 0, 0)\">l</span><span style=\"background-color:rgb(119, 0, 0)\">l</span><span style=\"background-color:rgb(149, 0, 0)\">e</span>"
      ],
      "text/plain": [
       "<IPython.core.display.HTML object>"
      ]
     },
     "metadata": {},
     "output_type": "display_data"
    },
    {
     "data": {
      "text/html": [
       "<span style=\"background-color:rgb(-58, 0, 0)\">v</span><span style=\"background-color:rgb(148, 0, 0)\">o</span><span style=\"background-color:rgb(-17, 0, 0)\">l</span><span style=\"background-color:rgb(135, 0, 0)\">g</span><span style=\"background-color:rgb(41, 0, 0)\">e</span><span style=\"background-color:rgb(26, 0, 0)\">l</span><span style=\"background-color:rgb(210, 0, 0)\">s</span><span style=\"background-color:rgb(47, 0, 0)\">h</span><span style=\"background-color:rgb(55, 0, 0)\">e</span><span style=\"background-color:rgb(27, 0, 0)\">i</span><span style=\"background-color:rgb(-1, 0, 0)\">m</span>"
      ],
      "text/plain": [
       "<IPython.core.display.HTML object>"
      ]
     },
     "metadata": {},
     "output_type": "display_data"
    },
    {
     "data": {
      "text/html": [
       "<span style=\"background-color:rgb(-58, 0, 0)\">s</span><span style=\"background-color:rgb(47, 0, 0)\">a</span><span style=\"background-color:rgb(38, 0, 0)\">i</span><span style=\"background-color:rgb(22, 0, 0)\">n</span><span style=\"background-color:rgb(-23, 0, 0)\">t</span><span style=\"background-color:rgb(32, 0, 0)\">-</span><span style=\"background-color:rgb(-25, 0, 0)\">m</span><span style=\"background-color:rgb(131, 0, 0)\">a</span><span style=\"background-color:rgb(-67, 0, 0)\">r</span><span style=\"background-color:rgb(-2, 0, 0)\">t</span><span style=\"background-color:rgb(76, 0, 0)\">i</span><span style=\"background-color:rgb(-11, 0, 0)\">n</span><span style=\"background-color:rgb(75, 0, 0)\">-</span><span style=\"background-color:rgb(90, 0, 0)\">d</span><span style=\"background-color:rgb(-14, 0, 0)\">e</span><span style=\"background-color:rgb(22, 0, 0)\">-</span><span style=\"background-color:rgb(-127, 0, 0)\">b</span><span style=\"background-color:rgb(59, 0, 0)\">o</span><span style=\"background-color:rgb(2, 0, 0)\">s</span><span style=\"background-color:rgb(112, 0, 0)\">c</span><span style=\"background-color:rgb(49, 0, 0)\">h</span><span style=\"background-color:rgb(97, 0, 0)\">e</span><span style=\"background-color:rgb(50, 0, 0)\">r</span><span style=\"background-color:rgb(85, 0, 0)\">v</span><span style=\"background-color:rgb(209, 0, 0)\">i</span><span style=\"background-color:rgb(7, 0, 0)\">l</span><span style=\"background-color:rgb(120, 0, 0)\">l</span><span style=\"background-color:rgb(146, 0, 0)\">e</span>"
      ],
      "text/plain": [
       "<IPython.core.display.HTML object>"
      ]
     },
     "metadata": {},
     "output_type": "display_data"
    },
    {
     "data": {
      "text/html": [
       "<span style=\"background-color:rgb(-58, 0, 0)\">t</span><span style=\"background-color:rgb(-42, 0, 0)\">h</span><span style=\"background-color:rgb(69, 0, 0)\">e</span><span style=\"background-color:rgb(1, 0, 0)\">r</span><span style=\"background-color:rgb(40, 0, 0)\">v</span><span style=\"background-color:rgb(205, 0, 0)\">a</span><span style=\"background-color:rgb(5, 0, 0)\">y</span>"
      ],
      "text/plain": [
       "<IPython.core.display.HTML object>"
      ]
     },
     "metadata": {},
     "output_type": "display_data"
    },
    {
     "data": {
      "text/html": [
       "<span style=\"background-color:rgb(-58, 0, 0)\">m</span><span style=\"background-color:rgb(114, 0, 0)\">o</span><span style=\"background-color:rgb(-15, 0, 0)\">r</span><span style=\"background-color:rgb(93, 0, 0)\">v</span><span style=\"background-color:rgb(203, 0, 0)\">i</span><span style=\"background-color:rgb(17, 0, 0)\">l</span><span style=\"background-color:rgb(37, 0, 0)\">l</span><span style=\"background-color:rgb(109, 0, 0)\">e</span><span style=\"background-color:rgb(-38, 0, 0)\">-</span><span style=\"background-color:rgb(42, 0, 0)\">s</span><span style=\"background-color:rgb(22, 0, 0)\">u</span><span style=\"background-color:rgb(-31, 0, 0)\">r</span><span style=\"background-color:rgb(44, 0, 0)\">-</span><span style=\"background-color:rgb(0, 0, 0)\">n</span><span style=\"background-color:rgb(57, 0, 0)\">i</span><span style=\"background-color:rgb(7, 0, 0)\">e</span><span style=\"background-color:rgb(-48, 0, 0)\">d</span>"
      ],
      "text/plain": [
       "<IPython.core.display.HTML object>"
      ]
     },
     "metadata": {},
     "output_type": "display_data"
    },
    {
     "data": {
      "text/html": [
       "<span style=\"background-color:rgb(-58, 0, 0)\">m</span><span style=\"background-color:rgb(114, 0, 0)\">o</span><span style=\"background-color:rgb(-15, 0, 0)\">r</span><span style=\"background-color:rgb(93, 0, 0)\">v</span><span style=\"background-color:rgb(203, 0, 0)\">i</span><span style=\"background-color:rgb(17, 0, 0)\">l</span><span style=\"background-color:rgb(37, 0, 0)\">l</span><span style=\"background-color:rgb(109, 0, 0)\">i</span><span style=\"background-color:rgb(24, 0, 0)\">e</span><span style=\"background-color:rgb(-125, 0, 0)\">r</span><span style=\"background-color:rgb(87, 0, 0)\">s</span>"
      ],
      "text/plain": [
       "<IPython.core.display.HTML object>"
      ]
     },
     "metadata": {},
     "output_type": "display_data"
    },
    {
     "data": {
      "text/html": [
       "<span style=\"background-color:rgb(-58, 0, 0)\">m</span><span style=\"background-color:rgb(114, 0, 0)\">o</span><span style=\"background-color:rgb(-15, 0, 0)\">r</span><span style=\"background-color:rgb(93, 0, 0)\">v</span><span style=\"background-color:rgb(203, 0, 0)\">i</span><span style=\"background-color:rgb(17, 0, 0)\">l</span><span style=\"background-color:rgb(37, 0, 0)\">l</span><span style=\"background-color:rgb(109, 0, 0)\">e</span><span style=\"background-color:rgb(-38, 0, 0)\">-</span><span style=\"background-color:rgb(42, 0, 0)\">e</span><span style=\"background-color:rgb(-9, 0, 0)\">n</span><span style=\"background-color:rgb(38, 0, 0)\">-</span><span style=\"background-color:rgb(-58, 0, 0)\">b</span><span style=\"background-color:rgb(38, 0, 0)\">e</span><span style=\"background-color:rgb(-12, 0, 0)\">a</span><span style=\"background-color:rgb(0, 0, 0)\">u</span><span style=\"background-color:rgb(8, 0, 0)\">c</span><span style=\"background-color:rgb(42, 0, 0)\">e</span>"
      ],
      "text/plain": [
       "<IPython.core.display.HTML object>"
      ]
     },
     "metadata": {},
     "output_type": "display_data"
    },
    {
     "data": {
      "text/html": [
       "<span style=\"background-color:rgb(-58, 0, 0)\">m</span><span style=\"background-color:rgb(114, 0, 0)\">o</span><span style=\"background-color:rgb(-15, 0, 0)\">r</span><span style=\"background-color:rgb(93, 0, 0)\">v</span><span style=\"background-color:rgb(203, 0, 0)\">i</span><span style=\"background-color:rgb(17, 0, 0)\">l</span><span style=\"background-color:rgb(37, 0, 0)\">l</span><span style=\"background-color:rgb(109, 0, 0)\">e</span><span style=\"background-color:rgb(-38, 0, 0)\">r</span><span style=\"background-color:rgb(103, 0, 0)\">s</span>"
      ],
      "text/plain": [
       "<IPython.core.display.HTML object>"
      ]
     },
     "metadata": {},
     "output_type": "display_data"
    },
    {
     "data": {
      "text/html": [
       "<span style=\"background-color:rgb(-58, 0, 0)\">m</span><span style=\"background-color:rgb(114, 0, 0)\">o</span><span style=\"background-color:rgb(-15, 0, 0)\">r</span><span style=\"background-color:rgb(93, 0, 0)\">v</span><span style=\"background-color:rgb(203, 0, 0)\">i</span><span style=\"background-color:rgb(17, 0, 0)\">l</span><span style=\"background-color:rgb(37, 0, 0)\">l</span><span style=\"background-color:rgb(109, 0, 0)\">e</span><span style=\"background-color:rgb(-38, 0, 0)\">r</span><span style=\"background-color:rgb(103, 0, 0)\">s</span><span style=\"background-color:rgb(84, 0, 0)\">-</span><span style=\"background-color:rgb(121, 0, 0)\">s</span><span style=\"background-color:rgb(34, 0, 0)\">a</span><span style=\"background-color:rgb(31, 0, 0)\">i</span><span style=\"background-color:rgb(-3, 0, 0)\">n</span><span style=\"background-color:rgb(-30, 0, 0)\">t</span><span style=\"background-color:rgb(36, 0, 0)\">-</span><span style=\"background-color:rgb(-83, 0, 0)\">s</span><span style=\"background-color:rgb(38, 0, 0)\">a</span><span style=\"background-color:rgb(-31, 0, 0)\">t</span><span style=\"background-color:rgb(12, 0, 0)\">u</span><span style=\"background-color:rgb(-15, 0, 0)\">r</span><span style=\"background-color:rgb(22, 0, 0)\">n</span><span style=\"background-color:rgb(119, 0, 0)\">i</span><span style=\"background-color:rgb(45, 0, 0)\">n</span>"
      ],
      "text/plain": [
       "<IPython.core.display.HTML object>"
      ]
     },
     "metadata": {},
     "output_type": "display_data"
    },
    {
     "data": {
      "text/html": [
       "<span style=\"background-color:rgb(-58, 0, 0)\">m</span><span style=\"background-color:rgb(114, 0, 0)\">o</span><span style=\"background-color:rgb(-15, 0, 0)\">r</span><span style=\"background-color:rgb(93, 0, 0)\">v</span><span style=\"background-color:rgb(203, 0, 0)\">i</span><span style=\"background-color:rgb(17, 0, 0)\">l</span><span style=\"background-color:rgb(37, 0, 0)\">l</span><span style=\"background-color:rgb(109, 0, 0)\">e</span><span style=\"background-color:rgb(-38, 0, 0)\">-</span><span style=\"background-color:rgb(42, 0, 0)\">s</span><span style=\"background-color:rgb(22, 0, 0)\">u</span><span style=\"background-color:rgb(-31, 0, 0)\">r</span><span style=\"background-color:rgb(44, 0, 0)\">-</span><span style=\"background-color:rgb(0, 0, 0)\">s</span><span style=\"background-color:rgb(72, 0, 0)\">e</span><span style=\"background-color:rgb(9, 0, 0)\">i</span><span style=\"background-color:rgb(17, 0, 0)\">l</span><span style=\"background-color:rgb(70, 0, 0)\">l</span><span style=\"background-color:rgb(104, 0, 0)\">e</span>"
      ],
      "text/plain": [
       "<IPython.core.display.HTML object>"
      ]
     },
     "metadata": {},
     "output_type": "display_data"
    },
    {
     "data": {
      "text/html": [
       "<span style=\"background-color:rgb(-58, 0, 0)\">m</span><span style=\"background-color:rgb(114, 0, 0)\">o</span><span style=\"background-color:rgb(-15, 0, 0)\">r</span><span style=\"background-color:rgb(93, 0, 0)\">v</span><span style=\"background-color:rgb(203, 0, 0)\">i</span><span style=\"background-color:rgb(17, 0, 0)\">l</span><span style=\"background-color:rgb(37, 0, 0)\">l</span><span style=\"background-color:rgb(109, 0, 0)\">a</span><span style=\"background-color:rgb(-11, 0, 0)\">r</span><span style=\"background-color:rgb(37, 0, 0)\">s</span>"
      ],
      "text/plain": [
       "<IPython.core.display.HTML object>"
      ]
     },
     "metadata": {},
     "output_type": "display_data"
    },
    {
     "data": {
      "text/html": [
       "<span style=\"background-color:rgb(-58, 0, 0)\">m</span><span style=\"background-color:rgb(114, 0, 0)\">o</span><span style=\"background-color:rgb(-15, 0, 0)\">r</span><span style=\"background-color:rgb(93, 0, 0)\">v</span><span style=\"background-color:rgb(203, 0, 0)\">i</span><span style=\"background-color:rgb(17, 0, 0)\">l</span><span style=\"background-color:rgb(37, 0, 0)\">l</span><span style=\"background-color:rgb(109, 0, 0)\">e</span><span style=\"background-color:rgb(-38, 0, 0)\">-</span><span style=\"background-color:rgb(42, 0, 0)\">s</span><span style=\"background-color:rgb(22, 0, 0)\">u</span><span style=\"background-color:rgb(-31, 0, 0)\">r</span><span style=\"background-color:rgb(44, 0, 0)\">-</span><span style=\"background-color:rgb(0, 0, 0)\">a</span><span style=\"background-color:rgb(-32, 0, 0)\">n</span><span style=\"background-color:rgb(22, 0, 0)\">d</span><span style=\"background-color:rgb(38, 0, 0)\">e</span><span style=\"background-color:rgb(41, 0, 0)\">l</span><span style=\"background-color:rgb(102, 0, 0)\">l</span><span style=\"background-color:rgb(124, 0, 0)\">e</span>"
      ],
      "text/plain": [
       "<IPython.core.display.HTML object>"
      ]
     },
     "metadata": {},
     "output_type": "display_data"
    },
    {
     "data": {
      "text/html": [
       "<span style=\"background-color:rgb(-58, 0, 0)\">m</span><span style=\"background-color:rgb(114, 0, 0)\">o</span><span style=\"background-color:rgb(-15, 0, 0)\">r</span><span style=\"background-color:rgb(93, 0, 0)\">v</span><span style=\"background-color:rgb(203, 0, 0)\">a</span><span style=\"background-color:rgb(-7, 0, 0)\">l</span>"
      ],
      "text/plain": [
       "<IPython.core.display.HTML object>"
      ]
     },
     "metadata": {},
     "output_type": "display_data"
    },
    {
     "data": {
      "text/html": [
       "<span style=\"background-color:rgb(-58, 0, 0)\">m</span><span style=\"background-color:rgb(114, 0, 0)\">o</span><span style=\"background-color:rgb(-15, 0, 0)\">r</span><span style=\"background-color:rgb(93, 0, 0)\">v</span><span style=\"background-color:rgb(203, 0, 0)\">i</span><span style=\"background-color:rgb(17, 0, 0)\">l</span><span style=\"background-color:rgb(37, 0, 0)\">l</span><span style=\"background-color:rgb(109, 0, 0)\">i</span><span style=\"background-color:rgb(24, 0, 0)\">e</span><span style=\"background-color:rgb(-125, 0, 0)\">r</span><span style=\"background-color:rgb(87, 0, 0)\">s</span>"
      ],
      "text/plain": [
       "<IPython.core.display.HTML object>"
      ]
     },
     "metadata": {},
     "output_type": "display_data"
    },
    {
     "data": {
      "text/html": [
       "<span style=\"background-color:rgb(-58, 0, 0)\">m</span><span style=\"background-color:rgb(114, 0, 0)\">o</span><span style=\"background-color:rgb(-15, 0, 0)\">r</span><span style=\"background-color:rgb(93, 0, 0)\">v</span><span style=\"background-color:rgb(203, 0, 0)\">i</span><span style=\"background-color:rgb(17, 0, 0)\">l</span><span style=\"background-color:rgb(37, 0, 0)\">l</span><span style=\"background-color:rgb(109, 0, 0)\">e</span>"
      ],
      "text/plain": [
       "<IPython.core.display.HTML object>"
      ]
     },
     "metadata": {},
     "output_type": "display_data"
    },
    {
     "data": {
      "text/html": [
       "<span style=\"background-color:rgb(-58, 0, 0)\">m</span><span style=\"background-color:rgb(114, 0, 0)\">o</span><span style=\"background-color:rgb(-15, 0, 0)\">r</span><span style=\"background-color:rgb(93, 0, 0)\">v</span><span style=\"background-color:rgb(203, 0, 0)\">i</span><span style=\"background-color:rgb(17, 0, 0)\">l</span><span style=\"background-color:rgb(37, 0, 0)\">l</span><span style=\"background-color:rgb(109, 0, 0)\">e</span><span style=\"background-color:rgb(-38, 0, 0)\">-</span><span style=\"background-color:rgb(42, 0, 0)\">l</span><span style=\"background-color:rgb(135, 0, 0)\">è</span><span style=\"background-color:rgb(23, 0, 0)\">s</span><span style=\"background-color:rgb(23, 0, 0)\">-</span><span style=\"background-color:rgb(-54, 0, 0)\">v</span><span style=\"background-color:rgb(80, 0, 0)\">i</span><span style=\"background-color:rgb(-29, 0, 0)\">c</span>"
      ],
      "text/plain": [
       "<IPython.core.display.HTML object>"
      ]
     },
     "metadata": {},
     "output_type": "display_data"
    },
    {
     "data": {
      "text/html": [
       "<span style=\"background-color:rgb(-58, 0, 0)\">m</span><span style=\"background-color:rgb(114, 0, 0)\">o</span><span style=\"background-color:rgb(-15, 0, 0)\">r</span><span style=\"background-color:rgb(93, 0, 0)\">r</span><span style=\"background-color:rgb(202, 0, 0)\">e</span>"
      ],
      "text/plain": [
       "<IPython.core.display.HTML object>"
      ]
     },
     "metadata": {},
     "output_type": "display_data"
    },
    {
     "data": {
      "text/html": [
       "<span style=\"background-color:rgb(-58, 0, 0)\">t</span><span style=\"background-color:rgb(-42, 0, 0)\">h</span><span style=\"background-color:rgb(69, 0, 0)\">i</span><span style=\"background-color:rgb(17, 0, 0)\">e</span><span style=\"background-color:rgb(-12, 0, 0)\">r</span><span style=\"background-color:rgb(35, 0, 0)\">v</span><span style=\"background-color:rgb(202, 0, 0)\">i</span><span style=\"background-color:rgb(30, 0, 0)\">l</span><span style=\"background-color:rgb(52, 0, 0)\">l</span><span style=\"background-color:rgb(88, 0, 0)\">e</span><span style=\"background-color:rgb(-24, 0, 0)\">-</span><span style=\"background-color:rgb(23, 0, 0)\">s</span><span style=\"background-color:rgb(-4, 0, 0)\">u</span><span style=\"background-color:rgb(-38, 0, 0)\">r</span><span style=\"background-color:rgb(41, 0, 0)\">-</span><span style=\"background-color:rgb(-47, 0, 0)\">m</span><span style=\"background-color:rgb(106, 0, 0)\">e</span><span style=\"background-color:rgb(5, 0, 0)\">u</span><span style=\"background-color:rgb(24, 0, 0)\">s</span><span style=\"background-color:rgb(118, 0, 0)\">e</span>"
      ],
      "text/plain": [
       "<IPython.core.display.HTML object>"
      ]
     },
     "metadata": {},
     "output_type": "display_data"
    },
    {
     "data": {
      "text/html": [
       "<span style=\"background-color:rgb(-58, 0, 0)\">s</span><span style=\"background-color:rgb(47, 0, 0)\">a</span><span style=\"background-color:rgb(38, 0, 0)\">i</span><span style=\"background-color:rgb(22, 0, 0)\">n</span><span style=\"background-color:rgb(-23, 0, 0)\">t</span><span style=\"background-color:rgb(32, 0, 0)\">-</span><span style=\"background-color:rgb(-25, 0, 0)\">n</span><span style=\"background-color:rgb(92, 0, 0)\">i</span><span style=\"background-color:rgb(-41, 0, 0)\">c</span><span style=\"background-color:rgb(-21, 0, 0)\">o</span><span style=\"background-color:rgb(-1, 0, 0)\">l</span><span style=\"background-color:rgb(137, 0, 0)\">a</span><span style=\"background-color:rgb(61, 0, 0)\">s</span><span style=\"background-color:rgb(91, 0, 0)\">-</span><span style=\"background-color:rgb(25, 0, 0)\">d</span><span style=\"background-color:rgb(23, 0, 0)\">e</span><span style=\"background-color:rgb(26, 0, 0)\">-</span><span style=\"background-color:rgb(-117, 0, 0)\">l</span><span style=\"background-color:rgb(81, 0, 0)\">a</span><span style=\"background-color:rgb(-18, 0, 0)\">-</span><span style=\"background-color:rgb(-158, 0, 0)\">g</span><span style=\"background-color:rgb(5, 0, 0)\">r</span><span style=\"background-color:rgb(86, 0, 0)\">a</span><span style=\"background-color:rgb(15, 0, 0)\">v</span><span style=\"background-color:rgb(202, 0, 0)\">e</span>"
      ],
      "text/plain": [
       "<IPython.core.display.HTML object>"
      ]
     },
     "metadata": {},
     "output_type": "display_data"
    }
   ],
   "source": [
    "neurone = 21\n",
    "for i in top_indices[neurone]:\n",
    "\n",
    "    ville = \"\".join([int_to_char[k] for k in [p.item() for p in X_train[i.item()] if p.item() != 0] if k != 1 and k != 2])\n",
    "    act = model(X_train[i.item()].unsqueeze(0), act=True) # (B, L, 128)\n",
    "\n",
    "    print_colore(ville, act[0, :, neurone].tolist()[:len(ville)])\n",
    "\n",
    "# 58 = saint"
   ]
  },
  {
   "cell_type": "code",
   "execution_count": null,
   "metadata": {},
   "outputs": [],
   "source": []
  },
  {
   "cell_type": "markdown",
   "metadata": {},
   "source": [
    "### features interprétables ?"
   ]
  },
  {
   "cell_type": "code",
   "execution_count": 18,
   "metadata": {},
   "outputs": [],
   "source": [
    "top_k = 20\n",
    "batch_size = 64"
   ]
  },
  {
   "cell_type": "code",
   "execution_count": 19,
   "metadata": {},
   "outputs": [],
   "source": [
    "def update_top_k(top_values, top_indices, new_values, new_indices, k=20):\n",
    "    combined_values = torch.cat([top_values, new_values])\n",
    "    combined_indices = torch.cat([top_indices, new_indices])\n",
    "    \n",
    "    new_top_values, topk_indices = torch.topk(combined_values, k)\n",
    "    new_top_indices = combined_indices[topk_indices]\n",
    "    \n",
    "    return new_top_values, new_top_indices"
   ]
  },
  {
   "cell_type": "code",
   "execution_count": 20,
   "metadata": {},
   "outputs": [],
   "source": [
    "top_values = torch.full((sae.num_features, top_k), -float('inf'))\n",
    "top_indices = torch.full((sae.num_features, top_k), -1, dtype=torch.long)\n",
    "\n",
    "for i in range(0, X_train.shape[0], batch_size):\n",
    "    X = X_train[i:i+batch_size]\n",
    "    act = model(X, act=True) # (B, L, 128)\n",
    "    _, _, features, _, _ = sae(act)\n",
    "    max_features = features.max(dim=1).values # (B, 128)\n",
    "\n",
    "    for dim in range(sae.num_features):\n",
    "        dim_values = max_features[:, dim]\n",
    "        dim_indices = i + torch.arange(batch_size)\n",
    "\n",
    "        top_values[dim], top_indices[dim] = update_top_k(top_values[dim], top_indices[dim], dim_values, dim_indices)"
   ]
  },
  {
   "cell_type": "code",
   "execution_count": 41,
   "metadata": {},
   "outputs": [
    {
     "data": {
      "text/html": [
       "<span style=\"background-color:rgb(0, 0, 0)\">a</span><span style=\"background-color:rgb(0, 0, 0)\">l</span><span style=\"background-color:rgb(0, 0, 0)\">q</span><span style=\"background-color:rgb(97, 0, 0)\">u</span><span style=\"background-color:rgb(0, 0, 0)\">i</span><span style=\"background-color:rgb(0, 0, 0)\">n</span><span style=\"background-color:rgb(0, 0, 0)\">e</span><span style=\"background-color:rgb(21, 0, 0)\">s</span>"
      ],
      "text/plain": [
       "<IPython.core.display.HTML object>"
      ]
     },
     "metadata": {},
     "output_type": "display_data"
    },
    {
     "data": {
      "text/html": [
       "<span style=\"background-color:rgb(0, 0, 0)\">l</span><span style=\"background-color:rgb(0, 0, 0)\">a</span><span style=\"background-color:rgb(0, 0, 0)\">r</span><span style=\"background-color:rgb(0, 0, 0)\">o</span><span style=\"background-color:rgb(52, 0, 0)\">q</span><span style=\"background-color:rgb(95, 0, 0)\">u</span><span style=\"background-color:rgb(0, 0, 0)\">e</span><span style=\"background-color:rgb(12, 0, 0)\">-</span><span style=\"background-color:rgb(0, 0, 0)\">d</span><span style=\"background-color:rgb(0, 0, 0)\">'</span><span style=\"background-color:rgb(0, 0, 0)\">o</span><span style=\"background-color:rgb(19, 0, 0)\">l</span><span style=\"background-color:rgb(0, 0, 0)\">m</span><span style=\"background-color:rgb(0, 0, 0)\">e</span><span style=\"background-color:rgb(5, 0, 0)\">s</span>"
      ],
      "text/plain": [
       "<IPython.core.display.HTML object>"
      ]
     },
     "metadata": {},
     "output_type": "display_data"
    },
    {
     "data": {
      "text/html": [
       "<span style=\"background-color:rgb(0, 0, 0)\">l</span><span style=\"background-color:rgb(0, 0, 0)\">a</span><span style=\"background-color:rgb(0, 0, 0)\">r</span><span style=\"background-color:rgb(0, 0, 0)\">o</span><span style=\"background-color:rgb(52, 0, 0)\">q</span><span style=\"background-color:rgb(95, 0, 0)\">u</span><span style=\"background-color:rgb(0, 0, 0)\">e</span>"
      ],
      "text/plain": [
       "<IPython.core.display.HTML object>"
      ]
     },
     "metadata": {},
     "output_type": "display_data"
    },
    {
     "data": {
      "text/html": [
       "<span style=\"background-color:rgb(0, 0, 0)\">l</span><span style=\"background-color:rgb(0, 0, 0)\">a</span><span style=\"background-color:rgb(0, 0, 0)\">r</span><span style=\"background-color:rgb(0, 0, 0)\">o</span><span style=\"background-color:rgb(52, 0, 0)\">q</span><span style=\"background-color:rgb(95, 0, 0)\">u</span><span style=\"background-color:rgb(0, 0, 0)\">e</span><span style=\"background-color:rgb(12, 0, 0)\">b</span><span style=\"background-color:rgb(0, 0, 0)\">r</span><span style=\"background-color:rgb(0, 0, 0)\">o</span><span style=\"background-color:rgb(38, 0, 0)\">u</span>"
      ],
      "text/plain": [
       "<IPython.core.display.HTML object>"
      ]
     },
     "metadata": {},
     "output_type": "display_data"
    },
    {
     "data": {
      "text/html": [
       "<span style=\"background-color:rgb(0, 0, 0)\">l</span><span style=\"background-color:rgb(0, 0, 0)\">a</span><span style=\"background-color:rgb(0, 0, 0)\">r</span><span style=\"background-color:rgb(0, 0, 0)\">o</span><span style=\"background-color:rgb(52, 0, 0)\">q</span><span style=\"background-color:rgb(95, 0, 0)\">u</span><span style=\"background-color:rgb(0, 0, 0)\">e</span><span style=\"background-color:rgb(12, 0, 0)\">-</span><span style=\"background-color:rgb(0, 0, 0)\">d</span><span style=\"background-color:rgb(0, 0, 0)\">e</span><span style=\"background-color:rgb(0, 0, 0)\">-</span><span style=\"background-color:rgb(0, 0, 0)\">f</span><span style=\"background-color:rgb(0, 0, 0)\">a</span>"
      ],
      "text/plain": [
       "<IPython.core.display.HTML object>"
      ]
     },
     "metadata": {},
     "output_type": "display_data"
    },
    {
     "data": {
      "text/html": [
       "<span style=\"background-color:rgb(0, 0, 0)\">l</span><span style=\"background-color:rgb(0, 0, 0)\">a</span><span style=\"background-color:rgb(0, 0, 0)\">r</span><span style=\"background-color:rgb(0, 0, 0)\">o</span><span style=\"background-color:rgb(52, 0, 0)\">q</span><span style=\"background-color:rgb(95, 0, 0)\">u</span><span style=\"background-color:rgb(0, 0, 0)\">e</span><span style=\"background-color:rgb(12, 0, 0)\">-</span><span style=\"background-color:rgb(0, 0, 0)\">d</span><span style=\"background-color:rgb(0, 0, 0)\">e</span><span style=\"background-color:rgb(0, 0, 0)\">s</span><span style=\"background-color:rgb(0, 0, 0)\">-</span><span style=\"background-color:rgb(0, 0, 0)\">a</span><span style=\"background-color:rgb(0, 0, 0)\">r</span><span style=\"background-color:rgb(0, 0, 0)\">c</span><span style=\"background-color:rgb(5, 0, 0)\">s</span>"
      ],
      "text/plain": [
       "<IPython.core.display.HTML object>"
      ]
     },
     "metadata": {},
     "output_type": "display_data"
    },
    {
     "data": {
      "text/html": [
       "<span style=\"background-color:rgb(0, 0, 0)\">l</span><span style=\"background-color:rgb(0, 0, 0)\">a</span><span style=\"background-color:rgb(0, 0, 0)\">r</span><span style=\"background-color:rgb(0, 0, 0)\">o</span><span style=\"background-color:rgb(52, 0, 0)\">q</span><span style=\"background-color:rgb(95, 0, 0)\">u</span><span style=\"background-color:rgb(0, 0, 0)\">e</span><span style=\"background-color:rgb(12, 0, 0)\">-</span><span style=\"background-color:rgb(0, 0, 0)\">t</span><span style=\"background-color:rgb(0, 0, 0)\">i</span><span style=\"background-color:rgb(0, 0, 0)\">m</span><span style=\"background-color:rgb(0, 0, 0)\">b</span><span style=\"background-color:rgb(0, 0, 0)\">a</span><span style=\"background-color:rgb(0, 0, 0)\">u</span><span style=\"background-color:rgb(0, 0, 0)\">t</span>"
      ],
      "text/plain": [
       "<IPython.core.display.HTML object>"
      ]
     },
     "metadata": {},
     "output_type": "display_data"
    },
    {
     "data": {
      "text/html": [
       "<span style=\"background-color:rgb(0, 0, 0)\">l</span><span style=\"background-color:rgb(0, 0, 0)\">a</span><span style=\"background-color:rgb(0, 0, 0)\">r</span><span style=\"background-color:rgb(0, 0, 0)\">o</span><span style=\"background-color:rgb(52, 0, 0)\">q</span><span style=\"background-color:rgb(95, 0, 0)\">u</span><span style=\"background-color:rgb(0, 0, 0)\">e</span><span style=\"background-color:rgb(12, 0, 0)\">v</span><span style=\"background-color:rgb(0, 0, 0)\">i</span><span style=\"background-color:rgb(12, 0, 0)\">e</span><span style=\"background-color:rgb(43, 0, 0)\">i</span><span style=\"background-color:rgb(66, 0, 0)\">l</span><span style=\"background-color:rgb(0, 0, 0)\">l</span><span style=\"background-color:rgb(0, 0, 0)\">e</span>"
      ],
      "text/plain": [
       "<IPython.core.display.HTML object>"
      ]
     },
     "metadata": {},
     "output_type": "display_data"
    },
    {
     "data": {
      "text/html": [
       "<span style=\"background-color:rgb(0, 0, 0)\">l</span><span style=\"background-color:rgb(0, 0, 0)\">a</span><span style=\"background-color:rgb(0, 0, 0)\">r</span><span style=\"background-color:rgb(0, 0, 0)\">o</span><span style=\"background-color:rgb(52, 0, 0)\">q</span><span style=\"background-color:rgb(95, 0, 0)\">u</span><span style=\"background-color:rgb(0, 0, 0)\">e</span>"
      ],
      "text/plain": [
       "<IPython.core.display.HTML object>"
      ]
     },
     "metadata": {},
     "output_type": "display_data"
    },
    {
     "data": {
      "text/html": [
       "<span style=\"background-color:rgb(0, 0, 0)\">l</span><span style=\"background-color:rgb(0, 0, 0)\">a</span><span style=\"background-color:rgb(0, 0, 0)\">r</span><span style=\"background-color:rgb(0, 0, 0)\">o</span><span style=\"background-color:rgb(52, 0, 0)\">q</span><span style=\"background-color:rgb(95, 0, 0)\">u</span><span style=\"background-color:rgb(0, 0, 0)\">e</span><span style=\"background-color:rgb(12, 0, 0)\">-</span><span style=\"background-color:rgb(0, 0, 0)\">d</span><span style=\"background-color:rgb(0, 0, 0)\">e</span><span style=\"background-color:rgb(0, 0, 0)\">s</span><span style=\"background-color:rgb(0, 0, 0)\">-</span><span style=\"background-color:rgb(0, 0, 0)\">a</span><span style=\"background-color:rgb(0, 0, 0)\">l</span><span style=\"background-color:rgb(0, 0, 0)\">b</span><span style=\"background-color:rgb(0, 0, 0)\">è</span><span style=\"background-color:rgb(0, 0, 0)\">r</span><span style=\"background-color:rgb(0, 0, 0)\">e</span><span style=\"background-color:rgb(8, 0, 0)\">s</span>"
      ],
      "text/plain": [
       "<IPython.core.display.HTML object>"
      ]
     },
     "metadata": {},
     "output_type": "display_data"
    },
    {
     "data": {
      "text/html": [
       "<span style=\"background-color:rgb(0, 0, 0)\">i</span><span style=\"background-color:rgb(0, 0, 0)\">z</span><span style=\"background-color:rgb(0, 0, 0)\">e</span><span style=\"background-color:rgb(17, 0, 0)\">l</span><span style=\"background-color:rgb(0, 0, 0)\">-</span><span style=\"background-color:rgb(0, 0, 0)\">l</span><span style=\"background-color:rgb(11, 0, 0)\">è</span><span style=\"background-color:rgb(0, 0, 0)\">s</span><span style=\"background-color:rgb(0, 0, 0)\">-</span><span style=\"background-color:rgb(0, 0, 0)\">é</span><span style=\"background-color:rgb(0, 0, 0)\">q</span><span style=\"background-color:rgb(95, 0, 0)\">u</span><span style=\"background-color:rgb(0, 0, 0)\">e</span><span style=\"background-color:rgb(2, 0, 0)\">r</span><span style=\"background-color:rgb(0, 0, 0)\">c</span><span style=\"background-color:rgb(7, 0, 0)\">h</span><span style=\"background-color:rgb(0, 0, 0)\">i</span><span style=\"background-color:rgb(0, 0, 0)\">n</span>"
      ],
      "text/plain": [
       "<IPython.core.display.HTML object>"
      ]
     },
     "metadata": {},
     "output_type": "display_data"
    },
    {
     "data": {
      "text/html": [
       "<span style=\"background-color:rgb(0, 0, 0)\">l</span><span style=\"background-color:rgb(0, 0, 0)\">a</span><span style=\"background-color:rgb(0, 0, 0)\"> </span><span style=\"background-color:rgb(0, 0, 0)\">r</span><span style=\"background-color:rgb(0, 0, 0)\">o</span><span style=\"background-color:rgb(8, 0, 0)\">u</span><span style=\"background-color:rgb(0, 0, 0)\">q</span><span style=\"background-color:rgb(95, 0, 0)\">u</span><span style=\"background-color:rgb(0, 0, 0)\">e</span><span style=\"background-color:rgb(0, 0, 0)\">t</span><span style=\"background-color:rgb(0, 0, 0)\">t</span><span style=\"background-color:rgb(0, 0, 0)\">e</span>"
      ],
      "text/plain": [
       "<IPython.core.display.HTML object>"
      ]
     },
     "metadata": {},
     "output_type": "display_data"
    },
    {
     "data": {
      "text/html": [
       "<span style=\"background-color:rgb(0, 0, 0)\">l</span><span style=\"background-color:rgb(0, 0, 0)\">a</span><span style=\"background-color:rgb(0, 0, 0)\">l</span><span style=\"background-color:rgb(0, 0, 0)\">u</span><span style=\"background-color:rgb(0, 0, 0)\">q</span><span style=\"background-color:rgb(94, 0, 0)\">u</span><span style=\"background-color:rgb(0, 0, 0)\">e</span>"
      ],
      "text/plain": [
       "<IPython.core.display.HTML object>"
      ]
     },
     "metadata": {},
     "output_type": "display_data"
    },
    {
     "data": {
      "text/html": [
       "<span style=\"background-color:rgb(0, 0, 0)\">l</span><span style=\"background-color:rgb(0, 0, 0)\">a</span><span style=\"background-color:rgb(0, 0, 0)\">q</span><span style=\"background-color:rgb(92, 0, 0)\">u</span><span style=\"background-color:rgb(0, 0, 0)\">e</span><span style=\"background-color:rgb(8, 0, 0)\">u</span><span style=\"background-color:rgb(0, 0, 0)\">i</span><span style=\"background-color:rgb(19, 0, 0)\">l</span><span style=\"background-color:rgb(0, 0, 0)\">l</span><span style=\"background-color:rgb(0, 0, 0)\">e</span>"
      ],
      "text/plain": [
       "<IPython.core.display.HTML object>"
      ]
     },
     "metadata": {},
     "output_type": "display_data"
    },
    {
     "data": {
      "text/html": [
       "<span style=\"background-color:rgb(0, 0, 0)\">l</span><span style=\"background-color:rgb(0, 0, 0)\">a</span><span style=\"background-color:rgb(0, 0, 0)\">b</span><span style=\"background-color:rgb(0, 0, 0)\">o</span><span style=\"background-color:rgb(15, 0, 0)\">u</span><span style=\"background-color:rgb(0, 0, 0)\">q</span><span style=\"background-color:rgb(91, 0, 0)\">u</span><span style=\"background-color:rgb(0, 0, 0)\">e</span><span style=\"background-color:rgb(0, 0, 0)\">r</span><span style=\"background-color:rgb(0, 0, 0)\">i</span><span style=\"background-color:rgb(0, 0, 0)\">e</span>"
      ],
      "text/plain": [
       "<IPython.core.display.HTML object>"
      ]
     },
     "metadata": {},
     "output_type": "display_data"
    },
    {
     "data": {
      "text/html": [
       "<span style=\"background-color:rgb(0, 0, 0)\">p</span><span style=\"background-color:rgb(0, 0, 0)\">o</span><span style=\"background-color:rgb(19, 0, 0)\">u</span><span style=\"background-color:rgb(0, 0, 0)\">y</span><span style=\"background-color:rgb(0, 0, 0)\">-</span><span style=\"background-color:rgb(0, 0, 0)\">r</span><span style=\"background-color:rgb(0, 0, 0)\">o</span><span style=\"background-color:rgb(11, 0, 0)\">q</span><span style=\"background-color:rgb(90, 0, 0)\">u</span><span style=\"background-color:rgb(0, 0, 0)\">e</span><span style=\"background-color:rgb(13, 0, 0)\">l</span><span style=\"background-color:rgb(0, 0, 0)\">a</span><span style=\"background-color:rgb(21, 0, 0)\">u</span><span style=\"background-color:rgb(0, 0, 0)\">r</span><span style=\"background-color:rgb(0, 0, 0)\">e</span>"
      ],
      "text/plain": [
       "<IPython.core.display.HTML object>"
      ]
     },
     "metadata": {},
     "output_type": "display_data"
    },
    {
     "data": {
      "text/html": [
       "<span style=\"background-color:rgb(0, 0, 0)\">l</span><span style=\"background-color:rgb(0, 0, 0)\">e</span><span style=\"background-color:rgb(0, 0, 0)\"> </span><span style=\"background-color:rgb(0, 0, 0)\">t</span><span style=\"background-color:rgb(0, 0, 0)\">o</span><span style=\"background-color:rgb(17, 0, 0)\">u</span><span style=\"background-color:rgb(0, 0, 0)\">q</span><span style=\"background-color:rgb(90, 0, 0)\">u</span><span style=\"background-color:rgb(0, 0, 0)\">e</span><span style=\"background-color:rgb(1, 0, 0)\">t</span><span style=\"background-color:rgb(0, 0, 0)\">-</span><span style=\"background-color:rgb(0, 0, 0)\">p</span><span style=\"background-color:rgb(0, 0, 0)\">a</span><span style=\"background-color:rgb(0, 0, 0)\">r</span><span style=\"background-color:rgb(0, 0, 0)\">i</span><span style=\"background-color:rgb(0, 0, 0)\">s</span><span style=\"background-color:rgb(0, 0, 0)\">-</span><span style=\"background-color:rgb(0, 0, 0)\">p</span><span style=\"background-color:rgb(0, 0, 0)\">l</span><span style=\"background-color:rgb(1, 0, 0)\">a</span><span style=\"background-color:rgb(0, 0, 0)\">g</span><span style=\"background-color:rgb(5, 0, 0)\">e</span>"
      ],
      "text/plain": [
       "<IPython.core.display.HTML object>"
      ]
     },
     "metadata": {},
     "output_type": "display_data"
    },
    {
     "data": {
      "text/html": [
       "<span style=\"background-color:rgb(0, 0, 0)\">l</span><span style=\"background-color:rgb(0, 0, 0)\">o</span><span style=\"background-color:rgb(0, 0, 0)\">u</span><span style=\"background-color:rgb(0, 0, 0)\">r</span><span style=\"background-color:rgb(0, 0, 0)\">q</span><span style=\"background-color:rgb(90, 0, 0)\">u</span><span style=\"background-color:rgb(0, 0, 0)\">e</span><span style=\"background-color:rgb(15, 0, 0)\">n</span>"
      ],
      "text/plain": [
       "<IPython.core.display.HTML object>"
      ]
     },
     "metadata": {},
     "output_type": "display_data"
    },
    {
     "data": {
      "text/html": [
       "<span style=\"background-color:rgb(0, 0, 0)\">l</span><span style=\"background-color:rgb(0, 0, 0)\">a</span><span style=\"background-color:rgb(0, 0, 0)\">c</span><span style=\"background-color:rgb(23, 0, 0)\">q</span>"
      ],
      "text/plain": [
       "<IPython.core.display.HTML object>"
      ]
     },
     "metadata": {},
     "output_type": "display_data"
    },
    {
     "data": {
      "text/html": [
       "<span style=\"background-color:rgb(0, 0, 0)\">l</span><span style=\"background-color:rgb(0, 0, 0)\">a</span><span style=\"background-color:rgb(0, 0, 0)\">c</span><span style=\"background-color:rgb(23, 0, 0)\">q</span><span style=\"background-color:rgb(89, 0, 0)\">u</span><span style=\"background-color:rgb(0, 0, 0)\">y</span>"
      ],
      "text/plain": [
       "<IPython.core.display.HTML object>"
      ]
     },
     "metadata": {},
     "output_type": "display_data"
    }
   ],
   "source": [
    "feature = 200\n",
    "for i in top_indices[feature]:\n",
    "    ville = \"\".join([int_to_char[k] for k in [p.item() for p in X_train[i.item()] if p.item() != 0] if k != 1 and k != 2])\n",
    "    act = model(X_train[i.item()].unsqueeze(0), act=True) # (B, L, 128)\n",
    "    _, _, features, _, _ = sae(act)\n",
    "\n",
    "    print_colore(ville, features[0, :, feature].tolist()[:len(ville)])\n",
    "\n",
    "# 7 = saint mais pas au début\n",
    "# 8 = saint\n",
    "# 9 = présence de \"ch\""
   ]
  },
  {
   "cell_type": "code",
   "execution_count": null,
   "metadata": {},
   "outputs": [],
   "source": []
  },
  {
   "cell_type": "code",
   "execution_count": null,
   "metadata": {},
   "outputs": [],
   "source": []
  },
  {
   "cell_type": "code",
   "execution_count": 22,
   "metadata": {},
   "outputs": [],
   "source": [
    "def print_colore(text, values):\n",
    "    assert len(text) == len(values)\n",
    "\n",
    "    def valeur_en_nuance_rouge(value):\n",
    "        red_intensity = int(value * 255)\n",
    "        return f'rgb({red_intensity}, 0, 0)'\n",
    "\n",
    "    html_text = ''.join([f'<span style=\"background-color:{valeur_en_nuance_rouge(values[i % len(values)])}\">{char}</span>' for i, char in enumerate(text)])\n",
    "    display(HTML(html_text))"
   ]
  },
  {
   "cell_type": "code",
   "execution_count": null,
   "metadata": {},
   "outputs": [],
   "source": []
  }
 ],
 "metadata": {
  "kernelspec": {
   "display_name": "torch24",
   "language": "python",
   "name": "python3"
  },
  "language_info": {
   "codemirror_mode": {
    "name": "ipython",
    "version": 3
   },
   "file_extension": ".py",
   "mimetype": "text/x-python",
   "name": "python",
   "nbconvert_exporter": "python",
   "pygments_lexer": "ipython3",
   "version": "3.12.3"
  }
 },
 "nbformat": 4,
 "nbformat_minor": 2
}
