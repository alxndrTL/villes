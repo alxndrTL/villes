{
 "cells": [
  {
   "cell_type": "code",
   "execution_count": 2,
   "metadata": {},
   "outputs": [],
   "source": [
    "import torch\n",
    "import torch.nn as nn\n",
    "import torch.nn.functional as F\n",
    "\n",
    "import matplotlib.pyplot as plt\n",
    "\n",
    "from transformer import TransformerConfig\n",
    "from lm import LM"
   ]
  },
  {
   "cell_type": "code",
   "execution_count": 3,
   "metadata": {},
   "outputs": [],
   "source": [
    "# chargement des données\n",
    "fichier = open('villes.txt')\n",
    "donnees = fichier.read()\n",
    "villes = donnees.replace('\\n', ',').split(',')\n",
    "villes = [ville for ville in villes if len(ville) > 2]"
   ]
  },
  {
   "cell_type": "code",
   "execution_count": 4,
   "metadata": {},
   "outputs": [],
   "source": [
    "# création du vocabulaire\n",
    "\n",
    "vocabulaire = sorted(list(set(''.join(villes))))\n",
    "vocabulaire = [\"<pad>\", \"<SOS>\", \"<EOS>\"] + vocabulaire\n",
    "# <SOS> et <EOS> sont ajoutés respectivement au début et à la fin de chaque séquence\n",
    "# <pad> est utilisé pour faire en sorte que toutes les séquences aient la même longueur\n",
    "\n",
    "# pour convertir char <-> int\n",
    "char_to_int = {}\n",
    "int_to_char = {}\n",
    "\n",
    "for (c, i) in zip(vocabulaire, range(len(vocabulaire))):\n",
    "    char_to_int[c] = i\n",
    "    int_to_char[i] = c"
   ]
  },
  {
   "cell_type": "code",
   "execution_count": 5,
   "metadata": {},
   "outputs": [],
   "source": [
    "num_sequences = len(villes)\n",
    "max_len = max([len(ville) for ville in villes]) + 2 # <SOS> et <EOS>\n",
    "\n",
    "X = torch.zeros((num_sequences, max_len), dtype=torch.int32)\n",
    "\n",
    "for i in range(num_sequences):\n",
    "    X[i] = torch.tensor([char_to_int['<SOS>']] + [char_to_int[c] for c in villes[i]] + [char_to_int['<EOS>']] + [char_to_int['<pad>']] * (max_len - len(villes[i]) - 2))\n",
    "\n",
    "n_split = int(0.9*X.shape[0])\n",
    "\n",
    "idx_permut = torch.randperm(X.shape[0])\n",
    "idx_train, _ = torch.sort(idx_permut[:n_split])\n",
    "idx_val, _ = torch.sort(idx_permut[n_split:])\n",
    "\n",
    "X_train = X[idx_train]\n",
    "X_val = X[idx_val]"
   ]
  },
  {
   "cell_type": "code",
   "execution_count": 6,
   "metadata": {},
   "outputs": [],
   "source": [
    "def get_batch(split, batch_size):\n",
    "    data = X_train if split == 'train' else X_val\n",
    "\n",
    "    idx_seed = torch.randint(low=int(batch_size/2), high=int(data.shape[0]-batch_size/2), size=(1,), dtype=torch.int32).item()\n",
    "\n",
    "    batch = data[int(idx_seed-batch_size/2):int(idx_seed+batch_size/2)]\n",
    "    X = batch[:, :-1] # (B, L=max_len-1=46)\n",
    "    Y = batch[:, 1:] # (B, L)\n",
    "    return X, Y.long()"
   ]
  },
  {
   "cell_type": "code",
   "execution_count": 7,
   "metadata": {},
   "outputs": [],
   "source": [
    "class AutoEncoder(nn.Module):\n",
    "    def __init__(self, act_size, d_hidden, l1_coeff):\n",
    "        super().__init__()\n",
    "\n",
    "        self.l1_coeff = l1_coeff\n",
    "\n",
    "        self.W_enc = nn.Parameter(torch.nn.init.kaiming_uniform_(torch.empty(act_size, d_hidden)))\n",
    "        self.W_dec = nn.Parameter(torch.nn.init.kaiming_uniform_(torch.empty(d_hidden, act_size)))\n",
    "        self.b_enc = nn.Parameter(torch.zeros(d_hidden))\n",
    "        self.b_dec = nn.Parameter(torch.zeros(act_size))\n",
    "\n",
    "        self.W_dec.data[:] = self.W_dec / self.W_dec.norm(dim=-1, keepdim=True)\n",
    "    \n",
    "    def forward(self, x):\n",
    "        x_cent = x - self.b_dec\n",
    "        acts = F.relu(x_cent @ self.W_enc + self.b_enc)\n",
    "        x_reconstruct = acts @ self.W_dec + self.b_dec\n",
    "        l2_loss = (x_reconstruct.float() - x.float()).pow(2).sum(-1).mean(0)\n",
    "        l1_loss = self.l1_coeff * (acts.float().abs().sum())\n",
    "        loss = l2_loss + l1_loss\n",
    "        return loss, x_reconstruct, acts, l2_loss, l1_loss\n",
    "    \n",
    "    @torch.no_grad()\n",
    "    def make_decoder_weights_and_grad_unit_norm(self):\n",
    "        W_dec_normed = self.W_dec / self.W_dec.norm(dim=-1, keepdim=True)\n",
    "        W_dec_grad_proj = (self.W_dec.grad * W_dec_normed).sum(-1, keepdim=True) * W_dec_normed\n",
    "        self.W_dec.grad -= W_dec_grad_proj\n",
    "        # Bugfix(?) for ensuring W_dec retains unit norm, this was not there when I trained my original autoencoders.\n",
    "        self.W_dec.data = W_dec_normed"
   ]
  },
  {
   "cell_type": "code",
   "execution_count": 238,
   "metadata": {},
   "outputs": [],
   "source": [
    "config = TransformerConfig(d_model=128, n_layers=1, n_heads=4, max_len=max_len, dropout=0.)\n",
    "model = LM(config, vocab_size=len(vocabulaire))\n",
    "model.load_state_dict(torch.load(\"transformer.pth\"))\n",
    "\n",
    "sae = AutoEncoder(act_size=config.d_model, d_hidden=1*128, l1_coeff=3e-4) # 3e-4 marche bien\n",
    "optim = torch.optim.Adam(sae.parameters(), lr=3e-4) # 3e-4 marche bien"
   ]
  },
  {
   "cell_type": "code",
   "execution_count": 246,
   "metadata": {},
   "outputs": [
    {
     "name": "stdout",
     "output_type": "stream",
     "text": [
      "loss : 1.1838665008544922\n"
     ]
    },
    {
     "name": "stdout",
     "output_type": "stream",
     "text": [
      "loss : 1.1868317127227783\n",
      "loss : 1.0113924741744995\n",
      "loss : 1.1215765476226807\n",
      "loss : 0.9960225224494934\n",
      "loss : 1.066565752029419\n",
      "loss : 0.9713366031646729\n",
      "loss : 0.9564013481140137\n",
      "loss : 1.021772861480713\n",
      "loss : 0.9958847761154175\n",
      "frac of features with freq < 1/100 : 0.1875\n",
      "frac of features with freq < 1/1,000 : 0.0\n",
      "frac of features with freq < 1/10,000 : 0.0\n"
     ]
    }
   ],
   "source": [
    "for i in range(1000):\n",
    "    X, Y = get_batch('train', 16) # (B, L)\n",
    "\n",
    "    act = model(X, act=True).view(-1, config.d_model) # (B*L, 128)\n",
    "\n",
    "    loss, x_reconstruct, features, l2_loss, l1_loss = sae(act)\n",
    "    loss.backward()\n",
    "    sae.make_decoder_weights_and_grad_unit_norm()\n",
    "    optim.step()\n",
    "    optim.zero_grad()\n",
    "    \n",
    "    if i%100==0:\n",
    "        print(f\"loss : {loss.item()}\")\n",
    "\n",
    "# features freq\n",
    "X, Y = get_batch('val', 512) # (B, L)\n",
    "act = model(X, act=True).view(-1, config.d_model)\n",
    "_, _, features, _, _ = sae(act)\n",
    "\n",
    "print(f\"frac of features with freq < 1/100 : {((((features>0).int()).sum(0) / features.shape[0]) < 1e-2).float().mean()}\")\n",
    "print(f\"frac of features with freq < 1/1,000 : {((((features>0).int()).sum(0) / features.shape[0]) < 1e-3).float().mean()}\")\n",
    "print(f\"frac of features with freq < 1/10,000 : {((((features>0).int()).sum(0) / features.shape[0]) < 1e-4).float().mean()}\")"
   ]
  },
  {
   "cell_type": "code",
   "execution_count": 247,
   "metadata": {},
   "outputs": [],
   "source": [
    "# feature and act reconstruction viz\n",
    "\n",
    "X, Y = get_batch('train', 1) # (B, L)\n",
    "act = model(X, act=True).view(-1, config.d_model) # (B, L, d_model)\n",
    "_, act_recon, features, _, _ = sae(act)"
   ]
  },
  {
   "cell_type": "code",
   "execution_count": 248,
   "metadata": {},
   "outputs": [
    {
     "data": {
      "text/plain": [
       "<matplotlib.image.AxesImage at 0x12901e240>"
      ]
     },
     "execution_count": 248,
     "metadata": {},
     "output_type": "execute_result"
    },
    {
     "data": {
      "image/png": "[encoded data removed]",
      "text/plain": [
       "<Figure size 640x480 with 1 Axes>"
      ]
     },
     "metadata": {},
     "output_type": "display_data"
    }
   ],
   "source": [
    "plt.imshow(features.detach())"
   ]
  },
  {
   "cell_type": "code",
   "execution_count": 249,
   "metadata": {},
   "outputs": [
    {
     "data": {
      "text/plain": [
       "<matplotlib.image.AxesImage at 0x12904da30>"
      ]
     },
     "execution_count": 249,
     "metadata": {},
     "output_type": "execute_result"
    },
    {
     "data": {
      "image/png": "[encoded data removed]",
      "text/plain": [
       "<Figure size 640x480 with 1 Axes>"
      ]
     },
     "metadata": {},
     "output_type": "display_data"
    }
   ],
   "source": [
    "plt.imshow(act.detach())"
   ]
  },
  {
   "cell_type": "code",
   "execution_count": 250,
   "metadata": {},
   "outputs": [
    {
     "data": {
      "text/plain": [
       "<matplotlib.image.AxesImage at 0x127a089e0>"
      ]
     },
     "execution_count": 250,
     "metadata": {},
     "output_type": "execute_result"
    },
    {
     "data": {
      "image/png": "[encoded data removed]",
      "text/plain": [
       "<Figure size 640x480 with 1 Axes>"
      ]
     },
     "metadata": {},
     "output_type": "display_data"
    }
   ],
   "source": [
    "plt.imshow(act_recon.detach())"
   ]
  },
  {
   "cell_type": "code",
   "execution_count": 256,
   "metadata": {},
   "outputs": [
    {
     "name": "stdout",
     "output_type": "stream",
     "text": [
      "reconstruction loss : 1.77\n"
     ]
    }
   ],
   "source": [
    "X, Y = get_batch('val', 16) # (B, L)\n",
    "act = model(X, act=True).view(-1, config.d_model)\n",
    "_, act_recon, features, _, _ = sae(act)\n",
    "\n",
    "x = model.out_norm(act_recon)\n",
    "logits = model.lm_head(x)\n",
    "\n",
    "loss = F.cross_entropy(logits.view(-1, logits.size(-1)), Y.view(-1), ignore_index=char_to_int['<pad>'])\n",
    "print(f\"reconstruction loss : {loss.item():.2f}\")"
   ]
  },
  {
   "cell_type": "code",
   "execution_count": 137,
   "metadata": {},
   "outputs": [],
   "source": [
    "# model loss : 1.75"
   ]
  },
  {
   "cell_type": "code",
   "execution_count": null,
   "metadata": {},
   "outputs": [],
   "source": [
    "# todo\n",
    "\n",
    "# mesurer les statistiques:\n",
    "\n",
    "# percentage of CE loss recovered: when replacing the activation with the dictionary's reconstruction, the percentage of the model's cross-entropy loss on next token prediction that is recovered (relative to the baseline of zero ablating the activation)\n",
    "\n",
    "# todo : neuron resampling si nécessaire"
   ]
  },
  {
   "cell_type": "code",
   "execution_count": null,
   "metadata": {},
   "outputs": [],
   "source": []
  },
  {
   "cell_type": "markdown",
   "metadata": {},
   "source": [
    "### neurones interprétables ?"
   ]
  },
  {
   "cell_type": "code",
   "execution_count": 23,
   "metadata": {},
   "outputs": [],
   "source": [
    "top_k = 20\n",
    "batch_size = 16"
   ]
  },
  {
   "cell_type": "code",
   "execution_count": 24,
   "metadata": {},
   "outputs": [],
   "source": [
    "def update_top_k(top_values, top_indices, new_values, new_indices, k=20):\n",
    "    combined_values = torch.cat([top_values, new_values])\n",
    "    combined_indices = torch.cat([top_indices, new_indices])\n",
    "    \n",
    "    new_top_values, topk_indices = torch.topk(combined_values, k)\n",
    "    new_top_indices = combined_indices[topk_indices]\n",
    "    \n",
    "    return new_top_values, new_top_indices"
   ]
  },
  {
   "cell_type": "code",
   "execution_count": 25,
   "metadata": {},
   "outputs": [],
   "source": [
    "top_values = torch.full((config.d_model, top_k), -float('inf'))\n",
    "top_indices = torch.full((config.d_model, top_k), -1, dtype=torch.long)\n",
    "\n",
    "for i in range(0, X_train.shape[0], batch_size):\n",
    "    X = X_train[i:i+batch_size]\n",
    "    act = model(X, act=True) # (B, L, 128)\n",
    "    max_act = act.max(dim=1).values # (B, 128)\n",
    "    #_, _, features, _, _ = sae(act)\n",
    "\n",
    "    for dim in range(config.d_model):\n",
    "        dim_values = max_act[:, dim]\n",
    "        dim_indices = i + torch.arange(batch_size)\n",
    "\n",
    "        top_values[dim], top_indices[dim] = update_top_k(top_values[dim], top_indices[dim], dim_values, dim_indices)"
   ]
  },
  {
   "cell_type": "code",
   "execution_count": 27,
   "metadata": {},
   "outputs": [
    {
     "data": {
      "text/plain": [
       "tensor([[16311, 17597,  5329,  ..., 18296,  6877, 15712],\n",
       "        [25760, 30220,  6606,  ..., 28856, 14648,  5383],\n",
       "        [ 7790, 26186, 14606,  ...,   754,  4187, 13258],\n",
       "        ...,\n",
       "        [15284,   613,   151,  ...,  1697,  7246,  3282],\n",
       "        [  179,  2315,  4069,  ..., 11700, 11767, 14101],\n",
       "        [10761,   147,  1647,  ..., 27146, 15850, 32370]])"
      ]
     },
     "execution_count": 27,
     "metadata": {},
     "output_type": "execute_result"
    }
   ],
   "source": [
    "top_indices"
   ]
  },
  {
   "cell_type": "code",
   "execution_count": 29,
   "metadata": {},
   "outputs": [
    {
     "data": {
      "text/plain": [
       "tensor([16311, 17597,  5329,  5091, 21815,  5259,   324,  5846,  9547,  1422,\n",
       "        12108, 11194, 16507,  2106,  2641, 25574, 29981, 18296,  6877, 15712])"
      ]
     },
     "execution_count": 29,
     "metadata": {},
     "output_type": "execute_result"
    }
   ],
   "source": [
    "top_indices[0]"
   ]
  },
  {
   "cell_type": "code",
   "execution_count": 49,
   "metadata": {},
   "outputs": [
    {
     "data": {
      "text/plain": [
       "tensor(0.7041, grad_fn=<SelectBackward0>)"
      ]
     },
     "execution_count": 49,
     "metadata": {},
     "output_type": "execute_result"
    }
   ],
   "source": [
    "model(X_train[15712].unsqueeze(0), act=True).max(dim=1).values.squeeze(0)[0]"
   ]
  },
  {
   "cell_type": "code",
   "execution_count": 122,
   "metadata": {},
   "outputs": [
    {
     "name": "stdout",
     "output_type": "stream",
     "text": [
      "['oye-et-pallet']\n",
      "['vovray-en-bornes']\n",
      "['bailly-en-rivière']\n",
      "['cernay-en-dormois']\n",
      "['sailly-en-ostrevent']\n",
      "['lailly-en-val']\n",
      "['vevy']\n",
      "['ore']\n",
      "['vitray-en-beauce']\n",
      "['bernay-en-champagne']\n",
      "['bernay-en-ponthieu']\n",
      "['tamnay-en-bazois']\n",
      "['xivray-et-marvoisin']\n",
      "['flacey-en-bresse']\n",
      "['bez-et-esparon']\n",
      "['pouques-lormes']\n",
      "['maraye-en-othe']\n",
      "['flocques']\n",
      "['bosquentin']\n",
      "['bosquel']\n"
     ]
    }
   ],
   "source": [
    "for i in top_indices[64]:\n",
    "    print([\"\".join([int_to_char[k] for k in [p.item() for p in X_train[i.item()] if p.item() != 0] if k != 1 and k != 2])])\n",
    "\n",
    "# 58 = saint"
   ]
  },
  {
   "cell_type": "markdown",
   "metadata": {},
   "source": [
    "### features interprétables ?"
   ]
  },
  {
   "cell_type": "code",
   "execution_count": 125,
   "metadata": {},
   "outputs": [],
   "source": [
    "top_k = 20\n",
    "batch_size = 64"
   ]
  },
  {
   "cell_type": "code",
   "execution_count": 126,
   "metadata": {},
   "outputs": [],
   "source": [
    "def update_top_k(top_values, top_indices, new_values, new_indices, k=20):\n",
    "    combined_values = torch.cat([top_values, new_values])\n",
    "    combined_indices = torch.cat([top_indices, new_indices])\n",
    "    \n",
    "    new_top_values, topk_indices = torch.topk(combined_values, k)\n",
    "    new_top_indices = combined_indices[topk_indices]\n",
    "    \n",
    "    return new_top_values, new_top_indices"
   ]
  },
  {
   "cell_type": "code",
   "execution_count": 127,
   "metadata": {},
   "outputs": [],
   "source": [
    "top_values = torch.full((config.d_model, top_k), -float('inf'))\n",
    "top_indices = torch.full((config.d_model, top_k), -1, dtype=torch.long)\n",
    "\n",
    "for i in range(0, X_train.shape[0], batch_size):\n",
    "    X = X_train[i:i+batch_size]\n",
    "    act = model(X, act=True) # (B, L, 128)\n",
    "    _, _, features, _, _ = sae(act)\n",
    "    max_features = features.max(dim=1).values # (B, 128)\n",
    "\n",
    "    for dim in range(config.d_model):\n",
    "        dim_values = max_features[:, dim]\n",
    "        dim_indices = i + torch.arange(batch_size)\n",
    "\n",
    "        top_values[dim], top_indices[dim] = update_top_k(top_values[dim], top_indices[dim], dim_values, dim_indices)"
   ]
  },
  {
   "cell_type": "code",
   "execution_count": 140,
   "metadata": {},
   "outputs": [
    {
     "name": "stdout",
     "output_type": "stream",
     "text": [
      "['grosbliederstroff']\n",
      "['enchastrayes']\n",
      "['secondigny']\n",
      "['secondigné-sur-belle']\n",
      "['briastre']\n",
      "['segonzac']\n",
      "['segonzac']\n",
      "['segonzac']\n",
      "['montastruc']\n",
      "['montastruc-la-conseillère']\n",
      "['montastruc-savès']\n",
      "['montastruc-de-salies']\n",
      "['montastruc']\n",
      "['montastruc']\n",
      "['ogliastro']\n",
      "['saint-castin']\n",
      "['ozenx-montestrucq']\n",
      "['cistrières']\n",
      "['diconne']\n",
      "['sainte-radegonde']\n"
     ]
    }
   ],
   "source": [
    "for i in top_indices[11]:\n",
    "    print([\"\".join([int_to_char[k] for k in [p.item() for p in X_train[i.item()] if p.item() != 0] if k != 1 and k != 2])])\n",
    "\n",
    "# 7 = saint mais pas au début\n",
    "# 8 = saint\n",
    "# 9 = présence de \"ch\""
   ]
  },
  {
   "cell_type": "code",
   "execution_count": null,
   "metadata": {},
   "outputs": [],
   "source": []
  }
 ],
 "metadata": {
  "kernelspec": {
   "display_name": "torch24",
   "language": "python",
   "name": "python3"
  },
  "language_info": {
   "codemirror_mode": {
    "name": "ipython",
    "version": 3
   },
   "file_extension": ".py",
   "mimetype": "text/x-python",
   "name": "python",
   "nbconvert_exporter": "python",
   "pygments_lexer": "ipython3",
   "version": "3.12.3"
  }
 },
 "nbformat": 4,
 "nbformat_minor": 2
}
