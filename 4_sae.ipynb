{
 "cells": [
  {
   "cell_type": "code",
   "execution_count": 95,
   "metadata": {},
   "outputs": [],
   "source": [
    "import torch\n",
    "import torch.nn as nn\n",
    "import torch.nn.functional as F\n",
    "\n",
    "import matplotlib.pyplot as plt\n",
    "\n",
    "from transformer import TransformerConfig\n",
    "from lm import LM\n",
    "\n",
    "from data import Dataset"
   ]
  },
  {
   "cell_type": "code",
   "execution_count": 83,
   "metadata": {},
   "outputs": [],
   "source": [
    "class AutoEncoder(nn.Module):\n",
    "    def __init__(self, act_size, num_features, l1_coeff):\n",
    "        super().__init__()\n",
    "\n",
    "        self.l1_coeff = l1_coeff\n",
    "        self.num_features = num_features\n",
    "\n",
    "        self.W_enc = nn.Parameter(torch.nn.init.kaiming_uniform_(torch.empty(act_size, num_features)))\n",
    "        self.W_dec = nn.Parameter(torch.nn.init.kaiming_uniform_(torch.empty(num_features, act_size)))\n",
    "        self.b_enc = nn.Parameter(torch.zeros(num_features))\n",
    "        self.b_dec = nn.Parameter(torch.zeros(act_size))\n",
    "\n",
    "        self.W_dec.data[:] = self.W_dec / self.W_dec.norm(dim=-1, keepdim=True)\n",
    "    \n",
    "    def forward(self, x):\n",
    "        x_cent = x - self.b_dec\n",
    "        acts = F.relu(x_cent @ self.W_enc + self.b_enc)\n",
    "        x_reconstruct = acts @ self.W_dec + self.b_dec\n",
    "        l2_loss = (x_reconstruct.float() - x.float()).pow(2).sum(-1).mean(0)\n",
    "        l1_loss = self.l1_coeff * (acts.float().abs().sum())\n",
    "        loss = l2_loss + l1_loss\n",
    "        return loss, x_reconstruct, acts, l2_loss, l1_loss\n",
    "    \n",
    "    @torch.no_grad()\n",
    "    def make_decoder_weights_and_grad_unit_norm(self):\n",
    "        W_dec_normed = self.W_dec / self.W_dec.norm(dim=-1, keepdim=True)\n",
    "        W_dec_grad_proj = (self.W_dec.grad * W_dec_normed).sum(-1, keepdim=True) * W_dec_normed\n",
    "        self.W_dec.grad -= W_dec_grad_proj\n",
    "        # Bugfix(?) for ensuring W_dec retains unit norm, this was not there when I trained my original autoencoders.\n",
    "        self.W_dec.data = W_dec_normed"
   ]
  },
  {
   "cell_type": "code",
   "execution_count": 87,
   "metadata": {},
   "outputs": [],
   "source": [
    "dataset = Dataset()\n",
    "\n",
    "config = TransformerConfig(d_model=64, n_layers=1, n_heads=8, max_len=dataset.max_len, dropout=0.)\n",
    "model = LM(config, vocab_size=len(dataset.vocabulaire))\n",
    "model.load_state_dict(torch.load(\"transformer_d_model64_n_heads8_1_57_1_68.pth\", map_location=torch.device('cpu')))\n",
    "\n",
    "sae = AutoEncoder(act_size=config.d_model, num_features=4*config.d_model, l1_coeff=3e-4) # 3e-4 marche bien\n",
    "optim = torch.optim.Adam(sae.parameters(), lr=3e-4) # 3e-4 marche bien"
   ]
  },
  {
   "cell_type": "code",
   "execution_count": 103,
   "metadata": {},
   "outputs": [
    {
     "name": "stdout",
     "output_type": "stream",
     "text": [
      "loss : 0.8865005373954773\n",
      "loss : 0.7893868684768677\n",
      "loss : 0.802141547203064\n",
      "loss : 0.8547680377960205\n",
      "loss : 0.8126266002655029\n",
      "loss : 0.89870285987854\n",
      "loss : 0.799763560295105\n",
      "loss : 0.8171074390411377\n",
      "loss : 0.8182780742645264\n",
      "loss : 0.849945068359375\n",
      "frac of features with freq < 1/100 : 0.30859375\n",
      "frac of features with freq < 1/1,000 : 0.08984375\n",
      "frac of features with freq < 1/10,000 : 0.00390625\n"
     ]
    }
   ],
   "source": [
    "for i in range(1000):\n",
    "    X, Y = dataset.get_batch('train', 16) # (B, L)\n",
    "\n",
    "    act = model(X, act=True).view(-1, config.d_model) # (B*L, 128)\n",
    "\n",
    "    loss, x_reconstruct, features, l2_loss, l1_loss = sae(act)\n",
    "    loss.backward()\n",
    "    sae.make_decoder_weights_and_grad_unit_norm()\n",
    "    optim.step()\n",
    "    optim.zero_grad()\n",
    "    \n",
    "    if i%100==0:\n",
    "        print(f\"loss : {loss.item()}\")\n",
    "\n",
    "# features freq\n",
    "X, Y = dataset.get_batch('val', 512) # (B, L)\n",
    "act = model(X, act=True).view(-1, config.d_model)\n",
    "_, _, features, _, _ = sae(act)\n",
    "\n",
    "print(f\"frac of features with freq < 1/100 : {((((features>0).int()).sum(0) / features.shape[0]) < 1e-2).float().mean()}\")\n",
    "print(f\"frac of features with freq < 1/1,000 : {((((features>0).int()).sum(0) / features.shape[0]) < 1e-3).float().mean()}\")\n",
    "print(f\"frac of features with freq < 1/10,000 : {((((features>0).int()).sum(0) / features.shape[0]) < 1e-4).float().mean()}\")"
   ]
  },
  {
   "cell_type": "code",
   "execution_count": 104,
   "metadata": {},
   "outputs": [],
   "source": [
    "torch.save(sae.state_dict(), \"sae_d_model64_e4.pth\")"
   ]
  },
  {
   "cell_type": "code",
   "execution_count": null,
   "metadata": {},
   "outputs": [],
   "source": []
  },
  {
   "cell_type": "code",
   "execution_count": null,
   "metadata": {},
   "outputs": [],
   "source": []
  },
  {
   "cell_type": "code",
   "execution_count": 105,
   "metadata": {},
   "outputs": [],
   "source": [
    "# feature and act reconstruction viz\n",
    "\n",
    "X, Y = dataset.get_batch('train', 1) # (B, L)\n",
    "act = model(X, act=True).view(-1, config.d_model) # (B, L, d_model)\n",
    "_, act_recon, features, _, _ = sae(act)"
   ]
  },
  {
   "cell_type": "code",
   "execution_count": 106,
   "metadata": {},
   "outputs": [
    {
     "data": {
      "text/plain": [
       "<matplotlib.image.AxesImage at 0x127358b30>"
      ]
     },
     "execution_count": 106,
     "metadata": {},
     "output_type": "execute_result"
    },
    {
     "data": {
      "image/png": "[encoded data removed]",
      "text/plain": [
       "<Figure size 640x480 with 1 Axes>"
      ]
     },
     "metadata": {},
     "output_type": "display_data"
    }
   ],
   "source": [
    "plt.imshow(features.detach())"
   ]
  },
  {
   "cell_type": "code",
   "execution_count": 98,
   "metadata": {},
   "outputs": [
    {
     "data": {
      "text/plain": [
       "<matplotlib.image.AxesImage at 0x12733a2a0>"
      ]
     },
     "execution_count": 98,
     "metadata": {},
     "output_type": "execute_result"
    },
    {
     "data": {
      "image/png": "[encoded data removed]",
      "text/plain": [
       "<Figure size 640x480 with 1 Axes>"
      ]
     },
     "metadata": {},
     "output_type": "display_data"
    }
   ],
   "source": [
    "plt.imshow(act.detach())"
   ]
  },
  {
   "cell_type": "code",
   "execution_count": 99,
   "metadata": {},
   "outputs": [
    {
     "data": {
      "text/plain": [
       "<matplotlib.image.AxesImage at 0x127359c10>"
      ]
     },
     "execution_count": 99,
     "metadata": {},
     "output_type": "execute_result"
    },
    {
     "data": {
      "image/png": "[encoded data removed]",
      "text/plain": [
       "<Figure size 640x480 with 1 Axes>"
      ]
     },
     "metadata": {},
     "output_type": "display_data"
    }
   ],
   "source": [
    "plt.imshow(act_recon.detach())"
   ]
  },
  {
   "cell_type": "code",
   "execution_count": 16,
   "metadata": {},
   "outputs": [
    {
     "name": "stdout",
     "output_type": "stream",
     "text": [
      "reconstruction loss : 1.71\n"
     ]
    }
   ],
   "source": [
    "X, Y = dataset.get_batch('val', 16) # (B, L)\n",
    "act = model(X, act=True).view(-1, config.d_model)\n",
    "_, act_recon, features, _, _ = sae(act)\n",
    "\n",
    "x = model.out_norm(act_recon)\n",
    "logits = model.lm_head(x)\n",
    "\n",
    "loss = F.cross_entropy(logits.view(-1, logits.size(-1)), Y.view(-1), ignore_index=dataset.char_to_int['<pad>'])\n",
    "print(f\"reconstruction loss : {loss.item():.2f}\")"
   ]
  },
  {
   "cell_type": "code",
   "execution_count": 17,
   "metadata": {},
   "outputs": [],
   "source": [
    "# model loss : 1.75"
   ]
  },
  {
   "cell_type": "code",
   "execution_count": null,
   "metadata": {},
   "outputs": [],
   "source": []
  },
  {
   "cell_type": "markdown",
   "metadata": {},
   "source": [
    "### neurones interprétables ?"
   ]
  },
  {
   "cell_type": "code",
   "execution_count": 12,
   "metadata": {},
   "outputs": [],
   "source": [
    "top_k = 20\n",
    "batch_size = 64"
   ]
  },
  {
   "cell_type": "code",
   "execution_count": 13,
   "metadata": {},
   "outputs": [],
   "source": [
    "def update_top_k(top_values, top_indices, new_values, new_indices, k=20):\n",
    "    combined_values = torch.cat([top_values, new_values])\n",
    "    combined_indices = torch.cat([top_indices, new_indices])\n",
    "    \n",
    "    new_top_values, topk_indices = torch.topk(combined_values, k)\n",
    "    new_top_indices = combined_indices[topk_indices]\n",
    "    \n",
    "    return new_top_values, new_top_indices"
   ]
  },
  {
   "cell_type": "code",
   "execution_count": 14,
   "metadata": {},
   "outputs": [],
   "source": [
    "top_values = torch.full((config.d_model, top_k), -float('inf'))\n",
    "top_indices = torch.full((config.d_model, top_k), -1, dtype=torch.long)\n",
    "\n",
    "for i in range(0, dataset.X_train.shape[0], batch_size):\n",
    "    X = dataset.X_train[i:i+batch_size]\n",
    "    act = model(X, act=True) # (B, L, 128)\n",
    "    max_act = act.max(dim=1).values # (B, 128)\n",
    "\n",
    "    for dim in range(config.d_model):\n",
    "        dim_values = max_act[:, dim]\n",
    "        dim_indices = i + torch.arange(batch_size)\n",
    "\n",
    "        top_values[dim], top_indices[dim] = update_top_k(top_values[dim], top_indices[dim], dim_values, dim_indices)"
   ]
  },
  {
   "cell_type": "code",
   "execution_count": 26,
   "metadata": {},
   "outputs": [
    {
     "data": {
      "text/html": [
       "<span style=\"background-color:rgb(63, 0, 0)\">d</span><span style=\"background-color:rgb(-85, 0, 0)\">i</span><span style=\"background-color:rgb(-83, 0, 0)\">f</span><span style=\"background-color:rgb(0, 0, 0)\">f</span><span style=\"background-color:rgb(-33, 0, 0)\">e</span><span style=\"background-color:rgb(-89, 0, 0)\">m</span><span style=\"background-color:rgb(-10, 0, 0)\">b</span><span style=\"background-color:rgb(-77, 0, 0)\">a</span><span style=\"background-color:rgb(-43, 0, 0)\">c</span><span style=\"background-color:rgb(45, 0, 0)\">h</span><span style=\"background-color:rgb(78, 0, 0)\">-</span><span style=\"background-color:rgb(187, 0, 0)\">l</span><span style=\"background-color:rgb(-42, 0, 0)\">è</span><span style=\"background-color:rgb(-40, 0, 0)\">s</span><span style=\"background-color:rgb(25, 0, 0)\">-</span><span style=\"background-color:rgb(107, 0, 0)\">h</span><span style=\"background-color:rgb(-46, 0, 0)\">e</span><span style=\"background-color:rgb(-39, 0, 0)\">l</span><span style=\"background-color:rgb(41, 0, 0)\">l</span><span style=\"background-color:rgb(10, 0, 0)\">i</span><span style=\"background-color:rgb(-15, 0, 0)\">m</span><span style=\"background-color:rgb(30, 0, 0)\">e</span><span style=\"background-color:rgb(-55, 0, 0)\">r</span>"
      ],
      "text/plain": [
       "<IPython.core.display.HTML object>"
      ]
     },
     "metadata": {},
     "output_type": "display_data"
    },
    {
     "data": {
      "text/html": [
       "<span style=\"background-color:rgb(63, 0, 0)\">d</span><span style=\"background-color:rgb(-85, 0, 0)\">i</span><span style=\"background-color:rgb(-83, 0, 0)\">e</span><span style=\"background-color:rgb(-134, 0, 0)\">f</span><span style=\"background-color:rgb(-38, 0, 0)\">f</span><span style=\"background-color:rgb(-29, 0, 0)\">e</span><span style=\"background-color:rgb(-46, 0, 0)\">n</span><span style=\"background-color:rgb(33, 0, 0)\">b</span><span style=\"background-color:rgb(-29, 0, 0)\">a</span><span style=\"background-color:rgb(-46, 0, 0)\">c</span><span style=\"background-color:rgb(60, 0, 0)\">h</span><span style=\"background-color:rgb(69, 0, 0)\">-</span><span style=\"background-color:rgb(183, 0, 0)\">a</span><span style=\"background-color:rgb(-157, 0, 0)\">u</span><span style=\"background-color:rgb(-25, 0, 0)\">-</span><span style=\"background-color:rgb(70, 0, 0)\">v</span><span style=\"background-color:rgb(-121, 0, 0)\">a</span><span style=\"background-color:rgb(-64, 0, 0)\">l</span>"
      ],
      "text/plain": [
       "<IPython.core.display.HTML object>"
      ]
     },
     "metadata": {},
     "output_type": "display_data"
    },
    {
     "data": {
      "text/html": [
       "<span style=\"background-color:rgb(63, 0, 0)\">m</span><span style=\"background-color:rgb(-59, 0, 0)\">i</span><span style=\"background-color:rgb(-32, 0, 0)\">c</span><span style=\"background-color:rgb(24, 0, 0)\">h</span><span style=\"background-color:rgb(14, 0, 0)\">e</span><span style=\"background-color:rgb(-73, 0, 0)\">l</span><span style=\"background-color:rgb(73, 0, 0)\">b</span><span style=\"background-color:rgb(-64, 0, 0)\">a</span><span style=\"background-color:rgb(-39, 0, 0)\">c</span><span style=\"background-color:rgb(30, 0, 0)\">h</span><span style=\"background-color:rgb(76, 0, 0)\">-</span><span style=\"background-color:rgb(181, 0, 0)\">l</span><span style=\"background-color:rgb(-44, 0, 0)\">e</span><span style=\"background-color:rgb(-56, 0, 0)\">-</span><span style=\"background-color:rgb(103, 0, 0)\">b</span><span style=\"background-color:rgb(-105, 0, 0)\">a</span><span style=\"background-color:rgb(-92, 0, 0)\">s</span>"
      ],
      "text/plain": [
       "<IPython.core.display.HTML object>"
      ]
     },
     "metadata": {},
     "output_type": "display_data"
    },
    {
     "data": {
      "text/html": [
       "<span style=\"background-color:rgb(63, 0, 0)\">m</span><span style=\"background-color:rgb(-59, 0, 0)\">i</span><span style=\"background-color:rgb(-32, 0, 0)\">c</span><span style=\"background-color:rgb(24, 0, 0)\">h</span><span style=\"background-color:rgb(14, 0, 0)\">e</span><span style=\"background-color:rgb(-73, 0, 0)\">l</span><span style=\"background-color:rgb(73, 0, 0)\">b</span><span style=\"background-color:rgb(-64, 0, 0)\">a</span><span style=\"background-color:rgb(-39, 0, 0)\">c</span><span style=\"background-color:rgb(30, 0, 0)\">h</span><span style=\"background-color:rgb(76, 0, 0)\">-</span><span style=\"background-color:rgb(181, 0, 0)\">l</span><span style=\"background-color:rgb(-44, 0, 0)\">e</span><span style=\"background-color:rgb(-56, 0, 0)\">-</span><span style=\"background-color:rgb(103, 0, 0)\">h</span><span style=\"background-color:rgb(-50, 0, 0)\">a</span><span style=\"background-color:rgb(-93, 0, 0)\">u</span><span style=\"background-color:rgb(-18, 0, 0)\">t</span>"
      ],
      "text/plain": [
       "<IPython.core.display.HTML object>"
      ]
     },
     "metadata": {},
     "output_type": "display_data"
    },
    {
     "data": {
      "text/html": [
       "<span style=\"background-color:rgb(63, 0, 0)\">c</span><span style=\"background-color:rgb(-15, 0, 0)\">a</span><span style=\"background-color:rgb(-159, 0, 0)\">m</span><span style=\"background-color:rgb(-1, 0, 0)\">p</span><span style=\"background-color:rgb(-20, 0, 0)\">h</span><span style=\"background-color:rgb(12, 0, 0)\">i</span><span style=\"background-color:rgb(-1, 0, 0)\">n</span><span style=\"background-color:rgb(66, 0, 0)\">-</span><span style=\"background-color:rgb(178, 0, 0)\">e</span><span style=\"background-color:rgb(-64, 0, 0)\">n</span><span style=\"background-color:rgb(-24, 0, 0)\">-</span><span style=\"background-color:rgb(82, 0, 0)\">c</span><span style=\"background-color:rgb(7, 0, 0)\">a</span><span style=\"background-color:rgb(-152, 0, 0)\">r</span><span style=\"background-color:rgb(-29, 0, 0)\">e</span><span style=\"background-color:rgb(-39, 0, 0)\">m</span><span style=\"background-color:rgb(12, 0, 0)\">b</span><span style=\"background-color:rgb(-57, 0, 0)\">a</span><span style=\"background-color:rgb(-60, 0, 0)\">u</span><span style=\"background-color:rgb(17, 0, 0)\">l</span><span style=\"background-color:rgb(9, 0, 0)\">t</span>"
      ],
      "text/plain": [
       "<IPython.core.display.HTML object>"
      ]
     },
     "metadata": {},
     "output_type": "display_data"
    },
    {
     "data": {
      "text/html": [
       "<span style=\"background-color:rgb(63, 0, 0)\">c</span><span style=\"background-color:rgb(-15, 0, 0)\">a</span><span style=\"background-color:rgb(-159, 0, 0)\">m</span><span style=\"background-color:rgb(-1, 0, 0)\">p</span><span style=\"background-color:rgb(-20, 0, 0)\">h</span><span style=\"background-color:rgb(12, 0, 0)\">i</span><span style=\"background-color:rgb(-1, 0, 0)\">n</span><span style=\"background-color:rgb(66, 0, 0)\">-</span><span style=\"background-color:rgb(178, 0, 0)\">e</span><span style=\"background-color:rgb(-64, 0, 0)\">n</span><span style=\"background-color:rgb(-24, 0, 0)\">-</span><span style=\"background-color:rgb(82, 0, 0)\">p</span><span style=\"background-color:rgb(-52, 0, 0)\">é</span><span style=\"background-color:rgb(35, 0, 0)\">v</span><span style=\"background-color:rgb(-120, 0, 0)\">è</span><span style=\"background-color:rgb(-19, 0, 0)\">l</span><span style=\"background-color:rgb(66, 0, 0)\">e</span>"
      ],
      "text/plain": [
       "<IPython.core.display.HTML object>"
      ]
     },
     "metadata": {},
     "output_type": "display_data"
    },
    {
     "data": {
      "text/html": [
       "<span style=\"background-color:rgb(63, 0, 0)\">i</span><span style=\"background-color:rgb(-45, 0, 0)\">z</span><span style=\"background-color:rgb(-35, 0, 0)\">o</span><span style=\"background-color:rgb(-86, 0, 0)\">n</span><span style=\"background-color:rgb(25, 0, 0)\">-</span><span style=\"background-color:rgb(173, 0, 0)\">l</span><span style=\"background-color:rgb(0, 0, 0)\">a</span><span style=\"background-color:rgb(-69, 0, 0)\">-</span><span style=\"background-color:rgb(24, 0, 0)\">b</span><span style=\"background-color:rgb(-111, 0, 0)\">r</span><span style=\"background-color:rgb(-93, 0, 0)\">u</span><span style=\"background-color:rgb(-43, 0, 0)\">i</span><span style=\"background-color:rgb(-11, 0, 0)\">s</span><span style=\"background-color:rgb(1, 0, 0)\">s</span><span style=\"background-color:rgb(-22, 0, 0)\">e</span>"
      ],
      "text/plain": [
       "<IPython.core.display.HTML object>"
      ]
     },
     "metadata": {},
     "output_type": "display_data"
    },
    {
     "data": {
      "text/html": [
       "<span style=\"background-color:rgb(63, 0, 0)\">f</span><span style=\"background-color:rgb(-62, 0, 0)\">ê</span><span style=\"background-color:rgb(25, 0, 0)\">c</span><span style=\"background-color:rgb(53, 0, 0)\">h</span><span style=\"background-color:rgb(10, 0, 0)\">e</span><span style=\"background-color:rgb(-43, 0, 0)\">-</span><span style=\"background-color:rgb(172, 0, 0)\">l</span><span style=\"background-color:rgb(11, 0, 0)\">'</span><span style=\"background-color:rgb(33, 0, 0)\">é</span><span style=\"background-color:rgb(22, 0, 0)\">g</span><span style=\"background-color:rgb(-32, 0, 0)\">l</span><span style=\"background-color:rgb(-12, 0, 0)\">i</span><span style=\"background-color:rgb(-18, 0, 0)\">s</span><span style=\"background-color:rgb(36, 0, 0)\">e</span>"
      ],
      "text/plain": [
       "<IPython.core.display.HTML object>"
      ]
     },
     "metadata": {},
     "output_type": "display_data"
    },
    {
     "data": {
      "text/html": [
       "<span style=\"background-color:rgb(63, 0, 0)\">c</span><span style=\"background-color:rgb(-15, 0, 0)\">h</span><span style=\"background-color:rgb(-34, 0, 0)\">a</span><span style=\"background-color:rgb(-203, 0, 0)\">m</span><span style=\"background-color:rgb(-8, 0, 0)\">b</span><span style=\"background-color:rgb(-95, 0, 0)\">o</span><span style=\"background-color:rgb(-132, 0, 0)\">n</span><span style=\"background-color:rgb(26, 0, 0)\">-</span><span style=\"background-color:rgb(170, 0, 0)\">s</span><span style=\"background-color:rgb(-59, 0, 0)\">u</span><span style=\"background-color:rgb(-82, 0, 0)\">r</span><span style=\"background-color:rgb(8, 0, 0)\">-</span><span style=\"background-color:rgb(12, 0, 0)\">l</span><span style=\"background-color:rgb(-78, 0, 0)\">a</span><span style=\"background-color:rgb(-90, 0, 0)\">c</span>"
      ],
      "text/plain": [
       "<IPython.core.display.HTML object>"
      ]
     },
     "metadata": {},
     "output_type": "display_data"
    },
    {
     "data": {
      "text/html": [
       "<span style=\"background-color:rgb(63, 0, 0)\">c</span><span style=\"background-color:rgb(-15, 0, 0)\">h</span><span style=\"background-color:rgb(-34, 0, 0)\">a</span><span style=\"background-color:rgb(-203, 0, 0)\">m</span><span style=\"background-color:rgb(-8, 0, 0)\">b</span><span style=\"background-color:rgb(-95, 0, 0)\">o</span><span style=\"background-color:rgb(-132, 0, 0)\">n</span><span style=\"background-color:rgb(26, 0, 0)\">-</span><span style=\"background-color:rgb(170, 0, 0)\">l</span><span style=\"background-color:rgb(-26, 0, 0)\">e</span><span style=\"background-color:rgb(-52, 0, 0)\">-</span><span style=\"background-color:rgb(100, 0, 0)\">c</span><span style=\"background-color:rgb(22, 0, 0)\">h</span><span style=\"background-color:rgb(-7, 0, 0)\">â</span><span style=\"background-color:rgb(37, 0, 0)\">t</span><span style=\"background-color:rgb(-11, 0, 0)\">e</span><span style=\"background-color:rgb(57, 0, 0)\">a</span><span style=\"background-color:rgb(-54, 0, 0)\">u</span>"
      ],
      "text/plain": [
       "<IPython.core.display.HTML object>"
      ]
     },
     "metadata": {},
     "output_type": "display_data"
    },
    {
     "data": {
      "text/html": [
       "<span style=\"background-color:rgb(63, 0, 0)\">c</span><span style=\"background-color:rgb(-15, 0, 0)\">h</span><span style=\"background-color:rgb(-34, 0, 0)\">a</span><span style=\"background-color:rgb(-203, 0, 0)\">m</span><span style=\"background-color:rgb(-8, 0, 0)\">b</span><span style=\"background-color:rgb(-95, 0, 0)\">o</span><span style=\"background-color:rgb(-132, 0, 0)\">n</span><span style=\"background-color:rgb(26, 0, 0)\">-</span><span style=\"background-color:rgb(170, 0, 0)\">s</span><span style=\"background-color:rgb(-59, 0, 0)\">u</span><span style=\"background-color:rgb(-82, 0, 0)\">r</span><span style=\"background-color:rgb(8, 0, 0)\">-</span><span style=\"background-color:rgb(12, 0, 0)\">c</span><span style=\"background-color:rgb(12, 0, 0)\">i</span><span style=\"background-color:rgb(-65, 0, 0)\">s</span><span style=\"background-color:rgb(-21, 0, 0)\">s</span><span style=\"background-color:rgb(-34, 0, 0)\">e</span>"
      ],
      "text/plain": [
       "<IPython.core.display.HTML object>"
      ]
     },
     "metadata": {},
     "output_type": "display_data"
    },
    {
     "data": {
      "text/html": [
       "<span style=\"background-color:rgb(63, 0, 0)\">c</span><span style=\"background-color:rgb(-15, 0, 0)\">h</span><span style=\"background-color:rgb(-34, 0, 0)\">a</span><span style=\"background-color:rgb(-203, 0, 0)\">m</span><span style=\"background-color:rgb(-8, 0, 0)\">b</span><span style=\"background-color:rgb(-95, 0, 0)\">o</span><span style=\"background-color:rgb(-132, 0, 0)\">n</span><span style=\"background-color:rgb(26, 0, 0)\">-</span><span style=\"background-color:rgb(170, 0, 0)\">s</span><span style=\"background-color:rgb(-59, 0, 0)\">u</span><span style=\"background-color:rgb(-82, 0, 0)\">r</span><span style=\"background-color:rgb(8, 0, 0)\">-</span><span style=\"background-color:rgb(12, 0, 0)\">v</span><span style=\"background-color:rgb(-130, 0, 0)\">o</span><span style=\"background-color:rgb(-89, 0, 0)\">u</span><span style=\"background-color:rgb(-19, 0, 0)\">e</span><span style=\"background-color:rgb(-72, 0, 0)\">i</span><span style=\"background-color:rgb(-60, 0, 0)\">z</span><span style=\"background-color:rgb(-24, 0, 0)\">e</span>"
      ],
      "text/plain": [
       "<IPython.core.display.HTML object>"
      ]
     },
     "metadata": {},
     "output_type": "display_data"
    },
    {
     "data": {
      "text/html": [
       "<span style=\"background-color:rgb(63, 0, 0)\">c</span><span style=\"background-color:rgb(-15, 0, 0)\">h</span><span style=\"background-color:rgb(-34, 0, 0)\">a</span><span style=\"background-color:rgb(-203, 0, 0)\">m</span><span style=\"background-color:rgb(-8, 0, 0)\">b</span><span style=\"background-color:rgb(-95, 0, 0)\">o</span><span style=\"background-color:rgb(-132, 0, 0)\">n</span><span style=\"background-color:rgb(26, 0, 0)\">-</span><span style=\"background-color:rgb(170, 0, 0)\">s</span><span style=\"background-color:rgb(-59, 0, 0)\">a</span><span style=\"background-color:rgb(-133, 0, 0)\">i</span><span style=\"background-color:rgb(-73, 0, 0)\">n</span><span style=\"background-color:rgb(-4, 0, 0)\">t</span><span style=\"background-color:rgb(-21, 0, 0)\">e</span><span style=\"background-color:rgb(-17, 0, 0)\">-</span><span style=\"background-color:rgb(75, 0, 0)\">c</span><span style=\"background-color:rgb(39, 0, 0)\">r</span><span style=\"background-color:rgb(-5, 0, 0)\">o</span><span style=\"background-color:rgb(-81, 0, 0)\">i</span><span style=\"background-color:rgb(-67, 0, 0)\">x</span>"
      ],
      "text/plain": [
       "<IPython.core.display.HTML object>"
      ]
     },
     "metadata": {},
     "output_type": "display_data"
    },
    {
     "data": {
      "text/html": [
       "<span style=\"background-color:rgb(63, 0, 0)\">c</span><span style=\"background-color:rgb(-15, 0, 0)\">h</span><span style=\"background-color:rgb(-34, 0, 0)\">a</span><span style=\"background-color:rgb(-203, 0, 0)\">m</span><span style=\"background-color:rgb(-8, 0, 0)\">b</span><span style=\"background-color:rgb(-95, 0, 0)\">o</span><span style=\"background-color:rgb(-132, 0, 0)\">n</span><span style=\"background-color:rgb(26, 0, 0)\">-</span><span style=\"background-color:rgb(170, 0, 0)\">l</span><span style=\"background-color:rgb(-26, 0, 0)\">a</span><span style=\"background-color:rgb(-70, 0, 0)\">-</span><span style=\"background-color:rgb(53, 0, 0)\">f</span><span style=\"background-color:rgb(-102, 0, 0)\">o</span><span style=\"background-color:rgb(-107, 0, 0)\">r</span><span style=\"background-color:rgb(10, 0, 0)\">ê</span><span style=\"background-color:rgb(-35, 0, 0)\">t</span>"
      ],
      "text/plain": [
       "<IPython.core.display.HTML object>"
      ]
     },
     "metadata": {},
     "output_type": "display_data"
    },
    {
     "data": {
      "text/html": [
       "<span style=\"background-color:rgb(63, 0, 0)\">f</span><span style=\"background-color:rgb(-62, 0, 0)\">i</span><span style=\"background-color:rgb(-3, 0, 0)\">t</span><span style=\"background-color:rgb(-11, 0, 0)\">z</span><span style=\"background-color:rgb(-17, 0, 0)\">-</span><span style=\"background-color:rgb(169, 0, 0)\">j</span><span style=\"background-color:rgb(-4, 0, 0)\">a</span><span style=\"background-color:rgb(-69, 0, 0)\">m</span><span style=\"background-color:rgb(9, 0, 0)\">e</span><span style=\"background-color:rgb(-59, 0, 0)\">s</span>"
      ],
      "text/plain": [
       "<IPython.core.display.HTML object>"
      ]
     },
     "metadata": {},
     "output_type": "display_data"
    },
    {
     "data": {
      "text/html": [
       "<span style=\"background-color:rgb(63, 0, 0)\">c</span><span style=\"background-color:rgb(-15, 0, 0)\">o</span><span style=\"background-color:rgb(-179, 0, 0)\">n</span><span style=\"background-color:rgb(3, 0, 0)\">c</span><span style=\"background-color:rgb(39, 0, 0)\">h</span><span style=\"background-color:rgb(19, 0, 0)\">e</span><span style=\"background-color:rgb(-47, 0, 0)\">z</span><span style=\"background-color:rgb(-11, 0, 0)\">-</span><span style=\"background-color:rgb(165, 0, 0)\">d</span><span style=\"background-color:rgb(-58, 0, 0)\">e</span><span style=\"background-color:rgb(-31, 0, 0)\">-</span><span style=\"background-color:rgb(96, 0, 0)\">b</span><span style=\"background-color:rgb(-103, 0, 0)\">é</span><span style=\"background-color:rgb(27, 0, 0)\">a</span><span style=\"background-color:rgb(-69, 0, 0)\">r</span><span style=\"background-color:rgb(-30, 0, 0)\">n</span>"
      ],
      "text/plain": [
       "<IPython.core.display.HTML object>"
      ]
     },
     "metadata": {},
     "output_type": "display_data"
    },
    {
     "data": {
      "text/html": [
       "<span style=\"background-color:rgb(63, 0, 0)\">w</span><span style=\"background-color:rgb(-57, 0, 0)\">a</span><span style=\"background-color:rgb(-80, 0, 0)\">l</span><span style=\"background-color:rgb(5, 0, 0)\">t</span><span style=\"background-color:rgb(-57, 0, 0)\">e</span><span style=\"background-color:rgb(-82, 0, 0)\">n</span><span style=\"background-color:rgb(40, 0, 0)\">h</span><span style=\"background-color:rgb(-18, 0, 0)\">e</span><span style=\"background-color:rgb(-67, 0, 0)\">i</span><span style=\"background-color:rgb(-41, 0, 0)\">m</span><span style=\"background-color:rgb(41, 0, 0)\">-</span><span style=\"background-color:rgb(165, 0, 0)\">s</span><span style=\"background-color:rgb(-61, 0, 0)\">u</span><span style=\"background-color:rgb(-90, 0, 0)\">r</span><span style=\"background-color:rgb(17, 0, 0)\">-</span><span style=\"background-color:rgb(31, 0, 0)\">z</span><span style=\"background-color:rgb(-62, 0, 0)\">o</span><span style=\"background-color:rgb(-133, 0, 0)\">r</span><span style=\"background-color:rgb(-22, 0, 0)\">n</span>"
      ],
      "text/plain": [
       "<IPython.core.display.HTML object>"
      ]
     },
     "metadata": {},
     "output_type": "display_data"
    },
    {
     "data": {
      "text/html": [
       "<span style=\"background-color:rgb(63, 0, 0)\">d</span><span style=\"background-color:rgb(-85, 0, 0)\">o</span><span style=\"background-color:rgb(-153, 0, 0)\">s</span><span style=\"background-color:rgb(56, 0, 0)\">s</span><span style=\"background-color:rgb(13, 0, 0)\">e</span><span style=\"background-color:rgb(-18, 0, 0)\">n</span><span style=\"background-color:rgb(77, 0, 0)\">h</span><span style=\"background-color:rgb(8, 0, 0)\">e</span><span style=\"background-color:rgb(-48, 0, 0)\">i</span><span style=\"background-color:rgb(-42, 0, 0)\">m</span><span style=\"background-color:rgb(31, 0, 0)\">-</span><span style=\"background-color:rgb(165, 0, 0)\">s</span><span style=\"background-color:rgb(-63, 0, 0)\">u</span><span style=\"background-color:rgb(-90, 0, 0)\">r</span><span style=\"background-color:rgb(18, 0, 0)\">-</span><span style=\"background-color:rgb(30, 0, 0)\">z</span><span style=\"background-color:rgb(-65, 0, 0)\">i</span><span style=\"background-color:rgb(30, 0, 0)\">n</span><span style=\"background-color:rgb(38, 0, 0)\">s</span><span style=\"background-color:rgb(54, 0, 0)\">e</span><span style=\"background-color:rgb(-26, 0, 0)\">l</span>"
      ],
      "text/plain": [
       "<IPython.core.display.HTML object>"
      ]
     },
     "metadata": {},
     "output_type": "display_data"
    },
    {
     "data": {
      "text/html": [
       "<span style=\"background-color:rgb(63, 0, 0)\">d</span><span style=\"background-color:rgb(-85, 0, 0)\">o</span><span style=\"background-color:rgb(-153, 0, 0)\">s</span><span style=\"background-color:rgb(56, 0, 0)\">s</span><span style=\"background-color:rgb(13, 0, 0)\">e</span><span style=\"background-color:rgb(-18, 0, 0)\">n</span><span style=\"background-color:rgb(77, 0, 0)\">h</span><span style=\"background-color:rgb(8, 0, 0)\">e</span><span style=\"background-color:rgb(-48, 0, 0)\">i</span><span style=\"background-color:rgb(-42, 0, 0)\">m</span><span style=\"background-color:rgb(31, 0, 0)\">-</span><span style=\"background-color:rgb(165, 0, 0)\">k</span><span style=\"background-color:rgb(-29, 0, 0)\">o</span><span style=\"background-color:rgb(-93, 0, 0)\">c</span><span style=\"background-color:rgb(77, 0, 0)\">h</span><span style=\"background-color:rgb(2, 0, 0)\">e</span><span style=\"background-color:rgb(-25, 0, 0)\">r</span><span style=\"background-color:rgb(-33, 0, 0)\">s</span><span style=\"background-color:rgb(46, 0, 0)\">b</span><span style=\"background-color:rgb(-46, 0, 0)\">e</span><span style=\"background-color:rgb(-25, 0, 0)\">r</span><span style=\"background-color:rgb(-49, 0, 0)\">g</span>"
      ],
      "text/plain": [
       "<IPython.core.display.HTML object>"
      ]
     },
     "metadata": {},
     "output_type": "display_data"
    },
    {
     "data": {
      "text/html": [
       "<span style=\"background-color:rgb(63, 0, 0)\">q</span><span style=\"background-color:rgb(-118, 0, 0)\">u</span><span style=\"background-color:rgb(-65, 0, 0)\">i</span><span style=\"background-color:rgb(-53, 0, 0)\">n</span><span style=\"background-color:rgb(29, 0, 0)\">c</span><span style=\"background-color:rgb(43, 0, 0)\">a</span><span style=\"background-color:rgb(-48, 0, 0)\">m</span><span style=\"background-color:rgb(-34, 0, 0)\">p</span><span style=\"background-color:rgb(-1, 0, 0)\">o</span><span style=\"background-color:rgb(-78, 0, 0)\">i</span><span style=\"background-color:rgb(-16, 0, 0)\">x</span><span style=\"background-color:rgb(59, 0, 0)\">-</span><span style=\"background-color:rgb(165, 0, 0)\">f</span><span style=\"background-color:rgb(-52, 0, 0)\">l</span><span style=\"background-color:rgb(8, 0, 0)\">e</span><span style=\"background-color:rgb(-89, 0, 0)\">u</span><span style=\"background-color:rgb(-33, 0, 0)\">z</span><span style=\"background-color:rgb(2, 0, 0)\">y</span>"
      ],
      "text/plain": [
       "<IPython.core.display.HTML object>"
      ]
     },
     "metadata": {},
     "output_type": "display_data"
    }
   ],
   "source": [
    "neurone = 56 # 21 = morville\n",
    "for i in top_indices[neurone]:\n",
    "\n",
    "    ville = \"\".join([dataset.int_to_char[k] for k in [p.item() for p in dataset.X_train[i.item()] if p.item() != 0] if k != 1 and k != 2])\n",
    "    act = model(dataset.X_train[i.item()].unsqueeze(0), act=True) # (B, L, 128)\n",
    "\n",
    "    print_colore(ville, act[0, :, neurone].tolist()[:len(ville)])\n",
    "\n",
    "# 58 = saint"
   ]
  },
  {
   "cell_type": "code",
   "execution_count": null,
   "metadata": {},
   "outputs": [],
   "source": []
  },
  {
   "cell_type": "markdown",
   "metadata": {},
   "source": [
    "### features interprétables ?"
   ]
  },
  {
   "cell_type": "code",
   "execution_count": 18,
   "metadata": {},
   "outputs": [],
   "source": [
    "top_k = 20\n",
    "batch_size = 64"
   ]
  },
  {
   "cell_type": "code",
   "execution_count": 19,
   "metadata": {},
   "outputs": [],
   "source": [
    "def update_top_k(top_values, top_indices, new_values, new_indices, k=20):\n",
    "    combined_values = torch.cat([top_values, new_values])\n",
    "    combined_indices = torch.cat([top_indices, new_indices])\n",
    "    \n",
    "    new_top_values, topk_indices = torch.topk(combined_values, k)\n",
    "    new_top_indices = combined_indices[topk_indices]\n",
    "    \n",
    "    return new_top_values, new_top_indices"
   ]
  },
  {
   "cell_type": "code",
   "execution_count": 20,
   "metadata": {},
   "outputs": [],
   "source": [
    "top_values = torch.full((sae.num_features, top_k), -float('inf'))\n",
    "top_indices = torch.full((sae.num_features, top_k), -1, dtype=torch.long)\n",
    "\n",
    "for i in range(0, X_train.shape[0], batch_size):\n",
    "    X = X_train[i:i+batch_size]\n",
    "    act = model(X, act=True) # (B, L, 128)\n",
    "    _, _, features, _, _ = sae(act)\n",
    "    max_features = features.max(dim=1).values # (B, 128)\n",
    "\n",
    "    for dim in range(sae.num_features):\n",
    "        dim_values = max_features[:, dim]\n",
    "        dim_indices = i + torch.arange(batch_size)\n",
    "\n",
    "        top_values[dim], top_indices[dim] = update_top_k(top_values[dim], top_indices[dim], dim_values, dim_indices)"
   ]
  },
  {
   "cell_type": "code",
   "execution_count": 41,
   "metadata": {},
   "outputs": [
    {
     "data": {
      "text/html": [
       "<span style=\"background-color:rgb(0, 0, 0)\">a</span><span style=\"background-color:rgb(0, 0, 0)\">l</span><span style=\"background-color:rgb(0, 0, 0)\">q</span><span style=\"background-color:rgb(97, 0, 0)\">u</span><span style=\"background-color:rgb(0, 0, 0)\">i</span><span style=\"background-color:rgb(0, 0, 0)\">n</span><span style=\"background-color:rgb(0, 0, 0)\">e</span><span style=\"background-color:rgb(21, 0, 0)\">s</span>"
      ],
      "text/plain": [
       "<IPython.core.display.HTML object>"
      ]
     },
     "metadata": {},
     "output_type": "display_data"
    },
    {
     "data": {
      "text/html": [
       "<span style=\"background-color:rgb(0, 0, 0)\">l</span><span style=\"background-color:rgb(0, 0, 0)\">a</span><span style=\"background-color:rgb(0, 0, 0)\">r</span><span style=\"background-color:rgb(0, 0, 0)\">o</span><span style=\"background-color:rgb(52, 0, 0)\">q</span><span style=\"background-color:rgb(95, 0, 0)\">u</span><span style=\"background-color:rgb(0, 0, 0)\">e</span><span style=\"background-color:rgb(12, 0, 0)\">-</span><span style=\"background-color:rgb(0, 0, 0)\">d</span><span style=\"background-color:rgb(0, 0, 0)\">'</span><span style=\"background-color:rgb(0, 0, 0)\">o</span><span style=\"background-color:rgb(19, 0, 0)\">l</span><span style=\"background-color:rgb(0, 0, 0)\">m</span><span style=\"background-color:rgb(0, 0, 0)\">e</span><span style=\"background-color:rgb(5, 0, 0)\">s</span>"
      ],
      "text/plain": [
       "<IPython.core.display.HTML object>"
      ]
     },
     "metadata": {},
     "output_type": "display_data"
    },
    {
     "data": {
      "text/html": [
       "<span style=\"background-color:rgb(0, 0, 0)\">l</span><span style=\"background-color:rgb(0, 0, 0)\">a</span><span style=\"background-color:rgb(0, 0, 0)\">r</span><span style=\"background-color:rgb(0, 0, 0)\">o</span><span style=\"background-color:rgb(52, 0, 0)\">q</span><span style=\"background-color:rgb(95, 0, 0)\">u</span><span style=\"background-color:rgb(0, 0, 0)\">e</span>"
      ],
      "text/plain": [
       "<IPython.core.display.HTML object>"
      ]
     },
     "metadata": {},
     "output_type": "display_data"
    },
    {
     "data": {
      "text/html": [
       "<span style=\"background-color:rgb(0, 0, 0)\">l</span><span style=\"background-color:rgb(0, 0, 0)\">a</span><span style=\"background-color:rgb(0, 0, 0)\">r</span><span style=\"background-color:rgb(0, 0, 0)\">o</span><span style=\"background-color:rgb(52, 0, 0)\">q</span><span style=\"background-color:rgb(95, 0, 0)\">u</span><span style=\"background-color:rgb(0, 0, 0)\">e</span><span style=\"background-color:rgb(12, 0, 0)\">b</span><span style=\"background-color:rgb(0, 0, 0)\">r</span><span style=\"background-color:rgb(0, 0, 0)\">o</span><span style=\"background-color:rgb(38, 0, 0)\">u</span>"
      ],
      "text/plain": [
       "<IPython.core.display.HTML object>"
      ]
     },
     "metadata": {},
     "output_type": "display_data"
    },
    {
     "data": {
      "text/html": [
       "<span style=\"background-color:rgb(0, 0, 0)\">l</span><span style=\"background-color:rgb(0, 0, 0)\">a</span><span style=\"background-color:rgb(0, 0, 0)\">r</span><span style=\"background-color:rgb(0, 0, 0)\">o</span><span style=\"background-color:rgb(52, 0, 0)\">q</span><span style=\"background-color:rgb(95, 0, 0)\">u</span><span style=\"background-color:rgb(0, 0, 0)\">e</span><span style=\"background-color:rgb(12, 0, 0)\">-</span><span style=\"background-color:rgb(0, 0, 0)\">d</span><span style=\"background-color:rgb(0, 0, 0)\">e</span><span style=\"background-color:rgb(0, 0, 0)\">-</span><span style=\"background-color:rgb(0, 0, 0)\">f</span><span style=\"background-color:rgb(0, 0, 0)\">a</span>"
      ],
      "text/plain": [
       "<IPython.core.display.HTML object>"
      ]
     },
     "metadata": {},
     "output_type": "display_data"
    },
    {
     "data": {
      "text/html": [
       "<span style=\"background-color:rgb(0, 0, 0)\">l</span><span style=\"background-color:rgb(0, 0, 0)\">a</span><span style=\"background-color:rgb(0, 0, 0)\">r</span><span style=\"background-color:rgb(0, 0, 0)\">o</span><span style=\"background-color:rgb(52, 0, 0)\">q</span><span style=\"background-color:rgb(95, 0, 0)\">u</span><span style=\"background-color:rgb(0, 0, 0)\">e</span><span style=\"background-color:rgb(12, 0, 0)\">-</span><span style=\"background-color:rgb(0, 0, 0)\">d</span><span style=\"background-color:rgb(0, 0, 0)\">e</span><span style=\"background-color:rgb(0, 0, 0)\">s</span><span style=\"background-color:rgb(0, 0, 0)\">-</span><span style=\"background-color:rgb(0, 0, 0)\">a</span><span style=\"background-color:rgb(0, 0, 0)\">r</span><span style=\"background-color:rgb(0, 0, 0)\">c</span><span style=\"background-color:rgb(5, 0, 0)\">s</span>"
      ],
      "text/plain": [
       "<IPython.core.display.HTML object>"
      ]
     },
     "metadata": {},
     "output_type": "display_data"
    },
    {
     "data": {
      "text/html": [
       "<span style=\"background-color:rgb(0, 0, 0)\">l</span><span style=\"background-color:rgb(0, 0, 0)\">a</span><span style=\"background-color:rgb(0, 0, 0)\">r</span><span style=\"background-color:rgb(0, 0, 0)\">o</span><span style=\"background-color:rgb(52, 0, 0)\">q</span><span style=\"background-color:rgb(95, 0, 0)\">u</span><span style=\"background-color:rgb(0, 0, 0)\">e</span><span style=\"background-color:rgb(12, 0, 0)\">-</span><span style=\"background-color:rgb(0, 0, 0)\">t</span><span style=\"background-color:rgb(0, 0, 0)\">i</span><span style=\"background-color:rgb(0, 0, 0)\">m</span><span style=\"background-color:rgb(0, 0, 0)\">b</span><span style=\"background-color:rgb(0, 0, 0)\">a</span><span style=\"background-color:rgb(0, 0, 0)\">u</span><span style=\"background-color:rgb(0, 0, 0)\">t</span>"
      ],
      "text/plain": [
       "<IPython.core.display.HTML object>"
      ]
     },
     "metadata": {},
     "output_type": "display_data"
    },
    {
     "data": {
      "text/html": [
       "<span style=\"background-color:rgb(0, 0, 0)\">l</span><span style=\"background-color:rgb(0, 0, 0)\">a</span><span style=\"background-color:rgb(0, 0, 0)\">r</span><span style=\"background-color:rgb(0, 0, 0)\">o</span><span style=\"background-color:rgb(52, 0, 0)\">q</span><span style=\"background-color:rgb(95, 0, 0)\">u</span><span style=\"background-color:rgb(0, 0, 0)\">e</span><span style=\"background-color:rgb(12, 0, 0)\">v</span><span style=\"background-color:rgb(0, 0, 0)\">i</span><span style=\"background-color:rgb(12, 0, 0)\">e</span><span style=\"background-color:rgb(43, 0, 0)\">i</span><span style=\"background-color:rgb(66, 0, 0)\">l</span><span style=\"background-color:rgb(0, 0, 0)\">l</span><span style=\"background-color:rgb(0, 0, 0)\">e</span>"
      ],
      "text/plain": [
       "<IPython.core.display.HTML object>"
      ]
     },
     "metadata": {},
     "output_type": "display_data"
    },
    {
     "data": {
      "text/html": [
       "<span style=\"background-color:rgb(0, 0, 0)\">l</span><span style=\"background-color:rgb(0, 0, 0)\">a</span><span style=\"background-color:rgb(0, 0, 0)\">r</span><span style=\"background-color:rgb(0, 0, 0)\">o</span><span style=\"background-color:rgb(52, 0, 0)\">q</span><span style=\"background-color:rgb(95, 0, 0)\">u</span><span style=\"background-color:rgb(0, 0, 0)\">e</span>"
      ],
      "text/plain": [
       "<IPython.core.display.HTML object>"
      ]
     },
     "metadata": {},
     "output_type": "display_data"
    },
    {
     "data": {
      "text/html": [
       "<span style=\"background-color:rgb(0, 0, 0)\">l</span><span style=\"background-color:rgb(0, 0, 0)\">a</span><span style=\"background-color:rgb(0, 0, 0)\">r</span><span style=\"background-color:rgb(0, 0, 0)\">o</span><span style=\"background-color:rgb(52, 0, 0)\">q</span><span style=\"background-color:rgb(95, 0, 0)\">u</span><span style=\"background-color:rgb(0, 0, 0)\">e</span><span style=\"background-color:rgb(12, 0, 0)\">-</span><span style=\"background-color:rgb(0, 0, 0)\">d</span><span style=\"background-color:rgb(0, 0, 0)\">e</span><span style=\"background-color:rgb(0, 0, 0)\">s</span><span style=\"background-color:rgb(0, 0, 0)\">-</span><span style=\"background-color:rgb(0, 0, 0)\">a</span><span style=\"background-color:rgb(0, 0, 0)\">l</span><span style=\"background-color:rgb(0, 0, 0)\">b</span><span style=\"background-color:rgb(0, 0, 0)\">è</span><span style=\"background-color:rgb(0, 0, 0)\">r</span><span style=\"background-color:rgb(0, 0, 0)\">e</span><span style=\"background-color:rgb(8, 0, 0)\">s</span>"
      ],
      "text/plain": [
       "<IPython.core.display.HTML object>"
      ]
     },
     "metadata": {},
     "output_type": "display_data"
    },
    {
     "data": {
      "text/html": [
       "<span style=\"background-color:rgb(0, 0, 0)\">i</span><span style=\"background-color:rgb(0, 0, 0)\">z</span><span style=\"background-color:rgb(0, 0, 0)\">e</span><span style=\"background-color:rgb(17, 0, 0)\">l</span><span style=\"background-color:rgb(0, 0, 0)\">-</span><span style=\"background-color:rgb(0, 0, 0)\">l</span><span style=\"background-color:rgb(11, 0, 0)\">è</span><span style=\"background-color:rgb(0, 0, 0)\">s</span><span style=\"background-color:rgb(0, 0, 0)\">-</span><span style=\"background-color:rgb(0, 0, 0)\">é</span><span style=\"background-color:rgb(0, 0, 0)\">q</span><span style=\"background-color:rgb(95, 0, 0)\">u</span><span style=\"background-color:rgb(0, 0, 0)\">e</span><span style=\"background-color:rgb(2, 0, 0)\">r</span><span style=\"background-color:rgb(0, 0, 0)\">c</span><span style=\"background-color:rgb(7, 0, 0)\">h</span><span style=\"background-color:rgb(0, 0, 0)\">i</span><span style=\"background-color:rgb(0, 0, 0)\">n</span>"
      ],
      "text/plain": [
       "<IPython.core.display.HTML object>"
      ]
     },
     "metadata": {},
     "output_type": "display_data"
    },
    {
     "data": {
      "text/html": [
       "<span style=\"background-color:rgb(0, 0, 0)\">l</span><span style=\"background-color:rgb(0, 0, 0)\">a</span><span style=\"background-color:rgb(0, 0, 0)\"> </span><span style=\"background-color:rgb(0, 0, 0)\">r</span><span style=\"background-color:rgb(0, 0, 0)\">o</span><span style=\"background-color:rgb(8, 0, 0)\">u</span><span style=\"background-color:rgb(0, 0, 0)\">q</span><span style=\"background-color:rgb(95, 0, 0)\">u</span><span style=\"background-color:rgb(0, 0, 0)\">e</span><span style=\"background-color:rgb(0, 0, 0)\">t</span><span style=\"background-color:rgb(0, 0, 0)\">t</span><span style=\"background-color:rgb(0, 0, 0)\">e</span>"
      ],
      "text/plain": [
       "<IPython.core.display.HTML object>"
      ]
     },
     "metadata": {},
     "output_type": "display_data"
    },
    {
     "data": {
      "text/html": [
       "<span style=\"background-color:rgb(0, 0, 0)\">l</span><span style=\"background-color:rgb(0, 0, 0)\">a</span><span style=\"background-color:rgb(0, 0, 0)\">l</span><span style=\"background-color:rgb(0, 0, 0)\">u</span><span style=\"background-color:rgb(0, 0, 0)\">q</span><span style=\"background-color:rgb(94, 0, 0)\">u</span><span style=\"background-color:rgb(0, 0, 0)\">e</span>"
      ],
      "text/plain": [
       "<IPython.core.display.HTML object>"
      ]
     },
     "metadata": {},
     "output_type": "display_data"
    },
    {
     "data": {
      "text/html": [
       "<span style=\"background-color:rgb(0, 0, 0)\">l</span><span style=\"background-color:rgb(0, 0, 0)\">a</span><span style=\"background-color:rgb(0, 0, 0)\">q</span><span style=\"background-color:rgb(92, 0, 0)\">u</span><span style=\"background-color:rgb(0, 0, 0)\">e</span><span style=\"background-color:rgb(8, 0, 0)\">u</span><span style=\"background-color:rgb(0, 0, 0)\">i</span><span style=\"background-color:rgb(19, 0, 0)\">l</span><span style=\"background-color:rgb(0, 0, 0)\">l</span><span style=\"background-color:rgb(0, 0, 0)\">e</span>"
      ],
      "text/plain": [
       "<IPython.core.display.HTML object>"
      ]
     },
     "metadata": {},
     "output_type": "display_data"
    },
    {
     "data": {
      "text/html": [
       "<span style=\"background-color:rgb(0, 0, 0)\">l</span><span style=\"background-color:rgb(0, 0, 0)\">a</span><span style=\"background-color:rgb(0, 0, 0)\">b</span><span style=\"background-color:rgb(0, 0, 0)\">o</span><span style=\"background-color:rgb(15, 0, 0)\">u</span><span style=\"background-color:rgb(0, 0, 0)\">q</span><span style=\"background-color:rgb(91, 0, 0)\">u</span><span style=\"background-color:rgb(0, 0, 0)\">e</span><span style=\"background-color:rgb(0, 0, 0)\">r</span><span style=\"background-color:rgb(0, 0, 0)\">i</span><span style=\"background-color:rgb(0, 0, 0)\">e</span>"
      ],
      "text/plain": [
       "<IPython.core.display.HTML object>"
      ]
     },
     "metadata": {},
     "output_type": "display_data"
    },
    {
     "data": {
      "text/html": [
       "<span style=\"background-color:rgb(0, 0, 0)\">p</span><span style=\"background-color:rgb(0, 0, 0)\">o</span><span style=\"background-color:rgb(19, 0, 0)\">u</span><span style=\"background-color:rgb(0, 0, 0)\">y</span><span style=\"background-color:rgb(0, 0, 0)\">-</span><span style=\"background-color:rgb(0, 0, 0)\">r</span><span style=\"background-color:rgb(0, 0, 0)\">o</span><span style=\"background-color:rgb(11, 0, 0)\">q</span><span style=\"background-color:rgb(90, 0, 0)\">u</span><span style=\"background-color:rgb(0, 0, 0)\">e</span><span style=\"background-color:rgb(13, 0, 0)\">l</span><span style=\"background-color:rgb(0, 0, 0)\">a</span><span style=\"background-color:rgb(21, 0, 0)\">u</span><span style=\"background-color:rgb(0, 0, 0)\">r</span><span style=\"background-color:rgb(0, 0, 0)\">e</span>"
      ],
      "text/plain": [
       "<IPython.core.display.HTML object>"
      ]
     },
     "metadata": {},
     "output_type": "display_data"
    },
    {
     "data": {
      "text/html": [
       "<span style=\"background-color:rgb(0, 0, 0)\">l</span><span style=\"background-color:rgb(0, 0, 0)\">e</span><span style=\"background-color:rgb(0, 0, 0)\"> </span><span style=\"background-color:rgb(0, 0, 0)\">t</span><span style=\"background-color:rgb(0, 0, 0)\">o</span><span style=\"background-color:rgb(17, 0, 0)\">u</span><span style=\"background-color:rgb(0, 0, 0)\">q</span><span style=\"background-color:rgb(90, 0, 0)\">u</span><span style=\"background-color:rgb(0, 0, 0)\">e</span><span style=\"background-color:rgb(1, 0, 0)\">t</span><span style=\"background-color:rgb(0, 0, 0)\">-</span><span style=\"background-color:rgb(0, 0, 0)\">p</span><span style=\"background-color:rgb(0, 0, 0)\">a</span><span style=\"background-color:rgb(0, 0, 0)\">r</span><span style=\"background-color:rgb(0, 0, 0)\">i</span><span style=\"background-color:rgb(0, 0, 0)\">s</span><span style=\"background-color:rgb(0, 0, 0)\">-</span><span style=\"background-color:rgb(0, 0, 0)\">p</span><span style=\"background-color:rgb(0, 0, 0)\">l</span><span style=\"background-color:rgb(1, 0, 0)\">a</span><span style=\"background-color:rgb(0, 0, 0)\">g</span><span style=\"background-color:rgb(5, 0, 0)\">e</span>"
      ],
      "text/plain": [
       "<IPython.core.display.HTML object>"
      ]
     },
     "metadata": {},
     "output_type": "display_data"
    },
    {
     "data": {
      "text/html": [
       "<span style=\"background-color:rgb(0, 0, 0)\">l</span><span style=\"background-color:rgb(0, 0, 0)\">o</span><span style=\"background-color:rgb(0, 0, 0)\">u</span><span style=\"background-color:rgb(0, 0, 0)\">r</span><span style=\"background-color:rgb(0, 0, 0)\">q</span><span style=\"background-color:rgb(90, 0, 0)\">u</span><span style=\"background-color:rgb(0, 0, 0)\">e</span><span style=\"background-color:rgb(15, 0, 0)\">n</span>"
      ],
      "text/plain": [
       "<IPython.core.display.HTML object>"
      ]
     },
     "metadata": {},
     "output_type": "display_data"
    },
    {
     "data": {
      "text/html": [
       "<span style=\"background-color:rgb(0, 0, 0)\">l</span><span style=\"background-color:rgb(0, 0, 0)\">a</span><span style=\"background-color:rgb(0, 0, 0)\">c</span><span style=\"background-color:rgb(23, 0, 0)\">q</span>"
      ],
      "text/plain": [
       "<IPython.core.display.HTML object>"
      ]
     },
     "metadata": {},
     "output_type": "display_data"
    },
    {
     "data": {
      "text/html": [
       "<span style=\"background-color:rgb(0, 0, 0)\">l</span><span style=\"background-color:rgb(0, 0, 0)\">a</span><span style=\"background-color:rgb(0, 0, 0)\">c</span><span style=\"background-color:rgb(23, 0, 0)\">q</span><span style=\"background-color:rgb(89, 0, 0)\">u</span><span style=\"background-color:rgb(0, 0, 0)\">y</span>"
      ],
      "text/plain": [
       "<IPython.core.display.HTML object>"
      ]
     },
     "metadata": {},
     "output_type": "display_data"
    }
   ],
   "source": [
    "feature = 200\n",
    "for i in top_indices[feature]:\n",
    "    ville = \"\".join([int_to_char[k] for k in [p.item() for p in X_train[i.item()] if p.item() != 0] if k != 1 and k != 2])\n",
    "    act = model(X_train[i.item()].unsqueeze(0), act=True) # (B, L, 128)\n",
    "    _, _, features, _, _ = sae(act)\n",
    "\n",
    "    print_colore(ville, features[0, :, feature].tolist()[:len(ville)])\n",
    "\n",
    "# 7 = saint mais pas au début\n",
    "# 8 = saint\n",
    "# 9 = présence de \"ch\""
   ]
  },
  {
   "cell_type": "code",
   "execution_count": null,
   "metadata": {},
   "outputs": [],
   "source": []
  },
  {
   "cell_type": "code",
   "execution_count": null,
   "metadata": {},
   "outputs": [],
   "source": []
  },
  {
   "cell_type": "code",
   "execution_count": 15,
   "metadata": {},
   "outputs": [],
   "source": []
  },
  {
   "cell_type": "code",
   "execution_count": null,
   "metadata": {},
   "outputs": [],
   "source": []
  },
  {
   "cell_type": "code",
   "execution_count": null,
   "metadata": {},
   "outputs": [],
   "source": []
  }
 ],
 "metadata": {
  "kernelspec": {
   "display_name": "torch24",
   "language": "python",
   "name": "python3"
  },
  "language_info": {
   "codemirror_mode": {
    "name": "ipython",
    "version": 3
   },
   "file_extension": ".py",
   "mimetype": "text/x-python",
   "name": "python",
   "nbconvert_exporter": "python",
   "pygments_lexer": "ipython3",
   "version": "3.12.3"
  }
 },
 "nbformat": 4,
 "nbformat_minor": 2
}
